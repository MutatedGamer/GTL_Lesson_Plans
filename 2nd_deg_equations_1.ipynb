{
 "cells": [
  {
   "cell_type": "markdown",
   "metadata": {
    "hideCode": true,
    "hidePrompt": true,
    "slideshow": {
     "slide_type": "slide"
    }
   },
   "source": [
    "# Second Degree Equations Part 1\n",
    "Luke Bordonaro"
   ]
  },
  {
   "cell_type": "markdown",
   "metadata": {
    "hideCode": true,
    "hidePrompt": true,
    "slideshow": {
     "slide_type": "slide"
    }
   },
   "source": [
    "## Topics\n",
    "* Understanding the degree of an equation\n",
    "* How to use the _quadratic formula_\n",
    "* How to factor any second degree expression with the _quadratic formula_\n",
    "* How to graph a parabola\n",
    "* How to solve a 2nd degree word problem by\n",
    "    * Graphing\n",
    "    * Factoring directly\n",
    "    * Using the quadratic equation"
   ]
  },
  {
   "cell_type": "markdown",
   "metadata": {
    "hideCode": true,
    "hidePrompt": true,
    "slideshow": {
     "slide_type": "slide"
    }
   },
   "source": [
    "## Some Review on Polynomials\n",
    "* Recall that a polynomial is a collection of terms. For example, $x^4 + 2x^2 + 5$ is a polynomial.\n",
    "* The **_degree_** of a polynomial is the highest exponent it has.\n",
    "    * $x^4 + 2x^2 + 5$ is a **_fourth_**, $4^{\\text{th}}$, degree polynomial, because the highest exponent is $4$\n",
    "* A _second degree equation_ is an equation where the maximum degree on either side is $2$\n",
    "    * $x^2 + 2x + 3 = 0$ is an example of a second degree equation"
   ]
  },
  {
   "cell_type": "markdown",
   "metadata": {
    "hideCode": true,
    "hidePrompt": true,
    "slideshow": {
     "slide_type": "slide"
    }
   },
   "source": [
    "## Practice\n",
    "\n",
    "For each of the following equations, determine if it is a second degree equation\n",
    "\n",
    "\\begin{gather}\n",
    "    x^3 + 2x^2 + 5x - = 0 \\\\\n",
    "    x^2 - 10x + 2 = 0 \\\\\n",
    "    x - 105 = 0 \\\\\n",
    "    x^2 = 25 \\\\\n",
    "    x^2 + 2x = 0 \\\\\n",
    "    0x^3 + 2x^2 + 8x - 5 = 2\n",
    "\\end{gather}"
   ]
  },
  {
   "cell_type": "markdown",
   "metadata": {
    "hideCode": true,
    "hidePrompt": true,
    "slideshow": {
     "slide_type": "subslide"
    }
   },
   "source": [
    "## Practice\n",
    "\n",
    "For each of the following equations, determine if it is a second degree equation\n",
    "\n",
    "\\begin{gather}\n",
    "    x^3 + 2x^2 + 5x - = 0 & \\text{NO}\\\\\n",
    "    x^2 - 10x + 2 = 0 \\\\\n",
    "    x - 105 = 0 \\\\\n",
    "    x^2 = 25 \\\\\n",
    "    x^2 + 2x = 0 \\\\\n",
    "    0x^3 + 2x^2 + 8x - 5 = 2\n",
    "\\end{gather}"
   ]
  },
  {
   "cell_type": "markdown",
   "metadata": {
    "hideCode": true,
    "hidePrompt": true,
    "slideshow": {
     "slide_type": "subslide"
    }
   },
   "source": [
    "## Practice\n",
    "\n",
    "For each of the following equations, determine if it is a second degree equation\n",
    "\n",
    "\\begin{gather}\n",
    "    x^3 + 2x^2 + 5x - = 0 & \\text{NO}\\\\\n",
    "    x^2 - 10x + 2 = 0 & \\text{YES}\\\\\n",
    "    x - 105 = 0 \\\\\n",
    "    x^2 = 25 \\\\\n",
    "    x^2 + 2x = 0 \\\\\n",
    "    0x^3 + 2x^2 + 8x - 5 = 2\n",
    "\\end{gather}"
   ]
  },
  {
   "cell_type": "markdown",
   "metadata": {
    "hideCode": true,
    "hidePrompt": true,
    "slideshow": {
     "slide_type": "subslide"
    }
   },
   "source": [
    "## Practice\n",
    "\n",
    "For each of the following equations, determine if it is a second degree equation\n",
    "\n",
    "\\begin{gather}\n",
    "    x^3 + 2x^2 + 5x - = 0 & \\text{NO}\\\\\n",
    "    x^2 - 10x + 2 = 0 & \\text{YES}\\\\\n",
    "    x - 105 = 0 & \\text{NO}\\\\\n",
    "    x^2 = 25 \\\\\n",
    "    x^2 + 2x = 0 \\\\\n",
    "    0x^3 + 2x^2 + 8x - 5 = 2\n",
    "\\end{gather}"
   ]
  },
  {
   "cell_type": "markdown",
   "metadata": {
    "hideCode": true,
    "hidePrompt": true,
    "slideshow": {
     "slide_type": "subslide"
    }
   },
   "source": [
    "## Practice\n",
    "\n",
    "For each of the following equations, determine if it is a second degree equation\n",
    "\n",
    "\\begin{gather}\n",
    "    x^3 + 2x^2 + 5x - = 0 & \\text{NO}\\\\\n",
    "    x^2 - 10x + 2 = 0 & \\text{YES}\\\\\n",
    "    x - 105 = 0 & \\text{NO}\\\\\n",
    "    x^2 = 25 & \\text{YES}\\\\\n",
    "    x^2 + 2x = 0 \\\\\n",
    "    0x^3 + 2x^2 + 8x - 5 = 2\n",
    "\\end{gather}"
   ]
  },
  {
   "cell_type": "markdown",
   "metadata": {
    "hideCode": true,
    "hidePrompt": true,
    "slideshow": {
     "slide_type": "subslide"
    }
   },
   "source": [
    "## Practice\n",
    "\n",
    "For each of the following equations, determine if it is a second degree equation\n",
    "\n",
    "\\begin{gather}\n",
    "    x^3 + 2x^2 + 5x - = 0 & \\text{NO}\\\\\n",
    "    x^2 - 10x + 2 = 0 & \\text{YES}\\\\\n",
    "    x - 105 = 0 & \\text{NO}\\\\\n",
    "    x^2 = 25 & \\text{YES}\\\\\n",
    "    x^2 + 2x = 0 & \\text{YES}\\\\\n",
    "    0x^3 + 2x^2 + 8x - 5 = 2\n",
    "\\end{gather}"
   ]
  },
  {
   "cell_type": "markdown",
   "metadata": {
    "hideCode": true,
    "hidePrompt": true,
    "slideshow": {
     "slide_type": "subslide"
    }
   },
   "source": [
    "## Practice\n",
    "\n",
    "For each of the following equations, determine if it is a second degree equation\n",
    "\n",
    "\\begin{gather}\n",
    "    x^3 + 2x^2 + 5x - = 0 & \\text{NO}\\\\\n",
    "    x^2 - 10x + 2 = 0 & \\text{YES}\\\\\n",
    "    x - 105 = 0 & \\text{NO}\\\\\n",
    "    x^2 = 25 & \\text{YES}\\\\\n",
    "    x^2 + 2x = 0 & \\text{YES}\\\\\n",
    "    0x^3 + 2x^2 + 8x - 5 = 2 & \\text{YES}\n",
    "\\end{gather}"
   ]
  },
  {
   "cell_type": "markdown",
   "metadata": {
    "hideCode": true,
    "hidePrompt": true,
    "slideshow": {
     "slide_type": "slide"
    }
   },
   "source": [
    "## Solving Second Degree (Quadratic) Equations\n",
    "\n",
    "We are going to be interested in solving the equation\n",
    "\n",
    "\\begin{equation}\n",
    "    ax^2 + bx + c = 0\n",
    "\\end{equation}\n",
    "\n",
    "Why $=0$?"
   ]
  },
  {
   "cell_type": "markdown",
   "metadata": {
    "hideCode": true,
    "hidePrompt": true,
    "slideshow": {
     "slide_type": "subslide"
    }
   },
   "source": [
    "Suppose we have a problem involving any quadratic equation. For example, the forms\n",
    "\n",
    "\\begin{align}\n",
    "    x^2 &= bx + c \\\\\n",
    "    x^2 + bc &= c\n",
    "\\end{align}\n",
    "\n",
    "where we are trying to solve for $x$. We can always re-arrange terms to set it equal to $0$\n",
    "\n",
    "\\begin{align}\n",
    "    x^2 = bx + c \\ &\\rightarrow \\ x^2 - bx - c = 0 \\\\\n",
    "    x^2 + bc = c \\ &\\rightarrow \\ x^2 + bx - c = 0\n",
    "\\end{align}\n",
    "\n",
    "Solving these equations gives the answers $x$ that solve the original equations!"
   ]
  },
  {
   "cell_type": "markdown",
   "metadata": {
    "hideCode": true,
    "hidePrompt": true,
    "slideshow": {
     "slide_type": "slide"
    }
   },
   "source": [
    "## Graphically solve the equation\n",
    "\n",
    "Let's say we are trying to solve $x^2 - 4 = 0$. Here is what the graph of $x^2 - 4$ looks like (we will learn how to graph later)"
   ]
  },
  {
   "cell_type": "code",
   "execution_count": 2,
   "metadata": {
    "hideCode": true,
    "hidePrompt": true,
    "slideshow": {
     "slide_type": "skip"
    }
   },
   "outputs": [],
   "source": [
    "import matplotlib.pyplot as plt\n",
    "import numpy as np"
   ]
  },
  {
   "cell_type": "code",
   "execution_count": 7,
   "metadata": {
    "hideCode": true,
    "hidePrompt": true,
    "slideshow": {
     "slide_type": "-"
    }
   },
   "outputs": [
    {
     "data": {
      "image/png": "[encoded data removed]",
      "text/plain": [
       "<Figure size 612x468 with 1 Axes>"
      ]
     },
     "metadata": {
      "needs_background": "light"
     },
     "output_type": "display_data"
    }
   ],
   "source": [
    "#hideme\n",
    "x = np.arange(-5, 5, 0.001)\n",
    "y = x**2 - 4\n",
    "\n",
    "fig = plt.figure(figsize=(8.5, 6.5))\n",
    "ax = fig.add_subplot(111)\n",
    "ax.plot(x, y)\n",
    "ax.spines['left'].set_position('zero')\n",
    "ax.spines['right'].set_color('none')\n",
    "ax.spines['bottom'].set_position('zero')\n",
    "ax.spines['top'].set_color('none')\n",
    "ax.xaxis.set_ticks_position('bottom')\n",
    "ax.yaxis.set_ticks_position('left')"
   ]
  },
  {
   "cell_type": "markdown",
   "metadata": {
    "hideCode": true,
    "hidePrompt": true,
    "slideshow": {
     "slide_type": "fragment"
    }
   },
   "source": [
    "The shape of this graph is called a **_parabola_**. **All second degree equations have the same shape.** What do we notice about the solution to $x^2 - 4 = 0$?"
   ]
  },
  {
   "cell_type": "markdown",
   "metadata": {
    "hideCode": true,
    "hidePrompt": true,
    "slideshow": {
     "slide_type": "slide"
    }
   },
   "source": [
    "## Introducing: the **_Quadratic Formula_** (the Quadratic Equation)\n",
    "\n",
    "Given an equation of the form\n",
    "\n",
    "\\begin{equation}\n",
    "    ax^2 + bx + c = 0\n",
    "\\end{equation}\n",
    "\n",
    "we can calculate the values of $x$ that solve the equation with\n",
    "\n",
    "\\begin{equation}\n",
    "    x = \\frac{-b \\pm \\sqrt{b^2 - 4ac}}{2a}\n",
    "\\end{equation}\n",
    "\n",
    "Notice the $\\pm$ here. This gives us two values, as we expect! \n",
    "\n",
    "These values of $x$ are called the **_roots of the parabola_**."
   ]
  },
  {
   "cell_type": "markdown",
   "metadata": {
    "hideCode": true,
    "hidePrompt": true,
    "slideshow": {
     "slide_type": "slide"
    }
   },
   "source": [
    "## **_Quadratic Formula_** Example\n",
    "\n",
    "Let's try it out on our previous example $x^2 - 4 = 0$. Here we have $a = 1$, $b = 0$, $c = -4$.\n",
    "\n",
    "\\begin{align}\n",
    "    x &= \\frac{-b \\pm \\sqrt{b^2 - 4ac}}{2a} \\\\\n",
    "    x &= \\frac{0 \\pm \\sqrt{0 - 4\\cdot 1\\cdot -4}}{2\\cdot 1} \\\\\n",
    "    x &= \\frac{\\pm \\sqrt{16}}{2} \\\\\n",
    "    x &= \\frac{\\pm 4}{2} \\\\\n",
    "    x &= \\pm 2\n",
    "\\end{align}\n",
    "\n",
    "We get $x=2$, $x=-2$, like we expected!"
   ]
  },
  {
   "cell_type": "markdown",
   "metadata": {
    "hideCode": true,
    "hidePrompt": true,
    "slideshow": {
     "slide_type": "slide"
    }
   },
   "source": [
    "## Let's practice!\n",
    "\n",
    "In groups of three, solve each of the following equations for $x$ using the quadratic formula\n",
    "\n",
    "\\begin{align}\n",
    "    x^2 - 1 &= 0 \\\\\n",
    "    x^2 - 3x - 10 &= 0 \\\\\n",
    "    x^2 + 4x - 5 &= 0 \\\\\n",
    "    x^2 + 1 &= 1 \\\\\n",
    "    -x^2 + x + 4 &= -2\n",
    "\\end{align}"
   ]
  },
  {
   "cell_type": "markdown",
   "metadata": {
    "hideCode": true,
    "hidePrompt": true,
    "slideshow": {
     "slide_type": "subslide"
    }
   },
   "source": [
    "## Let's practice example 1\n",
    "\n",
    "\\begin{equation}\n",
    "    x^2 - 1 = 0\n",
    "\\end{equation}\n",
    "\n",
    "$a=1$, $b=0$, $c=-1$\n",
    "\n",
    "\\begin{align}\n",
    "   x &= \\frac{-b \\pm \\sqrt{b^2 - 4ac}}{2a} \\\\\n",
    "   x &= \\frac{0 \\pm \\sqrt{0 - 4\\cdot 1 \\cdot -1}}{2\\cdot 1} \\\\\n",
    "   x &= \\frac{\\pm\\sqrt{4}}{2} \\\\\n",
    "   x &= \\frac{\\pm 2}{2} \\\\\n",
    "   x &= 1, -1\n",
    "\\end{align}"
   ]
  },
  {
   "cell_type": "markdown",
   "metadata": {
    "hideCode": true,
    "hidePrompt": true,
    "slideshow": {
     "slide_type": "subslide"
    }
   },
   "source": [
    "## Let's practice example 2\n",
    "\n",
    "\\begin{equation}\n",
    "    x^2 - 3x -10 = 0\n",
    "\\end{equation}\n",
    "\n",
    "$a=1$, $b=-3$, $c=-10$\n",
    "\n",
    "\\begin{align}\n",
    "   x &= \\frac{-b \\pm \\sqrt{b^2 - 4ac}}{2a} \\\\\n",
    "   x &= \\frac{3 \\pm \\sqrt{9 - 4\\cdot 1 \\cdot -10}}{2\\cdot 1} \\\\\n",
    "   x &= \\frac{3 \\pm\\sqrt{9 + 40}}{2} \\\\\n",
    "   x &= \\frac{3 \\pm 7}{2} \\\\\n",
    "   x &= 5, -2\n",
    "\\end{align}"
   ]
  },
  {
   "cell_type": "markdown",
   "metadata": {
    "hideCode": true,
    "hidePrompt": true,
    "slideshow": {
     "slide_type": "subslide"
    }
   },
   "source": [
    "## Let's practice example 3\n",
    "\n",
    "\\begin{equation}\n",
    "    x^2 +4x -5 = 0\n",
    "\\end{equation}\n",
    "\n",
    "$a=1$, $b=4$, $c=-5$\n",
    "\n",
    "\\begin{align}\n",
    "   x &= \\frac{-b \\pm \\sqrt{b^2 - 4ac}}{2a} \\\\\n",
    "   x &= \\frac{-4 \\pm \\sqrt{16 - 4\\cdot 1 \\cdot -5}}{2\\cdot 1} \\\\\n",
    "   x &= \\frac{-4 \\pm\\sqrt{16 + 20}}{2} \\\\\n",
    "   x &= \\frac{-4 \\pm 6}{2} \\\\\n",
    "   x &= 1, -5\n",
    "\\end{align}"
   ]
  },
  {
   "cell_type": "markdown",
   "metadata": {
    "hideCode": true,
    "hidePrompt": true,
    "slideshow": {
     "slide_type": "subslide"
    }
   },
   "source": [
    "## Let's practice example 4\n",
    "\n",
    "\\begin{align}\n",
    "    x^2 + 1 = 0 \\\\\n",
    "    x^2 = 0\n",
    "\\end{align}\n",
    "\n",
    "$a=1$, $b=0$, $c=0$\n",
    "\n",
    "\\begin{align}\n",
    "   x &= \\frac{-b \\pm \\sqrt{b^2 - 4ac}}{2a} \\\\\n",
    "   x &= \\frac{0 \\pm \\sqrt{0 - 4\\cdot 1 \\cdot 0}}{2\\cdot 1} \\\\\n",
    "   x &= \\frac{0 \\pm\\sqrt{0 + 0}}{2} \\\\\n",
    "   x &= \\frac{0 \\pm\\sqrt{0}}{2} \\\\\n",
    "   x &= 0, 0\n",
    "\\end{align}"
   ]
  },
  {
   "cell_type": "markdown",
   "metadata": {
    "hideCode": true,
    "hidePrompt": true,
    "slideshow": {
     "slide_type": "subslide"
    }
   },
   "source": [
    "## Let's practice example 5\n",
    "\n",
    "\\begin{align}\n",
    "    -x^2 + x + 4 = -2 \\ \\rightarrow \\ -x^2 + x + 6 = 0\n",
    "\\end{align}\n",
    "\n",
    "$a=-1$, $b=1$, $c=6$\n",
    "\n",
    "\\begin{align}\n",
    "   x &= \\frac{-b \\pm \\sqrt{b^2 - 4ac}}{2a} \\\\\n",
    "   x &= \\frac{-1 \\pm \\sqrt{1 - 4\\cdot -1 \\cdot 6}}{2\\cdot -1} \\\\\n",
    "   x &= \\frac{-1 \\pm\\sqrt{1 + 24}}{-2} \\\\\n",
    "   x &= \\frac{-1 \\pm 5}{-2} \\\\\n",
    "   x &= -2, 3\n",
    "\\end{align}"
   ]
  },
  {
   "cell_type": "markdown",
   "metadata": {
    "slideshow": {
     "slide_type": "slide"
    }
   },
   "source": [
    "## The Discriminant\n",
    "\n",
    "$$b^2 - 4ac$$ is a _very_ important number in our calculation (why?). It is called **_the discriminant_**.\n",
    "\n",
    "* If $b^2 - 4ac > 0$ then we have two _real roots_\n",
    "* If $b^2 - 4ac = 0$ then we have _repeated roots_\n",
    "* If $b^2 - 4ac < 0$ then roots our roots are complex (not real)"
   ]
  },
  {
   "cell_type": "markdown",
   "metadata": {
    "slideshow": {
     "slide_type": "slide"
    }
   },
   "source": [
    "## <span style=\"color: green\">True</span> or <span style=\"color: red\">False:</span> Roots are always rational numbers"
   ]
  },
  {
   "cell_type": "markdown",
   "metadata": {
    "slideshow": {
     "slide_type": "fragment"
    }
   },
   "source": [
    "<span style=\"color: red\">False.</span> If the discriminant is not a perfect square (i.e. $4$, $9$, $16$...) then $\\sqrt{b^2 - 4ac}$ will be _irrational_. This means are roots themselves are also irrational. "
   ]
  },
  {
   "cell_type": "markdown",
   "metadata": {
    "hideCode": true,
    "hidePrompt": true,
    "slideshow": {
     "slide_type": "slide"
    }
   },
   "source": [
    "## Let's practice!\n",
    "\n",
    "In groups of three, determine if the roots of each parabola are real, complex, or repeated. If they are real, determine if they are rational or irrational.\n",
    "\n",
    "\\begin{align}\n",
    "    x^2 - 5x +4 &= 0 \\\\\n",
    "    x^2 - 3x + 1 &= 0 \\\\\n",
    "    x^2 + 4x + 4 &= 0\n",
    "\\end{align}"
   ]
  },
  {
   "cell_type": "markdown",
   "metadata": {
    "hideCode": true,
    "hidePrompt": true,
    "slideshow": {
     "slide_type": "slide"
    }
   },
   "source": [
    "## Let's practice!\n",
    "\n",
    "In groups of three, determine if the roots of each parabola are real, complex, or repeated. If they are real, determine if they are rational or irrational.\n",
    "\n",
    "\\begin{align}\n",
    "    x^2 - 5x + 4 &= 0 && b^2 - 4ac = 25 - 16 = 9 \\rightarrow \\text{ real, rational}\\\\\n",
    "    x^2 - 3x + 1 &= 0 \\\\\n",
    "    x^2 + 4x + 4 &= 0 \\\\\n",
    "    x^2 + x + 10 &= 0\n",
    "\\end{align}"
   ]
  },
  {
   "cell_type": "markdown",
   "metadata": {
    "hideCode": true,
    "hidePrompt": true,
    "slideshow": {
     "slide_type": "slide"
    }
   },
   "source": [
    "## Let's practice!\n",
    "\n",
    "In groups of three, determine if the roots of each parabola are real, complex, or repeated. If they are real, determine if they are rational or irrational.\n",
    "\n",
    "\\begin{align}\n",
    "    x^2 - 5x + 4 &= 0 && b^2 - 4ac = 25 - 16 = 9 \\rightarrow \\text{ real, rational}\\\\\n",
    "    x^2 - 3x + 1 &= 0 && b^2 - 4ac = 9 - 4 = 5 \\rightarrow \\text{ real, irrational}\\\\\n",
    "    x^2 + 4x + 4 &= 0 \\\\\n",
    "    x^2 + x + 10 &= 0\n",
    "\\end{align}"
   ]
  },
  {
   "cell_type": "markdown",
   "metadata": {
    "hideCode": true,
    "hidePrompt": true,
    "slideshow": {
     "slide_type": "slide"
    }
   },
   "source": [
    "## Let's practice!\n",
    "\n",
    "In groups of three, determine if the roots of each parabola are real, complex, or repeated. If they are real, determine if they are rational or irrational.\n",
    "\n",
    "\\begin{align}\n",
    "    x^2 - 5x + 4 &= 0 && b^2 - 4ac = 25 - 16 = 9 \\rightarrow \\text{ real, rational}\\\\\n",
    "    x^2 - 3x + 1 &= 0 && b^2 - 4ac = 9 - 4 = 5 \\rightarrow \\text{ real, irrational}\\\\\n",
    "    x^2 + 4x + 4 &= 0 && b^2 - 4ac = 16 - 16 = 0 \\rightarrow \\text{ repeated} \\\\\n",
    "    x^2 + x + 10 &= 0\n",
    "\\end{align}"
   ]
  },
  {
   "cell_type": "markdown",
   "metadata": {
    "hideCode": true,
    "hidePrompt": true,
    "slideshow": {
     "slide_type": "slide"
    }
   },
   "source": [
    "## Let's practice!\n",
    "\n",
    "In groups of three, determine if the roots of each parabola are real, complex, or repeated. If they are real, determine if they are rational or irrational.\n",
    "\n",
    "\\begin{align}\n",
    "    x^2 - 5x + 4 &= 0 && b^2 - 4ac = 25 - 16 = 9 \\rightarrow \\text{ real, rational}\\\\\n",
    "    x^2 - 3x + 1 &= 0 && b^2 - 4ac = 9 - 4 = 5 \\rightarrow \\text{ real, irrational}\\\\\n",
    "    x^2 + 4x + 4 &= 0 && b^2 - 4ac = 16 - 16 = 0 \\rightarrow \\text{ repeated} \\\\\n",
    "    x^2 + x + 10 &= 0 && b^2 - 4ac = 1 - 40 = -39 \\rightarrow \\text{ complex} \\\\\n",
    "\\end{align}"
   ]
  },
  {
   "cell_type": "markdown",
   "metadata": {
    "hideCode": true,
    "hidePrompt": true,
    "slideshow": {
     "slide_type": "slide"
    }
   },
   "source": [
    "## Tomorrow\n",
    "\n",
    "Tomorrow we will see how we can use the quadratic formula to factor **_any_** quadratic expression. "
   ]
  }
 ],
 "metadata": {
  "celltoolbar": "Slideshow",
  "hide_code_all_hidden": true,
  "kernelspec": {
   "display_name": "Python 3",
   "language": "python",
   "name": "python3"
  },
  "language_info": {
   "codemirror_mode": {
    "name": "ipython",
    "version": 3
   },
   "file_extension": ".py",
   "mimetype": "text/x-python",
   "name": "python",
   "nbconvert_exporter": "python",
   "pygments_lexer": "ipython3",
   "version": "3.5.2"
  }
 },
 "nbformat": 4,
 "nbformat_minor": 2
}
