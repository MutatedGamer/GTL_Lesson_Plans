{
 "cells": [
  {
   "cell_type": "markdown",
   "metadata": {
    "slideshow": {
     "slide_type": "slide"
    }
   },
   "source": [
    "# Factoring numbers"
   ]
  },
  {
   "cell_type": "markdown",
   "metadata": {
    "slideshow": {
     "slide_type": "slide"
    }
   },
   "source": [
    "## What does it mean to factor?"
   ]
  },
  {
   "cell_type": "markdown",
   "metadata": {
    "slideshow": {
     "slide_type": "fragment"
    }
   },
   "source": [
    "We want to **_break down_** a number into the **_product_** of **_smaller numbers_**.\n",
    "\n",
    "\\begin{equation}\n",
    "    10 = 5 \\cdot 2\n",
    "\\end{equation}"
   ]
  },
  {
   "cell_type": "markdown",
   "metadata": {
    "slideshow": {
     "slide_type": "subslide"
    }
   },
   "source": [
    "### <span style=\"color: green\">True</span> or <span style=\"color:red\">false</span>: Every factorization of a number is unique"
   ]
  },
  {
   "cell_type": "markdown",
   "metadata": {
    "slideshow": {
     "slide_type": "subslide"
    }
   },
   "source": [
    "**<span style=\"color:red\">False!</span>**\n",
    "\n",
    "\\begin{align}\n",
    "    100 &= 10 \\cdot 10 = 10 \\cdot 5 \\cdot 2 = 5 \\cdot 2 \\cdot 5 \\cdot 2 \\\\\n",
    "    100 &= 50 \\cdot 2 = \\dots\n",
    "\\end{align}"
   ]
  },
  {
   "cell_type": "markdown",
   "metadata": {
    "slideshow": {
     "slide_type": "slide"
    }
   },
   "source": [
    "## Let's practice"
   ]
  },
  {
   "cell_type": "markdown",
   "metadata": {},
   "source": [
    "With a partner, factor these numbers into the product of two numbers\n",
    "\n",
    "\n",
    "\\begin{align}\n",
    "10 &= \\text{ ?} \\cdot \\text{ ?} \\\\\n",
    "25 &= \\text{ ?} \\cdot \\text{ ?} \\\\\n",
    "30 &= \\text{ ?} \\cdot \\text{ ?} \\\\\n",
    "42 &= \\text{ ?} \\cdot \\text{ ?}\n",
    "\\end{align}"
   ]
  },
  {
   "cell_type": "markdown",
   "metadata": {
    "slideshow": {
     "slide_type": "subslide"
    }
   },
   "source": [
    "## Let's practice"
   ]
  },
  {
   "cell_type": "markdown",
   "metadata": {},
   "source": [
    "With a partner, factor these numbers into the product of two numbers (un numero $\\rightarrow$ il prodotto di due numeri)\n",
    "\n",
    "\n",
    "\\begin{align}\n",
    "10 &= 5 \\cdot 2 \\\\\n",
    "25 &= 5 \\cdot 5 \\\\\n",
    "30 &= 10 \\cdot 3 \\\\\n",
    "42 &= 7 \\cdot 6\n",
    "\\end{align}"
   ]
  },
  {
   "cell_type": "markdown",
   "metadata": {
    "slideshow": {
     "slide_type": "slide"
    }
   },
   "source": [
    "## Why factor? "
   ]
  },
  {
   "cell_type": "markdown",
   "metadata": {},
   "source": [
    "It makes life easier!\n",
    "\n",
    "\n",
    "\\begin{equation}\n",
    "\\frac{1638}{63} = \\text{ ?}\n",
    "\\end{equation}\n",
    "\n",
    "\\begin{equation}\n",
    "    (48)^2 = \\text{ ?}\n",
    "\\end{equation}"
   ]
  },
  {
   "cell_type": "markdown",
   "metadata": {
    "slideshow": {
     "slide_type": "subslide"
    }
   },
   "source": [
    "## Why factor? "
   ]
  },
  {
   "cell_type": "markdown",
   "metadata": {},
   "source": [
    "It makes life easier!\n",
    "\n",
    "\\begin{equation}\n",
    "\\frac{1638}{63} = \\underbrace{\\frac{26 \\cdot 9 \\cdot 7}{9 \\cdot 7} = \\frac{26 \\cdot 7}{7}}_{\\text{factors cancel out!}} = 26\n",
    "\\end{equation}\n",
    "\n",
    "\\begin{equation}\n",
    "(48)^2 = \\left( 6 \\cdot 8 \\right)^2 = 6^2 \\cdot 8^2 = 36\\cdot 64 = 2304\n",
    "\\end{equation}"
   ]
  },
  {
   "cell_type": "markdown",
   "metadata": {
    "slideshow": {
     "slide_type": "slide"
    }
   },
   "source": [
    "## A new, powerful idea"
   ]
  },
  {
   "cell_type": "markdown",
   "metadata": {},
   "source": [
    "Is there a way to re-write this expression by factoring?\n",
    "\n",
    "$$\\begin{equation}\n",
    "10 + 15 + 20\n",
    "\\end{equation}$$"
   ]
  },
  {
   "cell_type": "markdown",
   "metadata": {
    "slideshow": {
     "slide_type": "fragment"
    }
   },
   "source": [
    "let's notice something...\n",
    "\n",
    "$$\\begin{equation}\n",
    "5 \\cdot 2 + 5 \\cdot 3 + 5 \\cdot 4\n",
    "\\end{equation}$$\n",
    "\n",
    "what now?"
   ]
  },
  {
   "cell_type": "markdown",
   "metadata": {
    "slideshow": {
     "slide_type": "fragment"
    }
   },
   "source": [
    "$$\\begin{equation}\n",
    "5 \\cdot 2 + 5 \\cdot 3 + 5 \\cdot 4 = \\boxed{5(2 + 3 + 4)}\n",
    "\\end{equation}$$\n",
    "\n",
    "wow! That looks a lot nicer!"
   ]
  },
  {
   "cell_type": "markdown",
   "metadata": {
    "slideshow": {
     "slide_type": "slide"
    }
   },
   "source": [
    "## What happened here?"
   ]
  },
  {
   "cell_type": "markdown",
   "metadata": {},
   "source": [
    "* Notice that the $5$ was a **_common factor_** to each number in our sum. \n",
    "* This means we can **_factor it out_** and multiply the remaining sum by it!\n",
    "\n",
    "$$\\begin{equation}\n",
    "\\underbrace{5 \\cdot 2 + 5 \\cdot 3 + 5 \\cdot 4}_{\\text{5 is a common factor}} = \\underbrace{5(2 + 3 + 4)}_{\\text{factor it out}}\n",
    "\\end{equation}$$"
   ]
  },
  {
   "cell_type": "markdown",
   "metadata": {
    "slideshow": {
     "slide_type": "slide"
    }
   },
   "source": [
    "### **<span style=\"color: green\">True</span> or <span style=\"color:red\">false</span>**: You can factor a variable out of an expression"
   ]
  },
  {
   "cell_type": "markdown",
   "metadata": {
    "slideshow": {
     "slide_type": "subslide"
    }
   },
   "source": [
    "**<span style=\"color: green\"> True! </span>**\n",
    "\n",
    "A variable really just represents a number. If a variable is common to every term, we can factor it out!\n",
    "\n",
    "\\begin{equation}\n",
    "    5x + 12x + 4x = x(5 + 12 + 4)\n",
    "\\end{equation}"
   ]
  },
  {
   "cell_type": "markdown",
   "metadata": {
    "slideshow": {
     "slide_type": "subslide"
    }
   },
   "source": [
    "## This works for any number!"
   ]
  },
  {
   "cell_type": "markdown",
   "metadata": {},
   "source": [
    "$$\\begin{equation}\n",
    "2x + 3x + 4x = x(2 + 3 + 4)\n",
    "\\end{equation}$$\n",
    "\n",
    "Notice  that $x = 5$ becomes our example from before"
   ]
  },
  {
   "cell_type": "markdown",
   "metadata": {
    "slideshow": {
     "slide_type": "slide"
    }
   },
   "source": [
    "## Let's play a game: find the greatest common factor!"
   ]
  },
  {
   "cell_type": "markdown",
   "metadata": {},
   "source": [
    "Team up with two other students and try to find the greatest common factor of each expression\n",
    "\n",
    "$$\\begin{align}\n",
    "12 + 28 &: \\text{ ?}\\\\\n",
    "7x + 14x &: \\text{ ?}\\\\\n",
    "5x^2 + 10x &: \\text{ ?}\\\\\n",
    "2 + 4x^2 + 32x &: \\text{ ?}\\\\\n",
    "36x + 12xy + 3x &: \\text{ ?}\n",
    "\\end{align}$$"
   ]
  },
  {
   "cell_type": "markdown",
   "metadata": {
    "slideshow": {
     "slide_type": "subslide"
    }
   },
   "source": [
    "## Let's play a game: find the greatest common factor!"
   ]
  },
  {
   "cell_type": "markdown",
   "metadata": {},
   "source": [
    "Team up with two other students and try to find the greatest common factor of each expression\n",
    "\n",
    "$$\\begin{align}\n",
    "12 + 28 &: 4\\\\\n",
    "7x + 14x &: 7x\\\\\n",
    "5x^2 + 10x &: 5x\\\\\n",
    "2 + 4x^2 + 32x &: 2\\\\\n",
    "36x + 12xy + 3x &: 3x\n",
    "\\end{align}$$"
   ]
  },
  {
   "cell_type": "markdown",
   "metadata": {
    "slideshow": {
     "slide_type": "slide"
    }
   },
   "source": [
    "## Let's use these common factors to factor our expression!"
   ]
  },
  {
   "cell_type": "markdown",
   "metadata": {},
   "source": [
    "Team up with two **different** students and factor each expression with our new common factors\n",
    "<br>\n",
    "<br>\n",
    "\n",
    "<div style=\"align:center\">\n",
    "    <div style=\"display: inline-block; width:45%; max-width:45%;\">\n",
    "        \\begin{align}\n",
    "            12 + 28 &: 4\\\\\n",
    "            7x + 14x &: 7x\\\\\n",
    "            5x^2 + 10x &: 5x\\\\\n",
    "            2 + 4x^2 + 32x &: 2\\\\\n",
    "            36x + 12xy + 3x &: 3x\n",
    "        \\end{align}\n",
    "    </div>\n",
    "    <div style=\"display: inline-block; width:45%; max-width:45%;\">\n",
    "        \\begin{align}\n",
    "            12 + 28 &= \\text{ ?}(\\text{ ?} + \\text{ ?})\\\\\n",
    "            7x + 14x &= \\text{ ?}(\\text{ ?} + \\text{ ?})\\\\\n",
    "            5x^2 + 10x &= \\text{ ?}(\\text{ ?} + \\text{ ?})\\\\\n",
    "            2 + 4x^2 + 32x &= \\text{ ?}(\\text{ ?} + \\text{ ?} + \\text{ ?})\\\\\n",
    "            36x + 12xy + 3x &= \\text{ ?}(\\text{ ?} + \\text{ ?} + \\text{ ?})\n",
    "        \\end{align}\n",
    "    </div>\n",
    "</div>"
   ]
  },
  {
   "cell_type": "markdown",
   "metadata": {
    "slideshow": {
     "slide_type": "subslide"
    }
   },
   "source": [
    "## Let's use these common factors to factor our expression!"
   ]
  },
  {
   "cell_type": "markdown",
   "metadata": {},
   "source": [
    "Team up with two **different** students and factor each expression with our new common factors\n",
    "<br>\n",
    "<br>\n",
    "\n",
    "<div style=\"align:center\">\n",
    "    <div style=\"display: inline-block; width:45%; max-width:45%;\">\n",
    "        \\begin{align}\n",
    "            12 + 28 &: 4\\\\\n",
    "            7x + 14x &: 7x\\\\\n",
    "            5x^2 + 10x &: 5x\\\\\n",
    "            2 + 4x^2 + 32x &: 2\\\\\n",
    "            36x + 12xy + 3x &: 3x\n",
    "        \\end{align}\n",
    "    </div>\n",
    "    <div style=\"display: inline-block; width:45%; max-width:45%;\">\n",
    "        \\begin{align}\n",
    "            12 + 28 &= 4(3 + 7)\\\\\n",
    "            7x + 14x &= \\text{ ?}(\\text{ ?} + \\text{ ?})\\\\\n",
    "            5x^2 + 10x &= \\text{ ?}(\\text{ ?} + \\text{ ?})\\\\\n",
    "            2 + 4x^2 + 32x &= \\text{ ?}(\\text{ ?} + \\text{ ?} + \\text{ ?})\\\\\n",
    "            36x + 12xy + 3x &= \\text{ ?}(\\text{ ?} + \\text{ ?} + \\text{ ?})\n",
    "        \\end{align}\n",
    "    </div>\n",
    "</div>"
   ]
  },
  {
   "cell_type": "markdown",
   "metadata": {
    "slideshow": {
     "slide_type": "subslide"
    }
   },
   "source": [
    "## Let's use these common factors to factor our expression!"
   ]
  },
  {
   "cell_type": "markdown",
   "metadata": {},
   "source": [
    "Team up with two **different** students and factor each expression with our new common factors\n",
    "<br>\n",
    "<br>\n",
    "\n",
    "<div style=\"align:center\">\n",
    "    <div style=\"display: inline-block; width:45%; max-width:45%;\">\n",
    "        \\begin{align}\n",
    "            12 + 28 &: 4\\\\\n",
    "            7x + 14x &: 7x\\\\\n",
    "            5x^2 + 10x &: 5x\\\\\n",
    "            2 + 4x^2 + 32x &: 2\\\\\n",
    "            36x + 12xy + 3x &: 3x\n",
    "        \\end{align}\n",
    "    </div>\n",
    "    <div style=\"display: inline-block; width:45%; max-width:45%;\">\n",
    "        \\begin{align}\n",
    "            12 + 28 &= 4(3 + 7)\\\\\n",
    "            7x + 14x &= 7x(1 + 2)\\\\\n",
    "            5x^2 + 10x &= \\text{ ?}(\\text{ ?} + \\text{ ?})\\\\\n",
    "            2 + 4x^2 + 32x &= \\text{ ?}(\\text{ ?} + \\text{ ?} + \\text{ ?})\\\\\n",
    "            36x + 12xy + 3x &= \\text{ ?}(\\text{ ?} + \\text{ ?} + \\text{ ?})\n",
    "        \\end{align}\n",
    "    </div>\n",
    "</div>"
   ]
  },
  {
   "cell_type": "markdown",
   "metadata": {
    "slideshow": {
     "slide_type": "subslide"
    }
   },
   "source": [
    "## Let's use these common factors to factor our expression!"
   ]
  },
  {
   "cell_type": "markdown",
   "metadata": {},
   "source": [
    "Team up with two **different** students and factor each expression with our new common factors\n",
    "<br>\n",
    "<br>\n",
    "\n",
    "<div style=\"align:center\">\n",
    "    <div style=\"display: inline-block; width:45%; max-width:45%;\">\n",
    "        \\begin{align}\n",
    "            12 + 28 &: 4\\\\\n",
    "            7x + 14x &: 7x\\\\\n",
    "            5x^2 + 10x &: 5x\\\\\n",
    "            2 + 4x^2 + 32x &: 2\\\\\n",
    "            36x + 12xy + 3x &: 3x\n",
    "        \\end{align}\n",
    "    </div>\n",
    "    <div style=\"display: inline-block; width:45%; max-width:45%;\">\n",
    "        \\begin{align}\n",
    "            12 + 28 &= 4(3 + 7)\\\\\n",
    "            7x + 14x &= 7x(1 + 2)\\\\\n",
    "            5x^2 + 10x &= 5x(x + 2)\\\\\n",
    "            2 + 4x^2 + 32x &= \\text{ ?}(\\text{ ?} + \\text{ ?} + \\text{ ?})\\\\\n",
    "            36x + 12xy + 3x &= \\text{ ?}(\\text{ ?} + \\text{ ?} + \\text{ ?})\n",
    "        \\end{align}\n",
    "    </div>\n",
    "</div>"
   ]
  },
  {
   "cell_type": "markdown",
   "metadata": {
    "slideshow": {
     "slide_type": "subslide"
    }
   },
   "source": [
    "## Let's use these common factors to factor our expression!"
   ]
  },
  {
   "cell_type": "markdown",
   "metadata": {},
   "source": [
    "Team up with two **different** students and factor each expression with our new common factors\n",
    "<br>\n",
    "<br>\n",
    "\n",
    "<div style=\"align:center\">\n",
    "    <div style=\"display: inline-block; width:45%; max-width:45%;\">\n",
    "        \\begin{align}\n",
    "            12 + 28 &: 4\\\\\n",
    "            7x + 14x &: 7x\\\\\n",
    "            5x^2 + 10x &: 5x\\\\\n",
    "            2 + 4x^2 + 32x &: 2\\\\\n",
    "            36x + 12xy + 3x &: 3x\n",
    "        \\end{align}\n",
    "    </div>\n",
    "    <div style=\"display: inline-block; width:45%; max-width:45%;\">\n",
    "        \\begin{align}\n",
    "            12 + 28 &= 4(3 + 7)\\\\\n",
    "            7x + 14x &= 7x(1 + 2)\\\\\n",
    "            5x^2 + 10x &= 5x(x + 2)\\\\\n",
    "            2 + 4x^2 + 32x &= 2(1 + 2x^2 + 16x)\\\\\n",
    "            36x + 12xy + 3x &= \\text{ ?}(\\text{ ?} + \\text{ ?} + \\text{ ?})\n",
    "        \\end{align}\n",
    "    </div>\n",
    "</div>"
   ]
  },
  {
   "cell_type": "markdown",
   "metadata": {
    "slideshow": {
     "slide_type": "subslide"
    }
   },
   "source": [
    "## Let's use these common factors to factor our expression!"
   ]
  },
  {
   "cell_type": "markdown",
   "metadata": {},
   "source": [
    "Team up with two **different** students and factor each expression with our new common factors\n",
    "<br>\n",
    "<br>\n",
    "\n",
    "<div style=\"align:center\">\n",
    "    <div style=\"display: inline-block; width:45%; max-width:45%;\">\n",
    "        \\begin{align}\n",
    "            12 + 28 &: 4\\\\\n",
    "            7x + 14x &: 7x\\\\\n",
    "            5x^2 + 10x &: 5x\\\\\n",
    "            2 + 4x^2 + 32x &: 2\\\\\n",
    "            36x + 12xy + 3x &: 3x\n",
    "        \\end{align}\n",
    "    </div>\n",
    "    <div style=\"display: inline-block; width:45%; max-width:45%;\">\n",
    "        \\begin{align}\n",
    "            12 + 28 &= 4(3 + 7)\\\\\n",
    "            7x + 14x &= 7x(1 + 2)\\\\\n",
    "            5x^2 + 10x &= 5x(x + 2)\\\\\n",
    "            2 + 4x^2 + 32x &= 2(1 + 2x^2 + 16x)\\\\\n",
    "            36x + 12xy + 3x &= 3x(12 + 4y + 1)\n",
    "        \\end{align}\n",
    "    </div>\n",
    "</div>"
   ]
  },
  {
   "cell_type": "markdown",
   "metadata": {
    "slideshow": {
     "slide_type": "slide"
    }
   },
   "source": [
    "### **<span style=\"color: green\">True</span> or <span style=\"color:red\">false</span>**: Every expression has a greatest common factor $> 1$"
   ]
  },
  {
   "cell_type": "markdown",
   "metadata": {
    "slideshow": {
     "slide_type": "subslide"
    }
   },
   "source": [
    "**<span style=\"color: red\"> False! </span>**\n",
    "\n",
    "Some expressions just don't have anything in common 😞. Consder the following expressions\n",
    "\n",
    "\\begin{gather}\n",
    "    2 + 5 + 11 \\\\\n",
    "    3x + yz - 6 \\\\\n",
    "    14x^2 + 9x - 2\n",
    "\\end{gather}"
   ]
  },
  {
   "cell_type": "markdown",
   "metadata": {
    "slideshow": {
     "slide_type": "slide"
    }
   },
   "source": [
    "## Factor the following expressions (if possible)\n",
    "\n",
    "\\begin{equation}\n",
    "    4x^3 + 6x^2y + 12x\n",
    "\\end{equation}"
   ]
  },
  {
   "cell_type": "markdown",
   "metadata": {
    "slideshow": {
     "slide_type": "subslide"
    }
   },
   "source": [
    "## Factor the following expressions (if possible)\n",
    "\n",
    "\\begin{equation}\n",
    "    4x^3 + 6x^2y + 12x\n",
    "\\end{equation}\n",
    "\n",
    "\\begin{equation}\n",
    "    4x^3 + 6x^2y + 12x = 2x(2x^2 + 3xy + 6)\n",
    "\\end{equation}"
   ]
  },
  {
   "cell_type": "markdown",
   "metadata": {
    "slideshow": {
     "slide_type": "slide"
    }
   },
   "source": [
    "## Factor the following expressions (if possible)\n",
    "\n",
    "\\begin{equation}\n",
    "    2x + 5y + 7z\n",
    "\\end{equation}"
   ]
  },
  {
   "cell_type": "markdown",
   "metadata": {
    "slideshow": {
     "slide_type": "subslide"
    }
   },
   "source": [
    "## Factor the following expressions (if possible)\n",
    "\n",
    "\\begin{equation}\n",
    "    2x + 5y + 7z\n",
    "\\end{equation}\n",
    "\n",
    "No common factor :("
   ]
  },
  {
   "cell_type": "markdown",
   "metadata": {
    "slideshow": {
     "slide_type": "slide"
    }
   },
   "source": [
    "## Factor the following expressions (if possible)\n",
    "\n",
    "\\begin{equation}\n",
    "    25x^3y^5 - 15x^2y^3\n",
    "\\end{equation}"
   ]
  },
  {
   "cell_type": "markdown",
   "metadata": {
    "slideshow": {
     "slide_type": "subslide"
    }
   },
   "source": [
    "## Factor the following expressions (if possible)\n",
    "\n",
    "\\begin{equation}\n",
    "    25x^3y^5 - 15x^2y^3\n",
    "\\end{equation}\n",
    "\n",
    "\\begin{equation}\n",
    "    25x^3y^5 - 15x^2y^3 = 5x^2y^3(5xy^2 - 3)\n",
    "\\end{equation}"
   ]
  },
  {
   "cell_type": "markdown",
   "metadata": {
    "slideshow": {
     "slide_type": "slide"
    }
   },
   "source": [
    "## Factor the following expressions (if possible)\n",
    "\n",
    "\\begin{equation}\n",
    "    12x^3y^5z^6 + 2y^5z^3 + 5x^2z^3 + 24xy\n",
    "\\end{equation}"
   ]
  },
  {
   "cell_type": "markdown",
   "metadata": {
    "slideshow": {
     "slide_type": "subslide"
    }
   },
   "source": [
    "## Factor the following expressions (if possible)\n",
    "\n",
    "\\begin{equation}\n",
    "    12x^3y^5z^6 + 2y^5z^3 + 5x^2z^3 + 24xy\n",
    "\\end{equation}\n",
    "\n",
    "No common factor :("
   ]
  },
  {
   "cell_type": "markdown",
   "metadata": {
    "slideshow": {
     "slide_type": "slide"
    }
   },
   "source": [
    "## Factor the following expressions (if possible)\n",
    "\n",
    "\\begin{equation}\n",
    "    3x^2(y + z) + 6x(12 - z)\n",
    "\\end{equation}"
   ]
  },
  {
   "cell_type": "markdown",
   "metadata": {
    "slideshow": {
     "slide_type": "subslide"
    }
   },
   "source": [
    "## Factor the following expressions (if possible)\n",
    "\\begin{equation}\n",
    "    3x^2(y + z) + 6x(12 - z)\n",
    "\\end{equation}\n",
    "\n",
    "\\begin{equation}\n",
    "    3x^2(y + z) + 6x(12 - z) = 3x\\left( x(y+z) + 2(12 - z) \\right)\n",
    "\\end{equation}"
   ]
  },
  {
   "cell_type": "markdown",
   "metadata": {
    "slideshow": {
     "slide_type": "slide"
    }
   },
   "source": [
    "## Factor the following expressions (if possible)\n",
    "\n",
    "\\begin{equation}\n",
    "    25x ( 6 - x )^2 + 5z ( 6 - x)\n",
    "\\end{equation}"
   ]
  },
  {
   "cell_type": "markdown",
   "metadata": {
    "slideshow": {
     "slide_type": "subslide"
    }
   },
   "source": [
    "## Factor the following expressions (if possible)\n",
    "\n",
    "\\begin{equation}\n",
    "    25x ( 6 - x )^2 + 5z ( 6 - x)\n",
    "\\end{equation}\n",
    "\n",
    "\\begin{equation}\n",
    "    25x ( 6 - x ) + 5z ( 6 - x) = 5(6-x) \\left(5x + z \\right)\n",
    "\\end{equation}"
   ]
  },
  {
   "cell_type": "markdown",
   "metadata": {
    "slideshow": {
     "slide_type": "slide"
    }
   },
   "source": [
    "## Factor the following expressions (if possible)\n",
    "\n",
    "\\begin{equation}\n",
    "    25x ( 6 - x )^2 + 2z ( 12 - x)\n",
    "\\end{equation}"
   ]
  },
  {
   "cell_type": "markdown",
   "metadata": {
    "slideshow": {
     "slide_type": "subslide"
    }
   },
   "source": [
    "## Factor the following expressions (if possible)\n",
    "\n",
    "\\begin{equation}\n",
    "    25x ( 6 - x )^2 + 5z ( 6 - x)\n",
    "\\end{equation}\n",
    "\n",
    "No common factor :("
   ]
  },
  {
   "cell_type": "markdown",
   "metadata": {
    "slideshow": {
     "slide_type": "slide"
    }
   },
   "source": [
    "## Next time we will learn some more factoring techniques!"
   ]
  }
 ],
 "metadata": {
  "celltoolbar": "Slideshow",
  "kernelspec": {
   "display_name": "Python 3",
   "language": "python",
   "name": "python3"
  },
  "language_info": {
   "codemirror_mode": {
    "name": "ipython",
    "version": 3
   },
   "file_extension": ".py",
   "mimetype": "text/x-python",
   "name": "python",
   "nbconvert_exporter": "python",
   "pygments_lexer": "ipython3",
   "version": "3.5.2"
  },
  "livereveal": {
   "theme": "cappuccino",
   "transition": "none"
  }
 },
 "nbformat": 4,
 "nbformat_minor": 2
}
