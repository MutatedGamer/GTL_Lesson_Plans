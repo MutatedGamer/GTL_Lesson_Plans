{
 "cells": [
  {
   "cell_type": "markdown",
   "metadata": {
    "slideshow": {
     "slide_type": ""
    }
   },
   "source": [
    "# Factoring Part 2\n",
    "More advanced techniques!"
   ]
  },
  {
   "cell_type": "markdown",
   "metadata": {
    "slideshow": {
     "slide_type": "slide"
    }
   },
   "source": [
    "## Before we start...\n",
    "\n",
    "Pair up with somebody and try to simplify the expression\n",
    "\n",
    "\\begin{equation}\n",
    "    \\frac{36x^2 + 24xy + 18x^3}{6xyz + 48x^2}\n",
    "\\end{equation}"
   ]
  },
  {
   "cell_type": "markdown",
   "metadata": {
    "slideshow": {
     "slide_type": "fragment"
    }
   },
   "source": [
    "Notice we have a common factor of $6x$ on both the top and bottom!\n",
    "\n",
    "\\begin{equation}\n",
    "    \\frac{6x(6x + 4y + 3x^2)}{6x(yz + 8x)} = \\boxed{\\frac{6x + 4y + 3x^2}{yz + 8x}}\n",
    "\\end{equation}"
   ]
  },
  {
   "cell_type": "markdown",
   "metadata": {
    "slideshow": {
     "slide_type": "slide"
    }
   },
   "source": [
    "## What _is_ factoring?"
   ]
  },
  {
   "cell_type": "markdown",
   "metadata": {
    "slideshow": {
     "slide_type": "fragment"
    }
   },
   "source": [
    "* Last week:  \n",
    " > **breaking down** a number a number into the **_product_** of **_smaller numbers_**.\n",
    "* But what is a _number_?"
   ]
  },
  {
   "cell_type": "markdown",
   "metadata": {
    "slideshow": {
     "slide_type": "fragment"
    }
   },
   "source": [
    "1. The number $5$ is a number\n",
    "2. The expression $5x$ represents a number, for some $x$\n",
    "3. But.... what about the expression $(x^2 + 6x + 9)$\n",
    "  * There's no common factor we can take out 😞"
   ]
  },
  {
   "cell_type": "markdown",
   "metadata": {
    "slideshow": {
     "slide_type": "slide"
    }
   },
   "source": [
    "### But it still just represents a number!\n",
    "\n",
    "<span style=\"color: green\">True</span> or <span style=\"color: red\">False</span>: we can factor $(x^2 + 6x + 9)$ into the product of two other expressions"
   ]
  },
  {
   "cell_type": "markdown",
   "metadata": {
    "slideshow": {
     "slide_type": "fragment"
    }
   },
   "source": [
    "**<span style=\"color: green\">True</span>** Let's find out how!"
   ]
  },
  {
   "cell_type": "markdown",
   "metadata": {
    "slideshow": {
     "slide_type": "slide"
    }
   },
   "source": [
    "## The Special Product\n",
    "\n",
    "Let us consider the following expression\n",
    "\n",
    "\\begin{equation}\n",
    "    (x+a)(x+a)\n",
    "\\end{equation}"
   ]
  },
  {
   "cell_type": "markdown",
   "metadata": {
    "slideshow": {
     "slide_type": "fragment"
    }
   },
   "source": [
    "here is what happens when we multiply everything out \n",
    "\n",
    "\\begin{equation}\n",
    "    (x+a)(x+a) = x^2 + ax + ax + a^2 = x^2 + 2ax + a^2\n",
    "\\end{equation}"
   ]
  },
  {
   "cell_type": "markdown",
   "metadata": {
    "slideshow": {
     "slide_type": "fragment"
    }
   },
   "source": [
    "Look what happens when we let $a=3$!\n",
    "\n",
    "\\begin{equation}\n",
    "    (x + 3)(x+3) = x^2 + 6x + 9\n",
    "\\end{equation}\n",
    "#  😮 😮 😮\n"
   ]
  },
  {
   "cell_type": "markdown",
   "metadata": {
    "slideshow": {
     "slide_type": "slide"
    }
   },
   "source": [
    "## The Special Product\n",
    "\n",
    "\\begin{equation}\n",
    "    (x + 3)(x+3) = x^2 + 6x + 9\n",
    "\\end{equation}\n",
    "\n",
    "This tells us that $x^2 + 6x + 9$ can be **_factored_** into the product $(x + 3)(x+3)$!"
   ]
  },
  {
   "cell_type": "markdown",
   "metadata": {
    "slideshow": {
     "slide_type": "slide"
    }
   },
   "source": [
    "## What to look for\n",
    "\n",
    "Let's study the equation\n",
    "\n",
    "\\begin{equation}\n",
    "    x^2 + 2ax + a^2\n",
    "\\end{equation}\n",
    "\n",
    "There are four things to look for\n",
    "1. All terms are positive (they have a $+$)\n",
    "2. The first term is is $x$^2\n",
    "3. The second term is $2x$ times some number $a$\n",
    "4. The third term is the **_square_** of that number $a$"
   ]
  },
  {
   "cell_type": "markdown",
   "metadata": {
    "slideshow": {
     "slide_type": "fragment"
    }
   },
   "source": [
    "If we see this form, we know we can factor into $(x+a)^2$! **😃**"
   ]
  },
  {
   "cell_type": "markdown",
   "metadata": {
    "slideshow": {
     "slide_type": "slide"
    }
   },
   "source": [
    "## Let's practice!\n",
    "With a partner, try to factor these expressions\n",
    "\n",
    "1. All terms are positive (they have a $+$)\n",
    "2. The first term is is $x$^2\n",
    "3. The second term is $2x$ times some number $a$\n",
    "4. The third term is the **_square_** of that number $a$\n",
    "\n",
    "\\begin{align}\n",
    "    x^2 + 4x + 4 &= (x + \\text{ ?})^2\\\\\n",
    "    x^2 + 12x + 36 &= (x + \\text{ ?})^2\\\\\n",
    "    4x^2 + 12x + 9 &= (\\text{?} + \\text{ ?})^2\n",
    "\\end{align}"
   ]
  },
  {
   "cell_type": "markdown",
   "metadata": {
    "slideshow": {
     "slide_type": "subslide"
    }
   },
   "source": [
    "## Let's practice!\n",
    "With a partner, try to factor these expressions\n",
    "\n",
    "1. All terms are positive (they have a $+$)\n",
    "2. The first term is is $x$^2\n",
    "3. The second term is $2x$ times some number $a$\n",
    "4. The third term is the **_square_** of that number $a$\n",
    "\n",
    "\\begin{align}\n",
    "    x^2 + 4x + 4 &= (x + 2)^2\\\\\n",
    "    x^2 + 12x + 36 &= (x + \\text{ ?})^2\\\\\n",
    "    4x^2 + 12x + 9 &= (\\text{?} + \\text{ ?})^2\n",
    "\\end{align}"
   ]
  },
  {
   "cell_type": "markdown",
   "metadata": {
    "slideshow": {
     "slide_type": "subslide"
    }
   },
   "source": [
    "## Let's practice!\n",
    "With a partner, try to factor these expressions\n",
    "\n",
    "1. All terms are positive (they have a $+$)\n",
    "2. The first term is is $x$^2\n",
    "3. The second term is $2x$ times some number $a$\n",
    "4. The third term is the **_square_** of that number $a$\n",
    "\n",
    "\\begin{align}\n",
    "    x^2 + 4x + 4 &= (x + 2)^2\\\\\n",
    "    x^2 + 12x + 36 &= (x + 6)^2\\\\\n",
    "    4x^2 + 12x + 9 &= (\\text{?} + \\text{ ?})^2\n",
    "\\end{align}"
   ]
  },
  {
   "cell_type": "markdown",
   "metadata": {
    "slideshow": {
     "slide_type": "subslide"
    }
   },
   "source": [
    "## Let's practice!\n",
    "With a partner, try to factor these expressions\n",
    "\n",
    "1. All terms are positive (they have a $+$)\n",
    "2. The first term is is $x$^2\n",
    "3. The second term is $2x$ times some number $a$\n",
    "4. The third term is the **_square_** of that number $a$\n",
    "\n",
    "\\begin{align}\n",
    "    x^2 + 4x + 4 &= (x + 2)^2\\\\\n",
    "    x^2 + 12x + 36 &= (x + 6)^2\\\\\n",
    "    4x^2 + 12x + 9 &= (2x + 3)^2 \\text{ ????????}\n",
    "\\end{align}"
   ]
  },
  {
   "cell_type": "markdown",
   "metadata": {
    "slideshow": {
     "slide_type": "slide"
    }
   },
   "source": [
    "## What's happening with $(4x^2 + 12x + 9) = (2x + 3)^2$ ???\n",
    "\n",
    "Remember our equation\n",
    "\n",
    "\\begin{equation}\n",
    "    x^2 + 2ax + a^2 = (x + a)^2\n",
    "\\end{equation}\n",
    "\n",
    "<span style=\"color: green\">True</span> or <span style=\"color: red\">False</span>: this is also the case where $a = 3$"
   ]
  },
  {
   "cell_type": "markdown",
   "metadata": {
    "slideshow": {
     "slide_type": "fragment"
    }
   },
   "source": [
    "**<span style=\"color: green\">True!</span>** Notice the last term is still $9 = a^2$\n",
    "\n",
    "So what's happening?"
   ]
  },
  {
   "cell_type": "markdown",
   "metadata": {
    "slideshow": {
     "slide_type": "subslide"
    }
   },
   "source": [
    "## What's happening with $(4x^2 + 12x + 9) = (2x + 3)^2$ ???\n",
    "\n",
    "Remember our equation\n",
    "\n",
    "\\begin{equation}\n",
    "    x^2 + 2ax + a^2 = (x + a)^2\n",
    "\\end{equation}\n",
    "\n",
    "We are just letting $x \\rightarrow 2x$!\n",
    "* This means that $x^2 \\rightarrow 4x^2$   \n",
    " This is because the 2 also gets squared!\n",
    "* This also means that $2x \\rightarrow 4x$\n",
    "* Notice our last term, $a^2$, does not change!"
   ]
  },
  {
   "cell_type": "markdown",
   "metadata": {
    "slideshow": {
     "slide_type": "slide"
    }
   },
   "source": [
    "## Some more special products\n",
    "\n",
    "Work together with the **_same_** partner to try and factor the following two equations. We are looking for something that looks like\n",
    "\n",
    "\\begin{equation}\n",
    "    (\\text{? } \\pm \\text{ ?})(\\text{? } \\pm \\text{ ?})\n",
    "\\end{equation}\n",
    "\n",
    "Don't be afraid to ask for help!\n",
    "\n",
    "\\begin{align}\n",
    "    x^2 + 18x + 81 &= (\\text{? } \\pm \\text{ ?})(\\text{? } \\pm \\text{ ?}) \\\\\n",
    "    x^2 - 18x + 81 &= (\\text{? } \\pm \\text{ ?})(\\text{? } \\pm \\text{ ?}) \\\\\n",
    "    x^2 - 81 &= (\\text{? } \\pm \\text{ ?})(\\text{? } \\pm \\text{ ?})\n",
    "\\end{align}"
   ]
  },
  {
   "cell_type": "markdown",
   "metadata": {
    "slideshow": {
     "slide_type": "subslide"
    }
   },
   "source": [
    "## Some more special products\n",
    "\n",
    "Work together with the **_same_** partner to try and factor the following two equations. We are looking for something that looks like\n",
    "\n",
    "\\begin{equation}\n",
    "    (\\text{? } \\pm \\text{ ?})(\\text{? } \\pm \\text{ ?})\n",
    "\\end{equation}\n",
    "\n",
    "Don't be afraid to ask for help!\n",
    "\n",
    "\\begin{align}\n",
    "    x^2 + 18x + 81 &= (x+9)(x+9) && a=9\\\\\n",
    "    x^2 - 18x + 81 &= (\\text{? } \\pm \\text{ ?})(\\text{? } \\pm \\text{ ?}) \\\\\n",
    "    x^2 - 81 &= (\\text{? } \\pm \\text{ ?})(\\text{? } \\pm \\text{ ?})\n",
    "\\end{align}"
   ]
  },
  {
   "cell_type": "markdown",
   "metadata": {
    "slideshow": {
     "slide_type": "subslide"
    }
   },
   "source": [
    "## Some more special products\n",
    "\n",
    "Work together with the **_same_** partner to try and factor the following two equations. We are looking for something that looks like\n",
    "\n",
    "\\begin{equation}\n",
    "    (\\text{? } \\pm \\text{ ?})(\\text{? } \\pm \\text{ ?})\n",
    "\\end{equation}\n",
    "\n",
    "Don't be afraid to ask for help!\n",
    "\n",
    "\\begin{align}\n",
    "    x^2 + 18x + 81 &= (x+9)(x+9) && a=9\\\\\n",
    "    x^2 - 18x + 81 &= (x-9)(x-9) && a=-9 \\\\\n",
    "    x^2 - 81 &= (\\text{? } \\pm \\text{ ?})(\\text{? } \\pm \\text{ ?})\n",
    "\\end{align}"
   ]
  },
  {
   "cell_type": "markdown",
   "metadata": {
    "slideshow": {
     "slide_type": "subslide"
    }
   },
   "source": [
    "## Some more special products\n",
    "\n",
    "Work together with the **_same_** partner to try and factor the following two equations. We are looking for something that looks like\n",
    "\n",
    "\\begin{equation}\n",
    "    (\\text{? } \\pm \\text{ ?})(\\text{? } \\pm \\text{ ?})\n",
    "\\end{equation}\n",
    "\n",
    "Don't be afraid to ask for help!\n",
    "\n",
    "\\begin{align}\n",
    "    x^2 + 18x + 81 &= (x+9)(x+9) && a=9\\\\\n",
    "    x^2 - 18x + 81 &= (x-9)(x-9) && a=-9 \\\\\n",
    "    x^2 - 81 &= (x+9)(x-9) && \\text{ ?????}\n",
    "\\end{align}"
   ]
  },
  {
   "cell_type": "markdown",
   "metadata": {
    "slideshow": {
     "slide_type": "slide"
    }
   },
   "source": [
    "## What is happening with $x^2 - 81 &= (x+9)(x-9)$ ??\n",
    "\n",
    "When we multiply $(x+a)(x-a)$, our middle term cancels out! We're left with only $x^2 - a^2$ 😮 😮 😮!\n",
    "\n",
    "This means that we can factor\n",
    "\n",
    "\\begin{align}\n",
    "    x^2 - a^2 &= (x+a)(x-a) \\\\\n",
    "    \\text{(in general)   } a^2 - b^2 &= (a+b)(a-b)\n",
    "\\end{align}\n",
    "\n",
    "The form $a^2 - b^2$ is known as the **difference of two perfect squares**, and is something very useful and important to be able to recognize!"
   ]
  },
  {
   "cell_type": "markdown",
   "metadata": {
    "slideshow": {
     "slide_type": "slide"
    }
   },
   "source": [
    "## Wrapping Up\n",
    "\n",
    "We've seen some really useful equations for factoring today!\n",
    "\n",
    "\\begin{align}\n",
    "    x^2 + 2ax + a^2 = (x + a)^2 \\\\\n",
    "    x^2 - 2ax + a^2 = (x - a)^2 \\\\\n",
    "    x^2 - a^2 = (x+a)(x-a)\n",
    "\\end{align}\n",
    "\n",
    "Don't forget what we saw last time: **_factoring out a common factor_**. \n",
    "\n",
    "Can you factor the follow expression completely? _Hint: first take out a common factor!_\n",
    "\n",
    "\\begin{equation}\n",
    "    50x + 20x^2 + 2x^3\n",
    "\\end{equation}"
   ]
  }
 ],
 "metadata": {
  "celltoolbar": "Slideshow",
  "kernelspec": {
   "display_name": "Python 3",
   "language": "python",
   "name": "python3"
  },
  "language_info": {
   "codemirror_mode": {
    "name": "ipython",
    "version": 3
   },
   "file_extension": ".py",
   "mimetype": "text/x-python",
   "name": "python",
   "nbconvert_exporter": "python",
   "pygments_lexer": "ipython3",
   "version": "3.5.2"
  }
 },
 "nbformat": 4,
 "nbformat_minor": 2
}
