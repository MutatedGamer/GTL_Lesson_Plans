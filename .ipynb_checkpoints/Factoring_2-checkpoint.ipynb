{
 "cells": [
  {
   "cell_type": "code",
   "execution_count": 1,
   "metadata": {},
   "outputs": [
    {
     "data": {
      "text/html": [
       "<script>\n",
       "code_show=true; \n",
       "function code_toggle() {\n",
       " if (code_show){\n",
       " $('div.input').hide();\n",
       " $('div.input_prompt').hide()\n",
       " } else {\n",
       " $('div.input').show();\n",
       " }\n",
       " code_show = !code_show\n",
       "} \n",
       "$( document ).ready(code_toggle);\n",
       "</script>\n",
       "<form action=\"javascript:code_toggle()\"><input type=\"submit\" value=\"Magic Button.\"></form>"
      ],
      "text/plain": [
       "<IPython.core.display.HTML object>"
      ]
     },
     "execution_count": 1,
     "metadata": {},
     "output_type": "execute_result"
    }
   ],
   "source": [
    "from IPython.display import HTML\n",
    "\n",
    "HTML('''<script>\n",
    "code_show=true; \n",
    "function code_toggle() {\n",
    " if (code_show){\n",
    " $('div.input').hide();\n",
    " $('div.input_prompt').hide()\n",
    " } else {\n",
    " $('div.input').show();\n",
    " }\n",
    " code_show = !code_show\n",
    "} \n",
    "$( document ).ready(code_toggle);\n",
    "</script>\n",
    "<form action=\"javascript:code_toggle()\"><input type=\"submit\" value=\"Magic Button.\"></form>''')"
   ]
  },
  {
   "cell_type": "markdown",
   "metadata": {
    "slideshow": {
     "slide_type": "slide"
    }
   },
   "source": [
    "# Factoring Part 2: Il Prodotto Speciale\n",
    "More advanced techniques!"
   ]
  },
  {
   "cell_type": "markdown",
   "metadata": {
    "slideshow": {
     "slide_type": "slide"
    }
   },
   "source": [
    "## Before we start...\n",
    "\n",
    "Pair up with somebody and try to simplify the expression (_hint: look for common factors!_)\n",
    "\n",
    "\\begin{equation}\n",
    "    \\frac{36x^2 + 24xy + 18x^3}{6xyz + 48x^2}\n",
    "\\end{equation}"
   ]
  },
  {
   "cell_type": "markdown",
   "metadata": {
    "slideshow": {
     "slide_type": "subslide"
    }
   },
   "source": [
    "We have a common factor of $6x$ on both the top and bottom!\n",
    "\n",
    "\\begin{equation}\n",
    "    \\frac{36x^2 + 24xy + 18x^3}{6xyz + 48x^2} = \\frac{6x(6x + 4y + 3x^2)}{6x(yz + 8x)} = \\boxed{\\frac{6x + 4y + 3x^2}{yz + 8x}}\n",
    "\\end{equation}"
   ]
  },
  {
   "cell_type": "markdown",
   "metadata": {
    "slideshow": {
     "slide_type": "slide"
    }
   },
   "source": [
    "## What _is_ factoring?"
   ]
  },
  {
   "cell_type": "markdown",
   "metadata": {
    "slideshow": {
     "slide_type": "fragment"
    }
   },
   "source": [
    "* Last week:  \n",
    " > **breaking down** a number a number into the **_product_** of **_smaller numbers_**.\n",
    "* But what is a _number_?"
   ]
  },
  {
   "cell_type": "markdown",
   "metadata": {
    "slideshow": {
     "slide_type": "fragment"
    }
   },
   "source": [
    "1. The number $5$ is a number\n",
    "2. The expression $5x$ represents a number, for some $x$\n",
    "3. But.... what about the expression $(x^2 + 6x + 9)$\n",
    "  * There's no common factor we can take out 😞"
   ]
  },
  {
   "cell_type": "markdown",
   "metadata": {
    "slideshow": {
     "slide_type": "slide"
    }
   },
   "source": [
    "## The Special Product\n",
    "\n",
    "Let us consider the following expression\n",
    "\n",
    "\\begin{equation}\n",
    "    (x+a)(x+a) = (x+a)^2\n",
    "\\end{equation}"
   ]
  },
  {
   "cell_type": "markdown",
   "metadata": {
    "slideshow": {
     "slide_type": "fragment"
    }
   },
   "source": [
    "here is what happens when we multiply everything out \n",
    "\n",
    "\\begin{equation}\n",
    "    (x+a)(x+a) = x^2 + ax + ax + a^2 = x^2 + 2ax + a^2\n",
    "\\end{equation}"
   ]
  },
  {
   "cell_type": "markdown",
   "metadata": {
    "slideshow": {
     "slide_type": "fragment"
    }
   },
   "source": [
    "Look what happens when we let $a=3$!\n",
    "\n",
    "\\begin{equation}\n",
    "    (x + 3)(x+3) = x^2 + 6x + 9\n",
    "\\end{equation}\n",
    "#  😮 😮 😮\n"
   ]
  },
  {
   "cell_type": "markdown",
   "metadata": {
    "slideshow": {
     "slide_type": "slide"
    }
   },
   "source": [
    "## What to look for\n",
    "\n",
    "Let's study the equation\n",
    "\n",
    "\\begin{equation}\n",
    "    x^2 + 2ax + a^2\n",
    "\\end{equation}\n",
    "\n",
    "There are four things to look for\n",
    "1. All terms are positive (they have a $+$)\n",
    "2. The first term has $x^2$\n",
    "3. The second term is $2x$ times some number $a$\n",
    "4. The third term is the **_square_** of that number $a$"
   ]
  },
  {
   "cell_type": "markdown",
   "metadata": {
    "slideshow": {
     "slide_type": "fragment"
    }
   },
   "source": [
    "If we see this form, we know we can factor into $(x+a)^2$! **😃**"
   ]
  },
  {
   "cell_type": "markdown",
   "metadata": {
    "slideshow": {
     "slide_type": "slide"
    }
   },
   "source": [
    "## An example\n",
    "\n",
    "The formula is\n",
    "\\begin{equation}\n",
    "    x^2 + 2ax + a^2 = (x + a)^2\n",
    "\\end{equation}\n",
    "\n",
    "\n",
    "Let us try to factor $$x^2 + 6x + 9$$\n",
    "\n",
    "\\begin{align}\n",
    "    \\underbrace{x^2 + 2(3)x + 3(3)}_{a = 3} \\\\\n",
    "    (x + 3)(x + 3)\n",
    "\\end{align}"
   ]
  },
  {
   "cell_type": "markdown",
   "metadata": {
    "slideshow": {
     "slide_type": "slide"
    }
   },
   "source": [
    "## Let's practice!\n",
    "\\begin{equation}\n",
    "    x^2 + 2ax + a^2 = (x + a)^2\n",
    "\\end{equation}\n",
    "\n",
    "With a partner, try to factor these expressions\n",
    "\n",
    "\\begin{align}\n",
    "    x^2 + 4x + 4 &= (x + \\text{ ?})^2\\\\\n",
    "    x^2 + 12x + 36 &= (x + \\text{ ?})^2 \\\\\n",
    "    x^2 + 24x + 144 &= (x + \\text{ ?}) \\\\\n",
    "    2x^2 + 16x + 32 &= \\text{ ?}\n",
    "\\end{align}"
   ]
  },
  {
   "cell_type": "markdown",
   "metadata": {
    "slideshow": {
     "slide_type": "subslide"
    }
   },
   "source": [
    "## Let's practice!\n",
    "\\begin{equation}\n",
    "    x^2 + 2ax + a^2 = (x + a)^2\n",
    "\\end{equation}\n",
    "\n",
    "With a partner, try to factor these expressions\n",
    "\n",
    "\\begin{align}\n",
    "    x^2 + 4x + 4 &= (x + 2)^2\\\\\n",
    "    x^2 + 12x + 36 &= (x + \\text{ ?})^2 \\\\\n",
    "    x^2 + 24x + 144 &= (x + \\text{ ?}) \\\\\n",
    "    2x^2 + 16x + 32 &= \\text{ ?}\n",
    "\\end{align}"
   ]
  },
  {
   "cell_type": "markdown",
   "metadata": {
    "slideshow": {
     "slide_type": "subslide"
    }
   },
   "source": [
    "## Let's practice!\n",
    "\\begin{equation}\n",
    "    x^2 + 2ax + a^2 = (x + a)^2\n",
    "\\end{equation}\n",
    "\n",
    "With a partner, try to factor these expressions\n",
    "\n",
    "\\begin{align}\n",
    "    x^2 + 4x + 4 &= (x + 2)^2\\\\\n",
    "    x^2 + 12x + 36 &= (x + 6)^2 \\\\\n",
    "    x^2 + 24x + 144 &= (x + \\text{ ?}) \\\\ \n",
    "    2x^2 + 16x + 32 &= \\text{ ?}\n",
    "\\end{align}"
   ]
  },
  {
   "cell_type": "markdown",
   "metadata": {
    "slideshow": {
     "slide_type": "subslide"
    }
   },
   "source": [
    "## Let's practice!\n",
    "\\begin{equation}\n",
    "    x^2 + 2ax + a^2 = (x + a)^2\n",
    "\\end{equation}\n",
    "\n",
    "With a partner, try to factor these expressions\n",
    "\n",
    "\\begin{align}\n",
    "    x^2 + 4x + 4 &= (x + 2)^2\\\\\n",
    "    x^2 + 12x + 36 &= (x + 6)^2 \\\\\n",
    "    x^2 + 24x + 144 &= (x + 12) \\\\\n",
    "    2x^2 + 16x + 32 &= \\text{ ?}\n",
    "\\end{align}"
   ]
  },
  {
   "cell_type": "markdown",
   "metadata": {
    "slideshow": {
     "slide_type": "subslide"
    }
   },
   "source": [
    "## Let's practice!\n",
    "\\begin{equation}\n",
    "    x^2 + 2ax + a^2 = (x + a)^2\n",
    "\\end{equation}\n",
    "\n",
    "With a partner, try to factor these expressions\n",
    "\n",
    "\\begin{align}\n",
    "    x^2 + 4x + 4 &= (x + 2)^2\\\\\n",
    "    x^2 + 12x + 36 &= (x + 6)^2 \\\\\n",
    "    x^2 + 24x + 144 &= (x + 12) \\\\\n",
    "    2x^2 + 16x + 32 &= 2(x^2 + 8x + 16) = 2(x  + 4)^2\n",
    "\\end{align}"
   ]
  },
  {
   "cell_type": "markdown",
   "metadata": {
    "slideshow": {
     "slide_type": "slide"
    }
   },
   "source": [
    "## A harder example\n",
    "\n",
    "Recall the formula is\n",
    "\\begin{equation}\n",
    "    x^2 + 2ax + a^2 = (x + a)^2\n",
    "\\end{equation}\n",
    "\n",
    "Let us take a look at $$4x^2 + 12x + 9$$\n",
    "\n",
    "<span style=\"color: green\">True</span> or <span style=\"color: red\">False</span>: this is also the case where $a = 3$"
   ]
  },
  {
   "cell_type": "markdown",
   "metadata": {
    "slideshow": {
     "slide_type": "slide"
    }
   },
   "source": [
    "## A harder example\n",
    "\n",
    "Recall the formula is\n",
    "\\begin{equation}\n",
    "    x^2 + 2ax + a^2 = (x + a)^2\n",
    "\\end{equation}\n",
    "\n",
    "Let us take a look at $$4x^2 + 12x + 9$$\n",
    "\n",
    "<span style=\"color: green\">True</span> or <span style=\"color: red\">False</span>: this is also the case where $a = 3$\n",
    "\n",
    "**<span style=\"color: green\">True!</span>** We can always look at the last term"
   ]
  },
  {
   "cell_type": "markdown",
   "metadata": {
    "slideshow": {
     "slide_type": "slide"
    }
   },
   "source": [
    "## A harder example\n",
    "\n",
    "Recall the formula is\n",
    "\\begin{equation}\n",
    "    x^2 + 2ax + a^2 = (x + a)^2\n",
    "\\end{equation}\n",
    "\n",
    "Let us take a look at $$4x^2 + 12x + 9$$\n",
    "\n",
    "We can write this as\n",
    "\n",
    "\\begin{equation}\n",
    "    (2x)^2 + 2(3)(2x) + 3^2\n",
    "\\end{equation}"
   ]
  },
  {
   "cell_type": "markdown",
   "metadata": {
    "slideshow": {
     "slide_type": "slide"
    }
   },
   "source": [
    "## A harder example\n",
    "\n",
    "Recall the formula is\n",
    "\\begin{equation}\n",
    "    x^2 + 2ax + a^2 = (x + a)^2\n",
    "\\end{equation}\n",
    "\n",
    "Let us take a look at $$4x^2 + 12x + 9$$\n",
    "\n",
    "We can write this as\n",
    "\n",
    "\\begin{equation}\n",
    "    (2x)^2 + 2(3)(2x) + 3^2 = (2x + 3)^2\n",
    "\\end{equation}"
   ]
  },
  {
   "cell_type": "markdown",
   "metadata": {
    "slideshow": {
     "slide_type": "slide"
    }
   },
   "source": [
    "## Let's Practice\n",
    "\n",
    "With a partner, factor the following expression (_Hint: what is $a$?_)\n",
    "\n",
    "\\begin{equation}\n",
    "    9x^2 + 12x + 4\n",
    "\\end{equation}"
   ]
  },
  {
   "cell_type": "markdown",
   "metadata": {
    "slideshow": {
     "slide_type": "slide"
    }
   },
   "source": [
    "## Let's Practice \n",
    "\n",
    "Recall the formula is\n",
    "\\begin{equation}\n",
    "    x^2 + 2ax + a^2 = (x + a)^2\n",
    "\\end{equation}\n",
    "\n",
    "Let us re-write our expression after seeing $a=2$\n",
    "\\begin{gather}\n",
    "    9x^2 + 12x + 4 \\\\\n",
    "    (3x)^2 + 2(2)(3x) + 2^2 \\\\\n",
    "    (3x + 2)^2\n",
    "\\end{gather}"
   ]
  },
  {
   "cell_type": "markdown",
   "metadata": {
    "slideshow": {
     "slide_type": "slide"
    }
   },
   "source": [
    "## Some more special products\n",
    "\n",
    "Work together with the **_same_** partner to try and factor the following two equations\n",
    "\n",
    "\\begin{align}\n",
    "    x^2 + 18x + 81 \\\\\n",
    "    x^2 - 18x + 81 && \\text{Hint: how can we change our answer from above?}\n",
    "\\end{align}"
   ]
  },
  {
   "cell_type": "markdown",
   "metadata": {
    "slideshow": {
     "slide_type": "subslide"
    }
   },
   "source": [
    "## Some more special products\n",
    "\n",
    "Work together with the **_same_** partner to try and factor the following two equations\n",
    "\n",
    "\\begin{gather}\n",
    "    x^2 + 18x + 81 = (x + 9)^2 \\\\\n",
    "    x^2 - 18x + 81\n",
    "\\end{gather}"
   ]
  },
  {
   "cell_type": "markdown",
   "metadata": {
    "slideshow": {
     "slide_type": "subslide"
    }
   },
   "source": [
    "## Some more special products\n",
    "\n",
    "Work together with the **_same_** partner to try and factor the following two equations\n",
    "\n",
    "\\begin{align}\n",
    "    x^2 + 18x + 81 = (x + 9)^2 \\\\\n",
    "    x^2 - 18x + 81 = (x - 9)^2\n",
    "\\end{align}\n",
    "\n",
    "Let's review this second example"
   ]
  },
  {
   "cell_type": "markdown",
   "metadata": {
    "slideshow": {
     "slide_type": "slide"
    }
   },
   "source": [
    "## A different special form\n",
    "\n",
    "What if we expand\n",
    "\n",
    "\\begin{gather}\n",
    "    (x - a)(x - a) \\\\\n",
    "    x^2 - ax - ax + a^2 \\\\\n",
    "    x^2 - 2ax  + a^2\n",
    "\\end{gather}\n",
    "\n",
    "This is almost the same as before! We get\n",
    "\n",
    "\\begin{equation}\n",
    "    x^2 - 2ax + a^2 = (x - a)^2\n",
    "\\end{equation}\n",
    "\n",
    "This is why $x^2 - 18x + 81 = (x - 9)^2$"
   ]
  },
  {
   "cell_type": "markdown",
   "metadata": {
    "slideshow": {
     "slide_type": "slide"
    }
   },
   "source": [
    "## A very special form\n",
    "\n",
    "Let's look at what happens if signs are opposite now!\n",
    "\n",
    "\\begin{gather}\n",
    "    (x+a)(x-a) \\\\\n",
    "    x^2 - ax + ax - a^2 \\\\\n",
    "    x^2 - a^2\n",
    "\\end{gather}\n",
    "\n",
    "We're left with only $x^2 - a^2$ 😮 😮 😮!\n",
    "\n",
    "This means that we can factor\n",
    "\n",
    "\\begin{align}\n",
    "    x^2 - a^2 &= (x+a)(x-a) \\\\\n",
    "\\end{align}\n",
    "\n",
    "$x^2 - a^2$ is known as the **_difference of two perfect squares_**"
   ]
  },
  {
   "cell_type": "markdown",
   "metadata": {
    "slideshow": {
     "slide_type": "slide"
    }
   },
   "source": [
    "## An example\n",
    "\n",
    "We can factor $$x^2 - 9 = (x + 3)(x - 3)$$"
   ]
  },
  {
   "cell_type": "markdown",
   "metadata": {
    "slideshow": {
     "slide_type": "slide"
    }
   },
   "source": [
    "## Let's Practice \n",
    "\n",
    "Recall the formula is\n",
    "\\begin{equation}\n",
    "    x^2 - a^2 = (x + a)(x-1)\n",
    "\\end{equation}\n",
    "\n",
    "With a partner, factor the following equations\n",
    "\n",
    "\\begin{gather}\n",
    "    x^2 - 4 \\\\\n",
    "    x^2 - 81 \\\\\n",
    "    2x^2 - 32 \\\\\n",
    "    4x^2 - 9 \\\\\n",
    "    x^4y^8 - 16 \\\\\n",
    "    x^2y^4 - 4z^6\n",
    "\\end{gather}"
   ]
  },
  {
   "cell_type": "markdown",
   "metadata": {
    "slideshow": {
     "slide_type": "slide"
    }
   },
   "source": [
    "## Let's Practice \n",
    "\n",
    "Recall the formula is\n",
    "\\begin{equation}\n",
    "    x^2 - a^2 = (x + a)(x-1)\n",
    "\\end{equation}\n",
    "\n",
    "With a partner, factor the following equations\n",
    "\n",
    "\\begin{gather}\n",
    "    x^2 - 4 = (x+2)(x-2)\\\\\n",
    "    x^2 - 81 \\\\\n",
    "    2x^2 - 32 \\\\\n",
    "    4x^2 - 9 \\\\\n",
    "    x^4y^8 - 16 \\\\\n",
    "    x^2y^4 - 4z^6\n",
    "\\end{gather}"
   ]
  },
  {
   "cell_type": "markdown",
   "metadata": {
    "slideshow": {
     "slide_type": "slide"
    }
   },
   "source": [
    "## Let's Practice \n",
    "\n",
    "Recall the formula is\n",
    "\\begin{equation}\n",
    "    x^2 - a^2 = (x + a)(x-1)\n",
    "\\end{equation}\n",
    "\n",
    "With a partner, factor the following equations\n",
    "\n",
    "\\begin{gather}\n",
    "    x^2 - 4 = (x+2)(x-2)\\\\\n",
    "    x^2 - 81 = (x+9)(x-9)\\\\\n",
    "    2x^2 - 32 \\\\\n",
    "    4x^2 - 9 \\\\\n",
    "    x^4y^8 - 16 \\\\\n",
    "    x^2y^4 - 4z^6\n",
    "\\end{gather}"
   ]
  },
  {
   "cell_type": "markdown",
   "metadata": {
    "slideshow": {
     "slide_type": "slide"
    }
   },
   "source": [
    "## Let's Practice \n",
    "\n",
    "Recall the formula is\n",
    "\\begin{equation}\n",
    "    x^2 - a^2 = (x + a)(x-1)\n",
    "\\end{equation}\n",
    "\n",
    "With a partner, factor the following equations\n",
    "\n",
    "\\begin{gather}\n",
    "    x^2 - 4 = (x+2)(x-2)\\\\\n",
    "    x^2 - 81 = (x+9)(x-9)\\\\\n",
    "    2x^2 - 32 = 2(x^2 - 16) = 2(x + 4)(x-4)\\\\\n",
    "    4x^2 - 9 \\\\\n",
    "    x^4y^8 - 16 \\\\\n",
    "    x^2y^4 - 4z^6\n",
    "\\end{gather}"
   ]
  },
  {
   "cell_type": "markdown",
   "metadata": {
    "slideshow": {
     "slide_type": "slide"
    }
   },
   "source": [
    "## Let's Practice \n",
    "\n",
    "Recall the formula is\n",
    "\\begin{equation}\n",
    "    x^2 - a^2 = (x + a)(x-1)\n",
    "\\end{equation}\n",
    "\n",
    "With a partner, factor the following equations\n",
    "\n",
    "\\begin{gather}\n",
    "    x^2 - 4 = (x+2)(x-2)\\\\\n",
    "    x^2 - 81 = (x+9)(x-9)\\\\\n",
    "    2x^2 - 32 = 2(x^2 - 16) = 2(x + 4)(x-4)\\\\\n",
    "    4x^2 - 9 = (2x)^2 - 3^2 = (2x + 3)(2x - 3) \\\\\n",
    "    x^4y^8 - 16 \\\\\n",
    "    x^2y^4 - 4z^6\n",
    "\\end{gather}"
   ]
  },
  {
   "cell_type": "markdown",
   "metadata": {
    "slideshow": {
     "slide_type": "slide"
    }
   },
   "source": [
    "## Let's Practice \n",
    "\n",
    "Recall the formula is\n",
    "\\begin{equation}\n",
    "    x^2 - a^2 = (x + a)(x-1)\n",
    "\\end{equation}\n",
    "\n",
    "With a partner, factor the following equations\n",
    "\n",
    "\\begin{gather}\n",
    "    x^2 - 4 = (x+2)(x-2)\\\\\n",
    "    x^2 - 81 = (x+9)(x-9)\\\\\n",
    "    2x^2 - 32 = 2(x^2 - 16) = 2(x + 4)(x-4)\\\\\n",
    "    4x^2 - 9 = (2x)^2 - 3^2 = (2x + 3)(2x - 3) \\\\\n",
    "    x^4y^8 - 16  = \\left( (x^2y^4)^2 - 4^2 \\right) = (x^2y^4 + 4)(x^2y^4 - 4) \\\\\n",
    "    x^2y^4 - 4z^6\n",
    "\\end{gather}"
   ]
  },
  {
   "cell_type": "markdown",
   "metadata": {
    "slideshow": {
     "slide_type": "slide"
    }
   },
   "source": [
    "## Let's Practice \n",
    "\n",
    "Recall the formula is\n",
    "\\begin{equation}\n",
    "    x^2 - a^2 = (x + a)(x-1)\n",
    "\\end{equation}\n",
    "\n",
    "With a partner, factor the following equations\n",
    "\n",
    "\\begin{gather}\n",
    "    x^2 - 4 = (x+2)(x-2)\\\\\n",
    "    x^2 - 81 = (x+9)(x-9)\\\\\n",
    "    2x^2 - 32 = 2(x^2 - 16) = 2(x + 4)(x-4)\\\\\n",
    "    4x^2 - 9 = (2x)^2 - 3^2 = (2x + 3)(2x - 3) \\\\\n",
    "    x^4y^8 - 16  = \\left( (x^2y^4)^2 - 4^2 \\right) = (x^2y^4 + 4)(x^2y^4 - 4) \\\\\n",
    "    x^2y^4 - 4z^6 = \\left( (xy^2)^2 - (2z^3)^2 \\right) = (xy^2 + 2z^3)(xy^2 - 2z^3)\n",
    "\\end{gather}"
   ]
  },
  {
   "cell_type": "markdown",
   "metadata": {
    "slideshow": {
     "slide_type": "slide"
    }
   },
   "source": [
    "## Wrapping Up\n",
    "\n",
    "We've seen some really useful equations for factoring today!\n",
    "\n",
    "\\begin{align}\n",
    "    x^2 + 2ax + a^2 = (x + a)^2 \\\\\n",
    "    x^2 - 2ax + a^2 = (x - a)^2 \\\\\n",
    "    x^2 - a^2 = (x+a)(x-a)\n",
    "\\end{align}\n",
    "\n",
    "Don't forget what we saw last time: **_factoring out a common factor_**. "
   ]
  }
 ],
 "metadata": {
  "celltoolbar": "Slideshow",
  "kernelspec": {
   "display_name": "Python 3",
   "language": "python",
   "name": "python3"
  },
  "language_info": {
   "codemirror_mode": {
    "name": "ipython",
    "version": 3
   },
   "file_extension": ".py",
   "mimetype": "text/x-python",
   "name": "python",
   "nbconvert_exporter": "python",
   "pygments_lexer": "ipython3",
   "version": "3.5.2"
  }
 },
 "nbformat": 4,
 "nbformat_minor": 2
}
