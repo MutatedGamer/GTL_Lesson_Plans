{
 "cells": [
  {
   "cell_type": "markdown",
   "metadata": {
    "slideshow": {
     "slide_type": "slide"
    }
   },
   "source": [
    "# Factoring Part 4 (Last Part!)\n",
    "\n",
    "So far, we've seen a lot of problems with $2$ or $3$ terms. Let's try a problem with $4$ terms. Try to factor\n",
    "\n",
    "\\begin{equation}\n",
    "    x^3 + 7x^2 + 2x + 14\n",
    "\\end{equation}"
   ]
  },
  {
   "cell_type": "markdown",
   "metadata": {
    "slideshow": {
     "slide_type": "fragment"
    }
   },
   "source": [
    "Uh oh... there's no common factor!\n",
    "## 😱😱😱\n",
    "\n",
    "What can we do? 🤔🤔🤔"
   ]
  },
  {
   "cell_type": "markdown",
   "metadata": {
    "slideshow": {
     "slide_type": "slide"
    }
   },
   "source": [
    "If we look closely, we can notice something!\n",
    "\n",
    "\\begin{equation}\n",
    "    \\underbrace{x^3 + 7x^2}_{\\text{have a common factor}} + \\overbrace{2x + 14}^{\\text{have a common factor}}\n",
    "\\end{equation}"
   ]
  },
  {
   "cell_type": "markdown",
   "metadata": {
    "slideshow": {
     "slide_type": "slide"
    }
   },
   "source": [
    "## Factor by Grouping\n",
    "\n",
    "Let us **group** terms together and factor them each independently!\n",
    "\n",
    "\\begin{equation}\n",
    "    \\left(x^3 + 7x^2 \\right) + \\left(2x + 14 \\right) = x^2(x + 7) + 2(x + 7)\n",
    "\\end{equation}"
   ]
  }
 ],
 "metadata": {
  "celltoolbar": "Slideshow",
  "kernelspec": {
   "display_name": "Python 3",
   "language": "python",
   "name": "python3"
  },
  "language_info": {
   "codemirror_mode": {
    "name": "ipython",
    "version": 3
   },
   "file_extension": ".py",
   "mimetype": "text/x-python",
   "name": "python",
   "nbconvert_exporter": "python",
   "pygments_lexer": "ipython3",
   "version": "3.5.2"
  },
  "rise": {
   "enable_chalkboard": true
  }
 },
 "nbformat": 4,
 "nbformat_minor": 2
}
