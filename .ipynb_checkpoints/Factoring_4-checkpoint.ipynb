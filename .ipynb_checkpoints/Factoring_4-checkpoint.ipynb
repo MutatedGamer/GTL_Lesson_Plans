{
 "cells": [
  {
   "cell_type": "markdown",
   "metadata": {
    "slideshow": {
     "slide_type": "slide"
    }
   },
   "source": [
    "# Factoring Part 4 (Last Part!)"
   ]
  },
  {
   "cell_type": "markdown",
   "metadata": {
    "slideshow": {
     "slide_type": "slide"
    }
   },
   "source": [
    "So far, we've seen a lot of problems with $2$ or $3$ terms. Let's try a problem with $4$ terms. Let's try to factor\n",
    "\n",
    "\\begin{equation}\n",
    "    x^3 + 7x^2 + 2x + 14\n",
    "\\end{equation}"
   ]
  },
  {
   "cell_type": "markdown",
   "metadata": {
    "slideshow": {
     "slide_type": "fragment"
    }
   },
   "source": [
    "Uh oh... there's no common factor!\n",
    "## 😱😱😱\n",
    "\n",
    "What can we do? 🤔🤔🤔"
   ]
  },
  {
   "cell_type": "markdown",
   "metadata": {
    "slideshow": {
     "slide_type": "slide"
    }
   },
   "source": [
    "If we look closely, we can notice something!\n",
    "\n",
    "\\begin{equation}\n",
    "    \\underbrace{x^3 + 7x^2}_{\\text{have a common factor}} + \\overbrace{2x + 14}^{\\text{have a common factor}}\n",
    "\\end{equation}"
   ]
  },
  {
   "cell_type": "markdown",
   "metadata": {
    "slideshow": {
     "slide_type": "slide"
    }
   },
   "source": [
    "## Factor by Grouping\n",
    "\n",
    "Let us **group** terms together and factor them each independently!\n",
    "\n",
    "\\begin{equation}\n",
    "    \\underbrace{\\left(x^3 + 7x^2 \\right)}_{\\text{group } 1} \\ + \\ \\underbrace{\\left(2x + 14 \\right)}_{\\text{group } 2} = \\underbrace{x^2(x + 7)}_{\\text{group } 1} + \\underbrace{2(x + 7)}_{\\text{group } 2}\n",
    "\\end{equation}\n",
    "\n",
    "### 😲 😲 😲 😲  Something cool just happened! 😲 😲 😲 😲 😲"
   ]
  },
  {
   "cell_type": "markdown",
   "metadata": {
    "slideshow": {
     "slide_type": "fragment"
    }
   },
   "source": [
    "\\begin{equation}\n",
    "    \\underbrace{\\underbrace{x^2(x + 7)}_{\\text{group } 1} \\ + \\ \\underbrace{ 2(x + 7)}_{\\text{group } 2}}_{\\text{these terms have a common factor!}}\n",
    "\\end{equation}"
   ]
  },
  {
   "cell_type": "markdown",
   "metadata": {
    "slideshow": {
     "slide_type": "subslide"
    }
   },
   "source": [
    "## Factor by Grouping\n",
    "\\begin{equation}\n",
    "    \\underbrace{\\underbrace{x^2(x + 7)}_{\\text{group } 1} \\ + \\ \\underbrace{ 2(x + 7)}_{\\text{group } 2}}_{\\text{these terms have a common factor!}}\n",
    "\\end{equation}\n",
    "\n",
    "We can factor out $(x + 7)$\n",
    "\n",
    "\\begin{equation}\n",
    "    x^2(x + 7) \\ + \\ 2(x + 7) = \\boxed{(x + 7)(x^2 + 2)}\n",
    "\\end{equation}"
   ]
  },
  {
   "cell_type": "markdown",
   "metadata": {
    "slideshow": {
     "slide_type": "fragment"
    }
   },
   "source": [
    "<span style=\"color: green\">True</span> or <span style=\"color: red\">False</span>: factoring by grouping always lets us factor $4$ terms into the product of $2$ numbers."
   ]
  },
  {
   "cell_type": "markdown",
   "metadata": {
    "slideshow": {
     "slide_type": "subslide"
    }
   },
   "source": [
    "**<span style=\"color: red\">False!!</span>** In our last step, we were only able to factor because group $1$ and group $2$ _shared_ a common factor of $(x + 7)$! This is **not always the case.**"
   ]
  },
  {
   "cell_type": "markdown",
   "metadata": {
    "slideshow": {
     "slide_type": "slide"
    }
   },
   "source": [
    "## Factor by Grouping Steps\n",
    "\n",
    "1. Group together terms that, when factored, will share a common factor\n",
    "2. Factor each group _independently_ \n",
    "3. Factor out the common factor of each group"
   ]
  },
  {
   "cell_type": "markdown",
   "metadata": {
    "slideshow": {
     "slide_type": "fragment"
    }
   },
   "source": [
    "In _groups of 3_, try to factor the following expressions\n",
    "\n",
    "\\begin{gather}\n",
    "    x^4 + 5x + x^3 + 5 \\\\\n",
    "    x^5 + 10x^2 + x^4 + 10x \\\\ \n",
    "    x^3 + 5x^2 + 2x + 10 & \\textit{Hint: re-order terms!} \\\\\n",
    "    x^5 + 2x^4 + 2x^3 + 4x^2 + 5x + 10\n",
    "\\end{gather}"
   ]
  },
  {
   "cell_type": "markdown",
   "metadata": {
    "slideshow": {
     "slide_type": "slide"
    }
   },
   "source": [
    "## Factor by Grouping Example 1\n",
    "\n",
    "We have a common factor of $x^3 + 5$ in both groups\n",
    "\n",
    "\\begin{gather}\n",
    "    x^4 + 5x + x^3 + 5 \\\\\n",
    "    x(x^3 + 5) \\ + \\ (x^3 + 5) \\\\ \n",
    "   (x^3 + 5)(x + 1) \n",
    "\\end{gather}"
   ]
  },
  {
   "cell_type": "markdown",
   "metadata": {
    "slideshow": {
     "slide_type": "subslide"
    }
   },
   "source": [
    "## Factor by Grouping Example 2\n",
    "\n",
    "We have a common factor of $x^3 + 10$ in both groups\n",
    "\n",
    "\\begin{gather}\n",
    "    x^5 + 10x^2 + x^4 + 10x \\\\ \n",
    "    x^2(x^3 + 10) \\ + \\ x(x^3 + 10) \\\\\n",
    "   (x^3 + 10)(x^2 + x) \n",
    "\\end{gather}"
   ]
  },
  {
   "cell_type": "markdown",
   "metadata": {
    "slideshow": {
     "slide_type": "subslide"
    }
   },
   "source": [
    "## Factor by Grouping Example 3\n",
    "\n",
    "If we re-arrange terms, we see that we have a common factor of $x^2 + 2$\n",
    "\n",
    "\\begin{gather}\n",
    "    x^3 + 5x^2 + 2x + 10 \\\\ \n",
    "    x^3 + 2x \\ + \\ 5x^2 + 10 \\\\\n",
    "    x(x^2 + 2) + 5(x^2 + 2) \\\\\n",
    "    (x^2 + 2)(x + 5)\n",
    "\\end{gather}"
   ]
  },
  {
   "cell_type": "markdown",
   "metadata": {
    "slideshow": {
     "slide_type": "subslide"
    }
   },
   "source": [
    "## Factor by Grouping Example 4\n",
    "\n",
    "We have 3 groups with a common factor of $(x + 2)$!\n",
    "\n",
    "\\begin{gather}\n",
    "    x^5 + 2x^4 + 2x^3 + 4x^2 + 5x + 10 \\\\\n",
    "    x^5 + 2x^4 \\ \\ + \\ \\ 2x^3 + 4x^2 \\ \\ + \\ \\ 5x + 10 \\\\\n",
    "    x^4(x + 2) + 2x^2(x + 2) + 5(x+2) \\\\\n",
    "    (x + 2)(x^4 + 2x^2 + 5)\n",
    "\\end{gather}"
   ]
  },
  {
   "cell_type": "markdown",
   "metadata": {
    "slideshow": {
     "slide_type": "slide"
    }
   },
   "source": [
    "## Fact check\n",
    "\n",
    "<span style=\"color: green\">True</span> or <span style=\"color: red\">False</span>: when factoring a group, we can use any method of factorization we want"
   ]
  },
  {
   "cell_type": "markdown",
   "metadata": {
    "slideshow": {
     "slide_type": "subslide"
    }
   },
   "source": [
    "**<span style=\"color: green\">True</span>**! We treat each group as an independent expression. We can use any method we learned to factor them. "
   ]
  },
  {
   "cell_type": "markdown",
   "metadata": {
    "slideshow": {
     "slide_type": "slide"
    }
   },
   "source": [
    "## Fact check\n",
    "\n",
    "<span style=\"color: green\">True</span> or <span style=\"color: red\">False</span>: Given an expression, the first thing we should try to do is factor by grouping."
   ]
  },
  {
   "cell_type": "markdown",
   "metadata": {
    "slideshow": {
     "slide_type": "subslide"
    }
   },
   "source": [
    "**<span style=\"color: red\">False</span>**! **_Always always always_** see if you can factor out a common factor first. 99.9% of the time it will help!"
   ]
  },
  {
   "cell_type": "markdown",
   "metadata": {
    "slideshow": {
     "slide_type": "slide"
    }
   },
   "source": [
    "## Some Harder Examples\n",
    "\n",
    "Remember all the ways we've learned how to factor in the first three lessons.\n",
    "\n",
    "\\begin{gather}\n",
    "    3x^2y + 6x^2 + 5y + 10 \\\\\n",
    "    x^2 - 4 + x^2 + 7x + 10 \\\\\n",
    "    4x^2 + 12x + 9 + 2x + 3 \\\\\n",
    "    12x^2 + 15x + 36x + 45\n",
    "\\end{gather}"
   ]
  },
  {
   "cell_type": "markdown",
   "metadata": {
    "slideshow": {
     "slide_type": "subslide"
    }
   },
   "source": [
    "## Harder Problems Example 1\n",
    "\n",
    "\\begin{gather}\n",
    "    3x^2y + 6x^2 + 5y + 10 \\\\\n",
    "    3x^2(y + 2) + 5(y+2) \\\\\n",
    "    (y+2)(3x^2 + 5)\n",
    "\\end{gather}"
   ]
  },
  {
   "cell_type": "markdown",
   "metadata": {
    "slideshow": {
     "slide_type": "subslide"
    }
   },
   "source": [
    "## Harder Problems Example 2\n",
    "\n",
    "\\begin{gather}\n",
    "    x^2 - 4 + x^2 + 7x + 10 \\\\\n",
    "    (x+2)(x-2) + (x+2)(x+5) \\\\\n",
    "    (x+2)\\left[ (x-2) + (x+5) \\right] \\\\\n",
    "    (x+2)(2x + 3)\n",
    "\\end{gather}"
   ]
  },
  {
   "cell_type": "markdown",
   "metadata": {
    "slideshow": {
     "slide_type": "subslide"
    }
   },
   "source": [
    "## Harder Problems Example 3\n",
    "\n",
    "\\begin{gather}\n",
    "    4x^2 + 12x + 9 + 2x + 3 \\\\\n",
    "    (2x + 3)^2 + (2x + 3) \\\\\n",
    "    (2x + 3)\\left[(2x +  3) + 1 \\right] \\\\\n",
    "    (2x + 3)(2x + 4)\n",
    "\\end{gather}"
   ]
  },
  {
   "cell_type": "markdown",
   "metadata": {
    "slideshow": {
     "slide_type": "subslide"
    }
   },
   "source": [
    "## Harder Problems Example 4\n",
    "\n",
    "\\begin{gather}\n",
    "    12x^2 + 15x + 36x + 45 \\\\\n",
    "    3(4x^2 + 5x  + 12x + 15) \\\\\n",
    "    3\\left[x(4x + 5) + 3(4x + 5) \\right] \\\\\n",
    "    3\\left[(4x + 5)(x+3) \\right] \\\\\n",
    "    3(4x+5)(x+3)\n",
    "\\end{gather}"
   ]
  },
  {
   "cell_type": "markdown",
   "metadata": {
    "slideshow": {
     "slide_type": "slide"
    }
   },
   "source": [
    "## Review: What we've learned\n",
    "\n",
    "* Factoring involves taking a number (or expression) and writing it as the product of two or more numbers (or expressions!)\n",
    "* A factorization of a number (or expression) is not neccessarily unique\n",
    "* Factoring out a common factor is a great first step \n",
    " For example, $5x^2 + x = x(5+1)$\n"
   ]
  },
  {
   "cell_type": "markdown",
   "metadata": {
    "slideshow": {
     "slide_type": "slide"
    }
   },
   "source": [
    "## Review: What we've learned\n",
    "\n",
    "* Keep an eye out for special products\n",
    "    * $x^2 + 2ax + a^2 = (x + a)^2$\n",
    "    * $x^2 - 2ax + a^2 = (x - a)^2$\n",
    "    * $x^2 - a*2 = (x + a)(x -a)$\n",
    "* If we don't have a special product, try to factor into the form $(x \\pm a)(x \\pm b)$\n",
    "    * Given an expression $x^2 + cx + d$, we need to find $a$ and $b$ such that $a\\cdot b = d$ and $a + b = c$\n",
    "* If we have four or more terms, try factoring by grouping\n",
    "    * Look for a way to group terms such that after all groups are factored, each term shares a common factor"
   ]
  },
  {
   "cell_type": "markdown",
   "metadata": {
    "slideshow": {
     "slide_type": "slide"
    }
   },
   "source": [
    "# A finito! \n",
    "\n",
    "That's everything! Thank you everyone for an amazing time these past three weeks 😄"
   ]
  }
 ],
 "metadata": {
  "celltoolbar": "Slideshow",
  "kernelspec": {
   "display_name": "Python 3",
   "language": "python",
   "name": "python3"
  },
  "language_info": {
   "codemirror_mode": {
    "name": "ipython",
    "version": 3
   },
   "file_extension": ".py",
   "mimetype": "text/x-python",
   "name": "python",
   "nbconvert_exporter": "python",
   "pygments_lexer": "ipython3",
   "version": "3.5.2"
  },
  "rise": {
   "enable_chalkboard": true
  }
 },
 "nbformat": 4,
 "nbformat_minor": 2
}
