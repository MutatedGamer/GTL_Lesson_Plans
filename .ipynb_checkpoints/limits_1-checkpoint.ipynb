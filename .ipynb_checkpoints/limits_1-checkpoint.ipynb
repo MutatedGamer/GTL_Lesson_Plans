{
 "cells": [
  {
   "cell_type": "markdown",
   "metadata": {
    "hideCode": true,
    "hidePrompt": true,
    "slideshow": {
     "slide_type": "slide"
    }
   },
   "source": [
    "# Limits Day 1\n",
    "Luke Bordonaro"
   ]
  },
  {
   "cell_type": "code",
   "execution_count": 2,
   "metadata": {
    "hideCode": true,
    "hidePrompt": true,
    "slideshow": {
     "slide_type": "skip"
    }
   },
   "outputs": [
    {
     "data": {
      "text/html": [
       "<style> th {font-size: 3em; text-align:center;} td {font-size: 2.5em }</style>"
      ],
      "text/plain": [
       "<IPython.core.display.HTML object>"
      ]
     },
     "metadata": {},
     "output_type": "display_data"
    }
   ],
   "source": [
    "import matplotlib.pyplot as plt\n",
    "import matplotlib.ticker as ticker\n",
    "import numpy as np\n",
    "\n",
    "plt.rc('text', usetex=True)\n",
    "plt.rc('font', family='serif')\n",
    "from IPython.core.display import display, HTML\n",
    "display(HTML(\"<style> th {font-size: 3em; text-align:center;} td {font-size: 2.5em }</style>\"))\n"
   ]
  },
  {
   "cell_type": "markdown",
   "metadata": {
    "hideCode": true,
    "hidePrompt": true,
    "slideshow": {
     "slide_type": "slide"
    }
   },
   "source": [
    "## Let's start with functions\n",
    "We're all familiar with functions. A function $f(x)$ takes in a number $x$ and gives a number out $f(x)$. We can plot these numbers to form a graph of $f(x)$"
   ]
  },
  {
   "cell_type": "code",
   "execution_count": 41,
   "metadata": {
    "hideCode": true,
    "hidePrompt": true
   },
   "outputs": [
    {
     "data": {
      "image/png": "[encoded data removed]",
      "text/plain": [
       "<Figure size 504x432 with 1 Axes>"
      ]
     },
     "metadata": {
      "needs_background": "light"
     },
     "output_type": "display_data"
    }
   ],
   "source": [
    "#hideme\n",
    "\n",
    "import math\n",
    "\n",
    "def f(x):\n",
    "    return (np.exp(x) + 3)\n",
    "\n",
    "def makeArrowY(ax,pos,function,direction):\n",
    "    delta = 0.0001 if direction >= 0 else -0.01\n",
    "    ax.arrow(pos,function(pos),delta,function(pos+delta)-function(pos),head_width=0.2,head_length=0.5, color=\"#1f77b4\")\n",
    "   \n",
    "def makeArrowX(ax,pos,function,direction):\n",
    "    delta = 0.0001 if direction >= 0 else -0.01\n",
    "    ax.arrow(pos,function(pos),delta,function(pos+delta)-function(pos),head_width=0.5,head_length=0.2, color=\"#1f77b4\")\n",
    "\n",
    "\n",
    "fig = plt.figure(figsize=(7, 6))\n",
    "ax = fig.add_subplot(111)\n",
    "ax.set_title(\"$y = e^x + 3$\", fontsize=20)\n",
    "\n",
    "xp = np.arange(-4, 4, 0.001)\n",
    "yp = f(xp)\n",
    "ax.plot(xp, yp)\n",
    "#ax.yaxis.set_major_locator(ticker.MultipleLocator(1))\n",
    "\n",
    "makeArrowX(ax, -4, f, -1)\n",
    "makeArrowY(ax, 4, f, 1)\n",
    "\n",
    "\n",
    "ax.grid(True)\n",
    "\n",
    "ax.spines['left'].set_position('zero')\n",
    "ax.spines['right'].set_color('none')\n",
    "ax.spines['bottom'].set_position('zero')\n",
    "ax.spines['top'].set_color('none')\n",
    "ax.xaxis.set_ticks_position('bottom')\n",
    "ax.yaxis.set_ticks_position('left')"
   ]
  },
  {
   "cell_type": "markdown",
   "metadata": {
    "hideCode": true,
    "hidePrompt": true,
    "slideshow": {
     "slide_type": "fragment"
    }
   },
   "source": [
    "What is the domain of this function?"
   ]
  },
  {
   "cell_type": "markdown",
   "metadata": {
    "hideCode": true,
    "hidePrompt": true,
    "slideshow": {
     "slide_type": "subslide"
    }
   },
   "source": [
    "## Let's start with functions\n",
    "\n",
    "Unfortunately, not every function has a complete domain. Consider the function\n",
    "\n",
    "\\begin{equation}\n",
    "    f(x) = \\frac{(x^2 - 1)}{(x-1)}\n",
    "\\end{equation}\n",
    "\n",
    "What is its domain?"
   ]
  },
  {
   "cell_type": "markdown",
   "metadata": {
    "hideCode": true,
    "hidePrompt": true,
    "slideshow": {
     "slide_type": "fragment"
    }
   },
   "source": [
    "$\\mathcal{D}\\left(f(x)\\right) =$ all numbers that are not $1$.\n",
    "\n",
    "But what's happening at $f(1)$?"
   ]
  },
  {
   "cell_type": "markdown",
   "metadata": {
    "hideCode": true,
    "hidePrompt": true,
    "slideshow": {
     "slide_type": "subslide"
    }
   },
   "source": [
    "## Let's start with functions\n",
    "\n",
    "\\begin{equation}\n",
    "    f(x) = \\frac{(x^2 - 1)}{(x-1)}\n",
    "\\end{equation}\n",
    "\n",
    "\\begin{equation}\n",
    "    f(1) = \\frac{(1 - 1)}{(1 - 1)} = \\frac{0}{0}\n",
    "\\end{equation}\n",
    "\n",
    "What is $\\frac{0}{0}$???"
   ]
  },
  {
   "cell_type": "markdown",
   "metadata": {
    "hideCode": true,
    "hidePrompt": true,
    "slideshow": {
     "slide_type": "slide"
    }
   },
   "source": [
    "## A graphical representation\n",
    "\n",
    "Here is what the graph of $f(x)$ looks like."
   ]
  },
  {
   "cell_type": "code",
   "execution_count": 83,
   "metadata": {
    "hideCode": true,
    "hidePrompt": true
   },
   "outputs": [
    {
     "data": {
      "image/png": "[encoded data removed]",
      "text/plain": [
       "<Figure size 504x432 with 1 Axes>"
      ]
     },
     "metadata": {
      "needs_background": "light"
     },
     "output_type": "display_data"
    }
   ],
   "source": [
    "#hideme\n",
    "\n",
    "import math\n",
    "\n",
    "def f(x):\n",
    "    return (x**2 - 1)/(x - 1)\n",
    "\n",
    "def makeArrowY(ax,pos,function,direction):\n",
    "    delta = 0.0001 if direction >= 0 else -0.01\n",
    "    ax.arrow(pos,function(pos),delta,function(pos+delta)-function(pos),head_width=0.2,head_length=0.5, color=\"#1f77b4\")\n",
    "   \n",
    "def makeArrowX(ax,pos,function,direction):\n",
    "    delta = 0.0001 if direction >= 0 else -0.01\n",
    "    ax.arrow(pos,function(pos),delta,function(pos+delta)-function(pos),head_width=0.1,head_length=0.05, color=\"#1f77b4\")\n",
    "\n",
    "\n",
    "fig = plt.figure(figsize=(7, 6))\n",
    "ax = fig.add_subplot(111)\n",
    "ax.set_title(\"$y = (x^2 - 1)/(x-1)$\", fontsize=20)\n",
    "\n",
    "xleft = np.arange(-1, 0.99, 0.001)\n",
    "xright = np.arange(1.01, 2, 0.001)\n",
    "yright = f(xright)\n",
    "yleft = f(xleft)\n",
    "ax.plot(xleft, yleft)\n",
    "ax.plot(xright, yright, color=\"#1f77b4\")\n",
    "#ax.yaxis.set_major_locator(ticker.MultipleLocator(1))\n",
    "\n",
    "ax.plot(1, 2, marker='o', linewidth=0, markersize=5, markerfacecolor=\"None\",\n",
    "         markeredgecolor='black')\n",
    "\n",
    "\n",
    "makeArrowX(ax, -1, f, -1)\n",
    "makeArrowX(ax, 2, f, 1)\n",
    "\n",
    "\n",
    "ax.grid(True)\n",
    "\n",
    "ax.spines['left'].set_position('zero')\n",
    "ax.spines['right'].set_color('none')\n",
    "ax.spines['bottom'].set_position('zero')\n",
    "ax.spines['top'].set_color('none')\n",
    "ax.xaxis.set_ticks_position('bottom')\n",
    "ax.yaxis.set_ticks_position('left')"
   ]
  },
  {
   "cell_type": "markdown",
   "metadata": {
    "hideCode": true,
    "hidePrompt": true,
    "slideshow": {
     "slide_type": "fragment"
    }
   },
   "source": [
    "It **_looks_** like $f(1) = 2$! But we know it's not! How do we describe this behavior?"
   ]
  },
  {
   "cell_type": "markdown",
   "metadata": {
    "hideCode": true,
    "hidePrompt": true,
    "slideshow": {
     "slide_type": "slide"
    }
   },
   "source": [
    "## Introducing: The Limit\n",
    "\n",
    "Let's look at what happens as $x$ _approaches_ $1$ from both sides."
   ]
  },
  {
   "cell_type": "markdown",
   "metadata": {
    "hideCode": true,
    "hidePrompt": true,
    "slideshow": {
     "slide_type": "fragment"
    }
   },
   "source": [
    "| x | y |  &nbsp;      |  x |  y |\n",
    "|---|---|----      -|---   |---|\n",
    "| 0.5 | 1.5 |    &nbsp; | 1.5  |  2.5 |\n",
    "| 0.9  |1.9   | &nbsp;  | 1.1  |  2.1 |\n",
    "| 0.99  |1.99   |&nbsp; | 1.01  | 2.01  |\n",
    "| 0.9999  |1.9999  | &nbsp; | 1.001 |   2.001 |\n"
   ]
  },
  {
   "cell_type": "markdown",
   "metadata": {
    "hideCode": true,
    "hidePrompt": true,
    "slideshow": {
     "slide_type": "fragment"
    }
   },
   "source": [
    "Mathematically, as $x$ _approaches_ $1$, $f(x)$ _approaches_ $2$! "
   ]
  },
  {
   "cell_type": "markdown",
   "metadata": {
    "hideCode": true,
    "hidePrompt": true,
    "slideshow": {
     "slide_type": "fragment"
    }
   },
   "source": [
    "\\begin{equation}\n",
    "    \\boxed{\\lim_{x \\rightarrow 1} f(x) = 2}\n",
    "\\end{equation}\n",
    "\n",
    "\"The limit of $f(x)$ as $x$ approaches $1$ is $2$.\""
   ]
  },
  {
   "cell_type": "markdown",
   "metadata": {
    "hideCode": true,
    "hidePrompt": true,
    "slideshow": {
     "slide_type": "slide"
    }
   },
   "source": [
    "## Limit Concept Questions\n",
    "\n",
    "<span style=\"color: green\">True</span> or <span style=\"color: red\">False</span>: if a function is **_continuous_** and defined at a value $a$, then $\\displaystyle\\lim_{x \\rightarrow a} \\ f(x) = f(a)$"
   ]
  },
  {
   "cell_type": "markdown",
   "metadata": {
    "hideCode": true,
    "hidePrompt": true,
    "slideshow": {
     "slide_type": "subslide"
    }
   },
   "source": [
    "<span style=\"color: green\">True!</span> Look at the following graph. Since most functions **are** continuous, substituting the value of the limit into the expression is a good first step."
   ]
  },
  {
   "cell_type": "code",
   "execution_count": 4,
   "metadata": {
    "hideCode": true,
    "hidePrompt": true
   },
   "outputs": [
    {
     "data": {
      "image/png": "[encoded data removed]",
      "text/plain": [
       "<Figure size 504x432 with 1 Axes>"
      ]
     },
     "metadata": {
      "needs_background": "light"
     },
     "output_type": "display_data"
    }
   ],
   "source": [
    "#hideme\n",
    "\n",
    "import math\n",
    "\n",
    "def f(x):\n",
    "    return np.sin(x)\n",
    "\n",
    "def makeArrowY(ax,pos,function,direction):\n",
    "    delta = 0.0001 if direction >= 0 else -0.01\n",
    "    ax.arrow(pos,function(pos),delta,function(pos+delta)-function(pos),head_width=0.2,head_length=0.5, color=\"#1f77b4\")\n",
    "   \n",
    "def makeArrowX(ax,pos,function,direction):\n",
    "    delta = 0.0001 if direction >= 0 else -0.01\n",
    "    ax.arrow(pos,function(pos),delta,function(pos+delta)-function(pos),head_width=0.1,head_length=0.05, color=\"#1f77b4\")\n",
    "\n",
    "\n",
    "fig = plt.figure(figsize=(7, 6))\n",
    "ax = fig.add_subplot(111)\n",
    "ax.set_title(\"$y = f(x)$\", fontsize=20)\n",
    "\n",
    "xleft = np.arange(-1, 1, 0.001)\n",
    "xright = np.arange(1, 2, 0.001)\n",
    "yright = f(xright)\n",
    "yleft = f(xleft)\n",
    "ax.plot(xleft, yleft)\n",
    "ax.plot(xright, yright, color=\"#1f77b4\")\n",
    "#ax.yaxis.set_major_locator(ticker.MultipleLocator(1))\n",
    "\n",
    "#ax.plot(1, 2, marker='o', linewidth=0, markersize=5, markerfacecolor=\"None\",\n",
    "         #markeredgecolor='black')\n",
    "\n",
    "\n",
    "makeArrowX(ax, -1, f, -1)\n",
    "makeArrowX(ax, 2, f, 1)\n",
    "\n",
    "\n",
    "ax.grid(True)\n",
    "\n",
    "ax.spines['left'].set_position('zero')\n",
    "ax.spines['right'].set_color('none')\n",
    "ax.spines['bottom'].set_position('zero')\n",
    "ax.spines['top'].set_color('none')\n",
    "ax.xaxis.set_ticks_position('bottom')\n",
    "ax.yaxis.set_ticks_position('left')"
   ]
  },
  {
   "cell_type": "markdown",
   "metadata": {
    "hideCode": true,
    "hidePrompt": true,
    "slideshow": {
     "slide_type": "slide"
    }
   },
   "source": [
    "## Limit Concept Questions\n",
    "\n",
    "<span style=\"color: green\">True</span> or <span style=\"color: red\">False</span>: the approaching from the _left_ is always the same as approaching from the _right_."
   ]
  },
  {
   "cell_type": "markdown",
   "metadata": {
    "hideCode": true,
    "hidePrompt": true,
    "slideshow": {
     "slide_type": "subslide"
    }
   },
   "source": [
    "<span style=\"color: red\">False!</span> consider this example"
   ]
  },
  {
   "cell_type": "code",
   "execution_count": 93,
   "metadata": {
    "hideCode": true,
    "hidePrompt": true
   },
   "outputs": [
    {
     "data": {
      "image/png": "[encoded data removed]",
      "text/plain": [
       "<Figure size 504x432 with 1 Axes>"
      ]
     },
     "metadata": {
      "needs_background": "light"
     },
     "output_type": "display_data"
    }
   ],
   "source": [
    "#hideme\n",
    "\n",
    "import math\n",
    "\n",
    "def f(x):\n",
    "    return x\n",
    "\n",
    "def g(x):\n",
    "    return -2*x\n",
    "\n",
    "def makeArrowY(ax,pos,function,direction):\n",
    "    delta = 0.0001 if direction >= 0 else -0.01\n",
    "    ax.arrow(pos,function(pos),delta,function(pos+delta)-function(pos),head_width=0.2,head_length=0.5, color=\"#1f77b4\")\n",
    "   \n",
    "def makeArrowX(ax,pos,function,direction):\n",
    "    delta = 0.0001 if direction >= 0 else -0.01\n",
    "    ax.arrow(pos,function(pos),delta,function(pos+delta)-function(pos),head_width=0.1,head_length=0.05, color=\"#1f77b4\")\n",
    "\n",
    "\n",
    "fig = plt.figure(figsize=(7, 6))\n",
    "ax = fig.add_subplot(111)\n",
    "ax.set_title(\"$y = f(x)$\", fontsize=20)\n",
    "\n",
    "xleft = np.arange(-1, 1, 0.001)\n",
    "xright = np.arange(1, 2, 0.001)\n",
    "yright = f(xright)\n",
    "yleft = g(xleft)\n",
    "ax.plot(xleft, yleft)\n",
    "ax.plot(xright, yright, color=\"#1f77b4\")\n",
    "#ax.yaxis.set_major_locator(ticker.MultipleLocator(1))\n",
    "\n",
    "#ax.plot(1, 2, marker='o', linewidth=0, markersize=5, markerfacecolor=\"None\",\n",
    "         #markeredgecolor='black')\n",
    "\n",
    "\n",
    "makeArrowX(ax, -1, g, -1)\n",
    "makeArrowX(ax, 2, f, 1)\n",
    "\n",
    "\n",
    "ax.grid(True)\n",
    "\n",
    "ax.spines['left'].set_position('zero')\n",
    "ax.spines['right'].set_color('none')\n",
    "ax.spines['bottom'].set_position('zero')\n",
    "ax.spines['top'].set_color('none')\n",
    "ax.xaxis.set_ticks_position('bottom')\n",
    "ax.yaxis.set_ticks_position('left')"
   ]
  },
  {
   "cell_type": "markdown",
   "metadata": {
    "hideCode": true,
    "hidePrompt": true,
    "slideshow": {
     "slide_type": "slide"
    }
   },
   "source": [
    "## Left and Right Limits"
   ]
  },
  {
   "cell_type": "code",
   "execution_count": 95,
   "metadata": {
    "hideCode": true,
    "hidePrompt": true
   },
   "outputs": [
    {
     "data": {
      "image/png": "[encoded data removed]",
      "text/plain": [
       "<Figure size 360x288 with 1 Axes>"
      ]
     },
     "metadata": {
      "needs_background": "light"
     },
     "output_type": "display_data"
    }
   ],
   "source": [
    "#hideme\n",
    "\n",
    "import math\n",
    "\n",
    "def f(x):\n",
    "    return x\n",
    "\n",
    "def g(x):\n",
    "    return -2*x\n",
    "\n",
    "def makeArrowY(ax,pos,function,direction):\n",
    "    delta = 0.0001 if direction >= 0 else -0.01\n",
    "    ax.arrow(pos,function(pos),delta,function(pos+delta)-function(pos),head_width=0.2,head_length=0.5, color=\"#1f77b4\")\n",
    "   \n",
    "def makeArrowX(ax,pos,function,direction):\n",
    "    delta = 0.0001 if direction >= 0 else -0.01\n",
    "    ax.arrow(pos,function(pos),delta,function(pos+delta)-function(pos),head_width=0.1,head_length=0.05, color=\"#1f77b4\")\n",
    "\n",
    "\n",
    "fig = plt.figure(figsize=(5, 4))\n",
    "ax = fig.add_subplot(111)\n",
    "ax.set_title(\"$y = f(x)$\", fontsize=20)\n",
    "\n",
    "xleft = np.arange(-1, 1, 0.001)\n",
    "xright = np.arange(1, 2, 0.001)\n",
    "yright = f(xright)\n",
    "yleft = g(xleft)\n",
    "ax.plot(xleft, yleft)\n",
    "ax.plot(xright, yright, color=\"#1f77b4\")\n",
    "#ax.yaxis.set_major_locator(ticker.MultipleLocator(1))\n",
    "\n",
    "#ax.plot(1, 2, marker='o', linewidth=0, markersize=5, markerfacecolor=\"None\",\n",
    "         #markeredgecolor='black')\n",
    "\n",
    "\n",
    "makeArrowX(ax, -1, g, -1)\n",
    "makeArrowX(ax, 2, f, 1)\n",
    "\n",
    "\n",
    "ax.grid(True)\n",
    "\n",
    "ax.spines['left'].set_position('zero')\n",
    "ax.spines['right'].set_color('none')\n",
    "ax.spines['bottom'].set_position('zero')\n",
    "ax.spines['top'].set_color('none')\n",
    "ax.xaxis.set_ticks_position('bottom')\n",
    "ax.yaxis.set_ticks_position('left')"
   ]
  },
  {
   "cell_type": "markdown",
   "metadata": {
    "hideCode": true,
    "hidePrompt": true,
    "slideshow": {
     "slide_type": "-"
    }
   },
   "source": [
    "\\begin{align}\n",
    "    \\underbrace{\\lim_{x \\rightarrow 1^-} f(x) = -2}_{\\text{limit from the left}} && \\underbrace{\\lim_{x \\rightarrow 1^+} f(x) = 1}_{\\text{limit from the right}}\n",
    "\\end{align}"
   ]
  },
  {
   "cell_type": "markdown",
   "metadata": {
    "hideCode": true,
    "hidePrompt": true,
    "slideshow": {
     "slide_type": "fragment"
    }
   },
   "source": [
    "But... if the left and right limits are not the same, then what is $\\displaystyle\\lim_{x \\rightarrow 1} f(x)$ ???"
   ]
  },
  {
   "cell_type": "markdown",
   "metadata": {
    "hideCode": true,
    "hidePrompt": true,
    "slideshow": {
     "slide_type": "slide"
    }
   },
   "source": [
    "## Evaluating a Limit\n",
    "\n",
    "We are interested in calculating\n",
    "\n",
    "\\begin{equation}\n",
    "    \\lim_{x \\rightarrow 1} \\frac{(x^2 - 1)}{(x-1)}\n",
    "\\end{equation}\n",
    "\n",
    "The best way to evaluate a limit is to plug in value. We have seen $f(1) =$ undefined. So, what can we do?"
   ]
  },
  {
   "cell_type": "markdown",
   "metadata": {
    "hideCode": true,
    "hidePrompt": true,
    "slideshow": {
     "slide_type": "fragment"
    }
   },
   "source": [
    "\\begin{align}\n",
    "    &\\lim_{x \\rightarrow 1} \\ \\frac{(x+1)(x-1)}{(x-1)} \\\\\n",
    "    &\\lim_{x \\rightarrow 1} \\ (x+1) = 2\n",
    "\\end{align}\n",
    "    \n",
    "🎉🎉🎉"
   ]
  },
  {
   "cell_type": "markdown",
   "metadata": {
    "hideCode": true,
    "hidePrompt": true,
    "slideshow": {
     "slide_type": "slide"
    }
   },
   "source": [
    "## Quick Question\n",
    "\n",
    "<span style=\"color: green\">True</span> or <span style=\"color: red\">False</span>:\n",
    "\\begin{equation}\n",
    "    \\frac{(x^2 - 1)}{(x-1)} = (x+1)\n",
    "\\end{equation}"
   ]
  },
  {
   "cell_type": "markdown",
   "metadata": {
    "hideCode": true,
    "hidePrompt": true,
    "slideshow": {
     "slide_type": "fragment"
    }
   },
   "source": [
    "Very very <span style=\"color: red\">FALSE!!</span> The two functions are the same everywhere **_except when $x=1$_**. This means the functions are **not** equal. \n",
    "\n",
    "To go from $(x+1)$ to $\\frac{(x^2 - 1)}{(x-1)}$, we need to divide by $(x-1)$, which is undefined for $x=1$. This is **_not_** the same as multiplying by any constant, which keeps things equal (i.e. $5 = 5\\cdot \\frac{2}{2}$)."
   ]
  },
  {
   "cell_type": "markdown",
   "metadata": {
    "hideCode": true,
    "hidePrompt": true,
    "slideshow": {
     "slide_type": "slide"
    }
   },
   "source": [
    "## Let's practice!\n",
    "\n",
    "The general method to evaluate a (finite) limit is to\n",
    "\n",
    "1. Plug in the value. If it is defined, that is the limit!\n",
    "2. Try to alter the function to something that is similar by multiplying, factoring, or other methods.\n",
    "3. Re-evaluate the new function. If it is defined, that is the limit!\n",
    "\n",
    "In **_groups of 3_**, evaluate the following limits\n",
    "\n",
    "\\begin{gather}\n",
    "    \\lim_{x \\rightarrow 4} \\ x^2 \\\\\n",
    "    \\lim_{x \\rightarrow 2} \\ \\frac{x^2 + 3x - 10}{(x-2)} \\\\\n",
    "    \\lim_{x \\rightarrow 4} \\ \\frac{2 - \\sqrt{x}}{(4 - x)}\n",
    "\\end{gather}"
   ]
  },
  {
   "cell_type": "markdown",
   "metadata": {
    "hideCode": true,
    "hidePrompt": true,
    "slideshow": {
     "slide_type": "slide"
    }
   },
   "source": [
    "## Let's practice example 1\n",
    "\n",
    "\\begin{align}\n",
    "    \\lim_{x \\rightarrow 4} \\ x^2\n",
    "\\end{align}\n",
    "\n",
    "This can be directly evaluated!\n",
    "\n",
    "\\begin{align}\n",
    "    \\lim_{x \\rightarrow 4} \\ x^2 = 4^2 = 16\n",
    "\\end{align}"
   ]
  },
  {
   "cell_type": "markdown",
   "metadata": {
    "hideCode": true,
    "hidePrompt": true,
    "slideshow": {
     "slide_type": "slide"
    }
   },
   "source": [
    "## Let's practice example 2\n",
    "\n",
    "\\begin{align}\n",
    "    \\lim_{x \\rightarrow 2} \\ \\frac{x^2 + 3x - 10}{(x-2)}\n",
    "\\end{align}\n",
    "\n",
    "Directly evaluating leads to $\\frac{0}{0}$, which is undetermined. \n",
    "\n",
    "We can factor!\n",
    "\n",
    "\\begin{align}\n",
    "    \\lim_{x \\rightarrow 2} \\ \\frac{x^2 + 3x - 10}{(x-2)} &= \\lim_{x \\rightarrow 2} \\ \\frac{(x-2)(x+5)}{(x-2)} \\\\\n",
    "    &= \\lim_{x \\rightarrow 2} \\ (x+5) \\\\\n",
    "    &= 7\n",
    "\\end{align}"
   ]
  },
  {
   "cell_type": "markdown",
   "metadata": {
    "hideCode": true,
    "hidePrompt": true,
    "slideshow": {
     "slide_type": "slide"
    }
   },
   "source": [
    "## Let's practice example 3\n",
    "\n",
    "\\begin{align}\n",
    "    \\lim_{x \\rightarrow 4} \\ \\frac{2 - \\sqrt{x}}{(4 - x)}\n",
    "\\end{align}\n",
    "\n",
    "Directly evaluating leads to $\\frac{0}{0}$, which is undetermined. We can multiply by the conjugate!\n",
    "\n",
    "\\begin{align}\n",
    "    \\lim_{x \\rightarrow 4} \\ \\frac{(2 - \\sqrt{x})}{(4 - x)} &= \\lim_{x \\rightarrow 4} \\ \\frac{(2 - \\sqrt{x})}{(4 - x)} \\cdot \\frac{(2 + \\sqrt{x})}{(2 + \\sqrt{x})} \\\\\n",
    "    &= \\lim_{x \\rightarrow 4} \\ \\frac{(4 - x)}{(4 - x)(2 + \\sqrt{x})} \\\\\n",
    "    &= \\lim_{x \\rightarrow 4} \\ \\frac{1}{(2 + \\sqrt{x})} \\\\\n",
    "    &= \\frac{1}{4}\n",
    "\\end{align}"
   ]
  },
  {
   "cell_type": "markdown",
   "metadata": {
    "hideCode": true,
    "hidePrompt": true,
    "slideshow": {
     "slide_type": "slide"
    }
   },
   "source": [
    "## Concept Questions\n",
    "\n",
    "<span style=\"color: green\">True</span> or <span style=\"color: red\">False</span>: $\\displaystyle\\lim_{x \\rightarrow 1} \\ f(x) = 2$"
   ]
  },
  {
   "cell_type": "code",
   "execution_count": 109,
   "metadata": {
    "hideCode": true,
    "hidePrompt": true,
    "slideshow": {
     "slide_type": "-"
    }
   },
   "outputs": [
    {
     "data": {
      "image/png": "[encoded data removed]",
      "text/plain": [
       "<Figure size 576x504 with 1 Axes>"
      ]
     },
     "metadata": {
      "needs_background": "light"
     },
     "output_type": "display_data"
    }
   ],
   "source": [
    "#hideme\n",
    "\n",
    "import math\n",
    "\n",
    "def f(x):\n",
    "    return (3*x**2 - 1)\n",
    "\n",
    "def makeArrowY(ax,pos,function,direction):\n",
    "    delta = 0.0001 if direction >= 0 else -0.01\n",
    "    ax.arrow(pos,function(pos),delta,function(pos+delta)-function(pos),head_width=0.1,head_length=0.3, color=\"#1f77b4\")\n",
    "   \n",
    "def makeArrowX(ax,pos,function,direction):\n",
    "    delta = 0.0001 if direction >= 0 else -0.01\n",
    "    ax.arrow(pos,function(pos),delta,function(pos+delta)-function(pos),head_width=0.1,head_length=0.05, color=\"#1f77b4\")\n",
    "\n",
    "\n",
    "fig = plt.figure(figsize=(8, 7))\n",
    "ax = fig.add_subplot(111)\n",
    "ax.set_title(\"$y = f(x)$\", fontsize=20)\n",
    "\n",
    "xleft = np.arange(-1, 0.98, 0.001)\n",
    "xright = np.arange(1.02, 2, 0.001)\n",
    "yright = f(xright)\n",
    "yleft = f(xleft)\n",
    "ax.plot(xleft, yleft)\n",
    "ax.plot(xright, yright, color=\"#1f77b4\")\n",
    "#ax.yaxis.set_major_locator(ticker.MultipleLocator(1))\n",
    "\n",
    "ax.plot(1, 2, marker='o', linewidth=0, markersize=7, markerfacecolor=\"none\", markeredgecolor=\"#1f77b4\")\n",
    "\n",
    "ax.plot(1, 4, marker='o', linewidth=0, markersize=7,color=\"#1f77b4\")\n",
    "\n",
    "\n",
    "makeArrowY(ax, -1, f, -1)\n",
    "makeArrowY(ax, 2, f, 1)\n",
    "\n",
    "\n",
    "ax.grid(True)\n",
    "\n",
    "ax.spines['left'].set_position('zero')\n",
    "ax.spines['right'].set_color('none')\n",
    "ax.spines['bottom'].set_position('zero')\n",
    "ax.spines['top'].set_color('none')\n",
    "ax.xaxis.set_ticks_position('bottom')\n",
    "ax.yaxis.set_ticks_position('left')"
   ]
  },
  {
   "cell_type": "markdown",
   "metadata": {
    "hideCode": true,
    "hidePrompt": true,
    "slideshow": {
     "slide_type": "slide"
    }
   },
   "source": [
    "## Concept Questions\n",
    "\n",
    "<span style=\"color: green\">True</span> or <span style=\"color: red\">False</span>: $\\displaystyle\\lim_{x \\rightarrow 1} \\ f(x) = 2$"
   ]
  },
  {
   "cell_type": "code",
   "execution_count": 109,
   "metadata": {
    "hideCode": true,
    "hidePrompt": true,
    "slideshow": {
     "slide_type": "-"
    }
   },
   "outputs": [
    {
     "data": {
      "image/png": "[encoded data removed]",
      "text/plain": [
       "<Figure size 576x504 with 1 Axes>"
      ]
     },
     "metadata": {
      "needs_background": "light"
     },
     "output_type": "display_data"
    }
   ],
   "source": [
    "#hideme\n",
    "\n",
    "import math\n",
    "\n",
    "def f(x):\n",
    "    return (3*x**2 - 1)\n",
    "\n",
    "def makeArrowY(ax,pos,function,direction):\n",
    "    delta = 0.0001 if direction >= 0 else -0.01\n",
    "    ax.arrow(pos,function(pos),delta,function(pos+delta)-function(pos),head_width=0.1,head_length=0.3, color=\"#1f77b4\")\n",
    "   \n",
    "def makeArrowX(ax,pos,function,direction):\n",
    "    delta = 0.0001 if direction >= 0 else -0.01\n",
    "    ax.arrow(pos,function(pos),delta,function(pos+delta)-function(pos),head_width=0.1,head_length=0.05, color=\"#1f77b4\")\n",
    "\n",
    "\n",
    "fig = plt.figure(figsize=(8, 7))\n",
    "ax = fig.add_subplot(111)\n",
    "ax.set_title(\"$y = f(x)$\", fontsize=20)\n",
    "\n",
    "xleft = np.arange(-1, 0.98, 0.001)\n",
    "xright = np.arange(1.02, 2, 0.001)\n",
    "yright = f(xright)\n",
    "yleft = f(xleft)\n",
    "ax.plot(xleft, yleft)\n",
    "ax.plot(xright, yright, color=\"#1f77b4\")\n",
    "#ax.yaxis.set_major_locator(ticker.MultipleLocator(1))\n",
    "\n",
    "ax.plot(1, 2, marker='o', linewidth=0, markersize=7, markerfacecolor=\"none\", markeredgecolor=\"#1f77b4\")\n",
    "\n",
    "ax.plot(1, 4, marker='o', linewidth=0, markersize=7,color=\"#1f77b4\")\n",
    "\n",
    "\n",
    "makeArrowY(ax, -1, f, -1)\n",
    "makeArrowY(ax, 2, f, 1)\n",
    "\n",
    "\n",
    "ax.grid(True)\n",
    "\n",
    "ax.spines['left'].set_position('zero')\n",
    "ax.spines['right'].set_color('none')\n",
    "ax.spines['bottom'].set_position('zero')\n",
    "ax.spines['top'].set_color('none')\n",
    "ax.xaxis.set_ticks_position('bottom')\n",
    "ax.yaxis.set_ticks_position('left')"
   ]
  },
  {
   "cell_type": "markdown",
   "metadata": {
    "hideCode": true,
    "hidePrompt": true,
    "slideshow": {
     "slide_type": "subslide"
    }
   },
   "source": [
    "**<span style=\"color: green\">True!</span>** This is the graph of $f(x) = 3x^2$, with a **_point of discontinuity_** at $x=1$. Evaluating can be deceiving!"
   ]
  },
  {
   "cell_type": "markdown",
   "metadata": {
    "hideCode": true,
    "hidePrompt": true,
    "slideshow": {
     "slide_type": "slide"
    }
   },
   "source": [
    "## Review\n",
    "\n",
    "If we are trying to evaluate $\\displaystyle\\lim_{x \\rightarrow a} f(x)$\n",
    "\n",
    "1. First evaluate $f(a)$\n",
    "    * If it is defined and a real number, that is the limit (assuming the function is continuous)\n",
    "2. If $f(a)$ is an indeterminate form, then try to rewrite the limit\n",
    "    * Indeterminate forms include $\\frac{0}{0}$, $\\frac{\\infty}{\\infty}$, $0\\cdot \\infty$, $0^0$, $\\infty^0$, $1^\\infty$\n",
    "        * Note that $\\frac{1}{\\infty}$ and $\\infty$ are **_not_** indeterminate!\n",
    "    * Rewrite by factoring, multplying by conjugate, or other more advanced methods\n",
    "3. Lastly, if $f(a)$ is not defined but is not indeterminate, then $a$ is probably a special value called an _asymptote_. We will learn more about this case next lesson! 😊"
   ]
  }
 ],
 "metadata": {
  "celltoolbar": "Slideshow",
  "hide_code_all_hidden": true,
  "kernelspec": {
   "display_name": "Python 3",
   "language": "python",
   "name": "python3"
  },
  "language_info": {
   "codemirror_mode": {
    "name": "ipython",
    "version": 3
   },
   "file_extension": ".py",
   "mimetype": "text/x-python",
   "name": "python",
   "nbconvert_exporter": "python",
   "pygments_lexer": "ipython3",
   "version": "3.5.2"
  }
 },
 "nbformat": 4,
 "nbformat_minor": 2
}
