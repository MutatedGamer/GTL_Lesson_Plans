{
 "cells": [
  {
   "cell_type": "markdown",
   "metadata": {
    "hideCode": true,
    "hidePrompt": true,
    "slideshow": {
     "slide_type": "slide"
    }
   },
   "source": [
    "# Second Degree Equations Part 2"
   ]
  },
  {
   "cell_type": "markdown",
   "metadata": {
    "hideCode": true,
    "hidePrompt": true,
    "slideshow": {
     "slide_type": "slide"
    }
   },
   "source": [
    "## Factoring\n",
    "\n",
    "Remember that we have seen before that we can factor a quadratic expression in a couple of ways\n",
    "\n",
    "\\begin{align}\n",
    "    x^2 - 4 &= (x+2)(x-2) & \\text{special product} \\\\\n",
    "    x^2 + 2x - 24 &= (x-4)(x+6)  & \\text{factor directly}\n",
    "\\end{align}"
   ]
  },
  {
   "cell_type": "markdown",
   "metadata": {
    "hideCode": true,
    "hidePrompt": true,
    "slideshow": {
     "slide_type": "fragment"
    }
   },
   "source": [
    "We have also seen that there are some equations that we cannot factor with direct methods, such as\n",
    "\n",
    "\\begin{equation}\n",
    "    x^2 - 3x - 7\n",
    "\\end{equation}"
   ]
  },
  {
   "cell_type": "markdown",
   "metadata": {
    "hideCode": true,
    "hidePrompt": true,
    "slideshow": {
     "slide_type": "fragment"
    }
   },
   "source": [
    "But maybe the _quadratic formula_ can help factor our expression. "
   ]
  },
  {
   "cell_type": "markdown",
   "metadata": {
    "hideCode": true,
    "hidePrompt": true,
    "slideshow": {
     "slide_type": "subslide"
    }
   },
   "source": [
    "## Factoring\n",
    "\n",
    "Let us try to factor $$x^2 - x - 6$$ using a new method. \n",
    "\n",
    "Our goal is to find $c_1$ and $c_2$ such that\n",
    "\n",
    "\\begin{equation}\n",
    "    x^2 - x - 6 = (x + c_1)(x + c_2)\n",
    "\\end{equation}\n",
    "\n",
    "The _quadratic equation_ gives us all $x$ such that $x^2 - x - 6 = 0$. This means that we know an $x$ such that\n",
    "\n",
    "\\begin{equation}\n",
    "    x^2 - x - 6 = (x + c_1)(x + c_2) = 0\n",
    "\\end{equation}"
   ]
  },
  {
   "cell_type": "markdown",
   "metadata": {
    "hideCode": true,
    "hidePrompt": true,
    "slideshow": {
     "slide_type": "fragment"
    }
   },
   "source": [
    "In order for $(x + c_1)(x+c_2) = 0$, it **_must_** be true that eiter $(x + c_1) = 0$ or $(x + c_2) = 0$.\n",
    "\n",
    "Hmmmmmm....."
   ]
  },
  {
   "cell_type": "markdown",
   "metadata": {
    "hideCode": true,
    "hidePrompt": true,
    "slideshow": {
     "slide_type": "slide"
    }
   },
   "source": [
    "# Let's try\n",
    "\n",
    "Let's use the _quadratic equation_ on $x^2 - x - 6 = 0$. We get\n",
    "\n",
    "\\begin{align}\n",
    "   x &= \\frac{-b \\pm \\sqrt{b^2 - 4ac}}{2a} \\\\\n",
    "   x &= \\frac{1 \\pm \\sqrt{1 - 4(1)(-6)}}{2\\cdot 1} \\\\\n",
    "   x &= \\frac{1 \\pm\\sqrt{1 + 24}}{2} \\\\\n",
    "   x &= \\frac{1 \\pm\\sqrt{25}}{2} \\\\\n",
    "   x &= \\frac{1 \\pm 5}{2} \\\\\n",
    "   x &= 3, -2 = x_+, x_-\n",
    "\\end{align}"
   ]
  },
  {
   "cell_type": "markdown",
   "metadata": {
    "hideCode": true,
    "hidePrompt": true,
    "slideshow": {
     "slide_type": "subslide"
    }
   },
   "source": [
    "## Let's try\n",
    "\n",
    "\\begin{equation}\n",
    "    x_+, x_- = 3, -2\n",
    "\\end{equation}\n",
    "\n",
    "We want to find $c_1$ and $c_2$ so that $(x+c_1)(x+c_2)=0$ only when $x = x_+$ and $x=x_-$"
   ]
  },
  {
   "cell_type": "markdown",
   "metadata": {
    "hideCode": true,
    "hidePrompt": true,
    "slideshow": {
     "slide_type": "fragment"
    }
   },
   "source": [
    "Idea: let $c_1 = -x_+$ and $c_2 = -x_-$!"
   ]
  },
  {
   "cell_type": "markdown",
   "metadata": {
    "hideCode": true,
    "hidePrompt": true,
    "slideshow": {
     "slide_type": "fragment"
    }
   },
   "source": [
    "We get $x^2 - 3x - 7 = (x - x_+)(x - x_-)$, which is zero _only when_ $x=x_+$ or $x=x_-$!"
   ]
  },
  {
   "cell_type": "markdown",
   "metadata": {
    "hideCode": true,
    "hidePrompt": true,
    "slideshow": {
     "slide_type": "fragment"
    }
   },
   "source": [
    "This gives us\n",
    "\n",
    "\\begin{equation}\n",
    "    x^2 - x - 6 = \\left(x - 3 \\right)\\left(x + 2 \\right)\n",
    "\\end{equation}"
   ]
  },
  {
   "cell_type": "markdown",
   "metadata": {
    "hideCode": true,
    "hidePrompt": true,
    "slideshow": {
     "slide_type": "slide"
    }
   },
   "source": [
    "# Last Comments on Factoring\n",
    "\n",
    "What happens if $a \\neq 1$?"
   ]
  },
  {
   "cell_type": "markdown",
   "metadata": {
    "hideCode": true,
    "hidePrompt": true,
    "slideshow": {
     "slide_type": "fragment"
    }
   },
   "source": [
    "All we have to do is add a factor of $a$ into our factorization! \n",
    "\n",
    "To factor an expression $ax^2 + bx + c$ for any values of $a, b, c$\n",
    "\n",
    "Calculate \n",
    "   \\begin{equation}\n",
    "       x_+, x_- = \\frac{-b \\pm \\sqrt{b^2 - 4ac}}{2a}\n",
    "   \\end{equation}\n",
    "\n",
    "Factor into $a(x - x_+)(x - x_-)$"
   ]
  },
  {
   "cell_type": "markdown",
   "metadata": {
    "hideCode": true,
    "hidePrompt": true,
    "slideshow": {
     "slide_type": "slide"
    }
   },
   "source": [
    "## Practice\n",
    "\n",
    "In _groups of 3_, factor the following expressions with the quadratic formula\n",
    "\n",
    "\\begin{align}\n",
    "    x^2 + x - 6 \\\\\n",
    "    3x^2 - 9x + 6 \\\\\n",
    "    5x^2 + 6x + 1\n",
    "\\end{align}"
   ]
  },
  {
   "cell_type": "markdown",
   "metadata": {
    "hideCode": true,
    "hidePrompt": true,
    "slideshow": {
     "slide_type": "subslide"
    }
   },
   "source": [
    "## Practice Example 1\n",
    "\n",
    "$$x^2 + x - 6$$\n",
    "\n",
    "\\begin{align}\n",
    "    x_+, x_- &= \\frac{-1 \\pm \\sqrt{(1)^2 - 4(1)(-6)}}{2(1)} \\\\\n",
    "            &= \\frac{-1 \\pm \\sqrt{(1 + 24}}{2} \\\\\n",
    "            &= \\frac{-1 \\pm 5}{2} \\\\\n",
    "            &= 2, -3\n",
    "\\end{align}\n",
    "\n",
    "\\begin{align}\n",
    "    x^2 + x - 6 &= (1)(x - x_+)(x - x_-) \\\\\n",
    "    x^2 + x - 6 &= (x - 2)(x + 3)\n",
    "\\end{align}"
   ]
  },
  {
   "cell_type": "markdown",
   "metadata": {
    "hideCode": true,
    "hidePrompt": true,
    "slideshow": {
     "slide_type": "subslide"
    }
   },
   "source": [
    "## Practice Example 2\n",
    "\n",
    "$$3x^2 - 9x + 6$$\n",
    "\n",
    "\\begin{align}\n",
    "    x_+, x_- &= \\frac{9 \\pm \\sqrt{(-9)^2 - 4(3)(6)}}{2(3)} \\\\\n",
    "            &= \\frac{9 \\pm \\sqrt{(81 - 72}}{6} \\\\\n",
    "            &= \\frac{9 \\pm \\sqrt{9}}{6} \\\\\n",
    "            &= \\frac{9 \\pm 3}{6} \\\\\n",
    "            &= 2, 1\n",
    "\\end{align}\n",
    "\n",
    "\\begin{align}\n",
    "    3x^2 - 9x + 6 &= (3)(x - x_+)(x - x_-) \\\\\n",
    "    3x^2 - 9x + 6 &= 3(x - 2)(x + 1)\n",
    "\\end{align}"
   ]
  },
  {
   "cell_type": "markdown",
   "metadata": {
    "hideCode": true,
    "hidePrompt": true,
    "slideshow": {
     "slide_type": "subslide"
    }
   },
   "source": [
    "## Practice Example 3\n",
    "\n",
    "$$5x^2 + 6x + 1$$\n",
    "\n",
    "\\begin{align}\n",
    "    x_+, x_- &= \\frac{-6 \\pm \\sqrt{(6)^2 - 4(5)(1)}}{2(5)} \\\\\n",
    "            &= \\frac{-6 \\pm \\sqrt{36 - 20}}{10} \\\\\n",
    "            &= \\frac{-6 \\pm \\sqrt{16}}{10} \\\\\n",
    "            &= \\frac{-6 \\pm 4}{10} \\\\\n",
    "            &= \\frac{-2}{10}, -1\n",
    "\\end{align}\n",
    "\n",
    "\\begin{align}\n",
    "    5x^2 + 6x + 1 &= (5)(x - x_+)(x - x_-) \\\\\n",
    "    5x^2 + 6x + 1 &= 5\\left(x + \\frac{2}{10}\\right)(x + 1) = (5x + 1)(x + 1)\n",
    "\\end{align}"
   ]
  },
  {
   "cell_type": "markdown",
   "metadata": {
    "hideCode": true,
    "hidePrompt": true,
    "slideshow": {
     "slide_type": "slide"
    }
   },
   "source": [
    "## Graphing Parabolas\n",
    "\n",
    "Before we start computing points to graph, let us understand the parts of a second degree equation. Remember we are looking at the graph\n",
    "\n",
    "\\begin{equation}\n",
    "    y = ax^2 + bx + c\n",
    "\\end{equation}\n",
    "\n",
    "<span style=\"color: green\">True</span> or <span style=\"color: red\">False</span>: If $a$ is positive, the parabola always \"opens upwards\" (looks like a $\\cup$), and if $a$ is negative,  the parabola always \"opens downwards\" (looks like an $\\cap$)."
   ]
  },
  {
   "cell_type": "markdown",
   "metadata": {
    "hideCode": true,
    "hidePrompt": true,
    "slideshow": {
     "slide_type": "subslide"
    }
   },
   "source": [
    "## Graphing Parabolas\n",
    "\n",
    "<span style=\"color: green\">True</span>! \n",
    "\n",
    "### Positive: 😊, Negative: 😞"
   ]
  },
  {
   "cell_type": "code",
   "execution_count": 2,
   "metadata": {
    "hideCode": true,
    "hidePrompt": true,
    "slideshow": {
     "slide_type": "skip"
    }
   },
   "outputs": [],
   "source": [
    "import matplotlib.pyplot as plt\n",
    "import numpy as np\n",
    "\n",
    "plt.rc('text', usetex=True)\n",
    "plt.rc('font', family='serif')"
   ]
  },
  {
   "cell_type": "code",
   "execution_count": 6,
   "metadata": {
    "hideCode": true,
    "hidePrompt": true,
    "slideshow": {
     "slide_type": "-"
    }
   },
   "outputs": [
    {
     "data": {
      "image/png": "[encoded data removed]",
      "text/plain": [
       "<Figure size 1224x468 with 2 Axes>"
      ]
     },
     "metadata": {
      "needs_background": "light"
     },
     "output_type": "display_data"
    }
   ],
   "source": [
    "#hideme\n",
    "x = np.arange(-5, 5, 0.001)\n",
    "y1 = x**2 - 4\n",
    "y2 = -1*x**2 + 4\n",
    "\n",
    "fig = plt.figure(figsize=(17, 6.5))\n",
    "ax = fig.add_subplot(121)\n",
    "ax.plot(x, y1)\n",
    "ax.set_title(\"Positive a\", fontsize=20)\n",
    "ax.spines['left'].set_position('zero')\n",
    "ax.spines['right'].set_color('none')\n",
    "ax.spines['bottom'].set_position('zero')\n",
    "ax.spines['top'].set_color('none')\n",
    "ax.xaxis.set_ticks_position('bottom')\n",
    "ax.yaxis.set_ticks_position('left')\n",
    "\n",
    "\n",
    "ax = fig.add_subplot(122)\n",
    "ax.plot(x, y2)\n",
    "ax.set_title(\"Negative a\", fontsize=20)\n",
    "ax.spines['left'].set_position('zero')\n",
    "ax.spines['right'].set_color('none')\n",
    "ax.spines['bottom'].set_position('zero')\n",
    "ax.spines['top'].set_color('none')\n",
    "ax.xaxis.set_ticks_position('bottom')\n",
    "ax.yaxis.set_ticks_position('left')\n",
    "\n"
   ]
  },
  {
   "cell_type": "markdown",
   "metadata": {
    "hideCode": true,
    "hidePrompt": true,
    "slideshow": {
     "slide_type": "slide"
    }
   },
   "source": [
    "## Axis of Symmetry\n",
    "\n",
    "Notice how a parabola is _symmetric_ about its minimum/maximum point (called its vertex). "
   ]
  },
  {
   "cell_type": "code",
   "execution_count": 7,
   "metadata": {
    "hideCode": true,
    "hidePrompt": true
   },
   "outputs": [
    {
     "data": {
      "image/png": "[encoded data removed]",
      "text/plain": [
       "<Figure size 1224x468 with 1 Axes>"
      ]
     },
     "metadata": {
      "needs_background": "light"
     },
     "output_type": "display_data"
    }
   ],
   "source": [
    "#hideme\n",
    "xleft = np.arange(-6, -0.5, 0.001)\n",
    "xright = np.arange(-0.5, 5, 0.001)\n",
    "yleft = xleft**2 + xleft - 6\n",
    "yright = xright**2 + xright - 6\n",
    "\n",
    "fig = plt.figure(figsize=(17, 6.5))\n",
    "ax = fig.add_subplot(121)\n",
    "ax.set_title(\"$y = f(x) = x^2 + x - 6$\", fontsize=20)\n",
    "\n",
    "ax.plot(xleft, yleft)\n",
    "ax.fill_between(xleft, yleft, 24.1, alpha=0.5,)\n",
    "\n",
    "ax.plot(xright, yright)\n",
    "\n",
    "ax.fill_between(xright, yright, 24.1, alpha=0.5,)\n",
    "\n",
    "\n",
    "point = np.array([-0.5])\n",
    "ypoint = point**2 + point - 6\n",
    "\n",
    "\n",
    "\n",
    "ax.axvline(-0.5, color=\"red\", ymin=-0.9, ymax=0.96, linewidth=4, marker=None, label=\"Axis\")\n",
    "\n",
    "ax.plot([point], [ypoint], marker='o', markersize=10, color=\"black\")\n",
    "\n",
    "ax.annotate('vertex', xy=(-0.5, -6.25), xytext=(2.5, -5.8), size=20,\n",
    "            arrowprops=dict(facecolor='black', shrink=0.05, width=2),\n",
    "            )\n",
    "\n",
    "ax.annotate('axis of symmetry', xy=(-0.5, 10), xytext=(2.5, 10.5), size=20,\n",
    "            arrowprops=dict(facecolor='black', shrink=0.05, width=2),\n",
    "            )\n",
    "\n",
    "ax.spines['left'].set_position('zero')\n",
    "ax.spines['right'].set_color('none')\n",
    "ax.spines['bottom'].set_position('zero')\n",
    "ax.spines['top'].set_color('none')\n",
    "ax.xaxis.set_ticks_position('bottom')\n",
    "ax.yaxis.set_ticks_position('left')"
   ]
  },
  {
   "cell_type": "markdown",
   "metadata": {
    "hideCode": true,
    "hidePrompt": true,
    "slideshow": {
     "slide_type": "subslide"
    }
   },
   "source": [
    "## Axis of Symmetry\n",
    "\n",
    "For a parabola given as\n",
    "\n",
    "\\begin{equation}\n",
    "    y = f(x) = ax^2 + bx + c\n",
    "\\end{equation}\n",
    "\n",
    "We can calculalte the **_$x$ value_** for the _axis of symmetry_ (the red line from before!) as\n",
    "\n",
    "\\begin{equation}\n",
    "    x_{axis} = \\frac{-b}{2a}\n",
    "\\end{equation}"
   ]
  },
  {
   "cell_type": "markdown",
   "metadata": {
    "hideCode": true,
    "hidePrompt": true,
    "slideshow": {
     "slide_type": "fragment"
    }
   },
   "source": [
    "<span style=\"color: green\">True</span> or <span style=\"color: red\">False</span>: If we know $x_{axis}$ and $f(x)$, we can calculate the vertex"
   ]
  },
  {
   "cell_type": "markdown",
   "metadata": {
    "hideCode": true,
    "hidePrompt": true,
    "slideshow": {
     "slide_type": "subslide"
    }
   },
   "source": [
    "<span style=\"color: green\">True</span>! Let's see how!"
   ]
  },
  {
   "cell_type": "markdown",
   "metadata": {
    "hideCode": true,
    "hidePrompt": true,
    "slideshow": {
     "slide_type": "slide"
    }
   },
   "source": [
    "## Finding the Vertex"
   ]
  },
  {
   "cell_type": "code",
   "execution_count": 131,
   "metadata": {
    "hideCode": true,
    "hidePrompt": true
   },
   "outputs": [
    {
     "data": {
      "image/png": "[encoded data removed]",
      "text/plain": [
       "<Figure size 288x216 with 1 Axes>"
      ]
     },
     "metadata": {
      "needs_background": "light"
     },
     "output_type": "display_data"
    }
   ],
   "source": [
    "#hideme\n",
    "xleft = np.arange(-6, -0.5, 0.001)\n",
    "xright = np.arange(-0.5, 5, 0.001)\n",
    "yleft = xleft**2 + xleft - 6\n",
    "yright = xright**2 + xright - 6\n",
    "\n",
    "fig = plt.figure(figsize=(4, 3))\n",
    "ax = fig.add_subplot(111)\n",
    "\n",
    "ax.plot(xleft, yleft)\n",
    "ax.fill_between(xleft, yleft, 24.1, alpha=0.5,)\n",
    "\n",
    "ax.plot(xright, yright)\n",
    "\n",
    "ax.fill_between(xright, yright, 24.1, alpha=0.5,)\n",
    "\n",
    "\n",
    "point = np.array([-0.5])\n",
    "ypoint = point**2 + point - 6\n",
    "\n",
    "\n",
    "\n",
    "ax.axvline(-0.5, color=\"red\", ymin=-0.9, ymax=0.96, linewidth=4, marker=None, label=\"Axis\")\n",
    "\n",
    "ax.plot([point], [ypoint], marker='o', markersize=10, color=\"black\")\n",
    "\n",
    "ax.annotate('vertex', xy=(-0.5, -6.25), xytext=(2.5, -5.8), size=20,\n",
    "            arrowprops=dict(facecolor='black', shrink=0.05, width=2),\n",
    "            )\n",
    "\n",
    "ax.annotate('axis of symmetry', xy=(-0.5, 10), xytext=(2.5, 10.5), size=20,\n",
    "            arrowprops=dict(facecolor='black', shrink=0.05, width=2),\n",
    "            )\n",
    "\n",
    "ax.spines['left'].set_position('zero')\n",
    "ax.spines['right'].set_color('none')\n",
    "ax.spines['bottom'].set_position('zero')\n",
    "ax.spines['top'].set_color('none')\n",
    "ax.xaxis.set_ticks_position('bottom')\n",
    "ax.yaxis.set_ticks_position('left')"
   ]
  },
  {
   "cell_type": "markdown",
   "metadata": {
    "hideCode": true,
    "hidePrompt": true
   },
   "source": [
    "If we know the equation of the parabola $y = f(x) = ax^2 + bx + c$ and we calculated the axis of symmetry\n",
    "\n",
    "\\begin{equation}\n",
    "    x_{axis} = \\frac{-b}{2a}\n",
    "\\end{equation}\n",
    "\n",
    "then the vertex is located at\n",
    "\n",
    "\\begin{equation}\n",
    "    (x_{vertex}, y_{vertex}) = (x_{axis}, f(x_{axis}))\n",
    "\\end{equation}"
   ]
  },
  {
   "cell_type": "markdown",
   "metadata": {
    "hideCode": true,
    "hidePrompt": true,
    "slideshow": {
     "slide_type": "slide"
    }
   },
   "source": [
    "## Practice\n",
    "\n",
    "In _groups of 3_, find the vertex of each of the following parabolas\n",
    "\n",
    "\\begin{align}\n",
    "    x^2 + x - 6 \\\\\n",
    "    3x^2 - 9x + 6 \\\\\n",
    "    5x^2 + 6x + 1 \\\\\n",
    "    6x^2 - 24x - 30\n",
    "\\end{align}"
   ]
  },
  {
   "cell_type": "markdown",
   "metadata": {
    "hideCode": true,
    "hidePrompt": true,
    "slideshow": {
     "slide_type": "subslide"
    }
   },
   "source": [
    "## Practice Example 1\n",
    "   \n",
    "\\begin{equation}\n",
    "    y = f(x) = x^2 + x - 6\n",
    "\\end{equation}\n",
    "\n",
    "\n",
    "\\begin{align}\n",
    "    x_{axis} &= \\frac{-b}{2a} \\\\\n",
    "    x_{axis} &= \\frac{-1}{2} = -0.5\n",
    "\\end{align}\n",
    "\n",
    "\n",
    "\\begin{equation}\n",
    "    y_{vertex} = f(-0.5) = (-0.5)^2 - 0.5 - 6 = -6.25\n",
    "\\end{equation}\n",
    "\n",
    "\\begin{equation}\n",
    "    (x_{vertex}, y_{vertex}) = (-0.5, -6.25)\n",
    "\\end{equation}"
   ]
  },
  {
   "cell_type": "markdown",
   "metadata": {
    "hideCode": true,
    "hidePrompt": true,
    "slideshow": {
     "slide_type": "subslide"
    }
   },
   "source": [
    "## Practice Example 2\n",
    "   \n",
    "\\begin{equation}\n",
    "    y = f(x) = 3x^2 - 9x + 6\n",
    "\\end{equation}\n",
    "\n",
    "\n",
    "\\begin{align}\n",
    "    x_{axis} &= \\frac{-b}{2a} \\\\\n",
    "    x_{axis} &= \\frac{9}{6} = \\frac{3}{2}\n",
    "\\end{align}\n",
    "\n",
    "\n",
    "\\begin{equation}\n",
    "    y_{vertex} = f(3/2) = 3(3/2)^2 -9(3/2) + 6 = \\frac{-3}{4}\n",
    "\\end{equation}\n",
    "\n",
    "\\begin{equation}\n",
    "    (x_{vertex}, y_{vertex}) = (3/2, -3/4)\n",
    "\\end{equation}"
   ]
  },
  {
   "cell_type": "markdown",
   "metadata": {
    "hideCode": true,
    "hidePrompt": true,
    "slideshow": {
     "slide_type": "subslide"
    }
   },
   "source": [
    "## Practice Example 3\n",
    "   \n",
    "\\begin{equation}\n",
    "    y = f(x) = 5x^2 + 6x + 1\n",
    "\\end{equation}\n",
    "\n",
    "\n",
    "\\begin{align}\n",
    "    x_{axis} &= \\frac{-b}{2a} \\\\\n",
    "    x_{axis} &= \\frac{-6}{10} = \\frac{-3}{5}\n",
    "\\end{align}\n",
    "\n",
    "\n",
    "\\begin{equation}\n",
    "    y_{vertex} = f(-3/5) = 5(-3/5)^2 + 6(-3/5) + 1 = \\frac{-4}{5}\n",
    "\\end{equation}\n",
    "\n",
    "\\begin{equation}\n",
    "    (x_{vertex}, y_{vertex}) = (-3/5, -4/5)\n",
    "\\end{equation}"
   ]
  },
  {
   "cell_type": "markdown",
   "metadata": {
    "hideCode": true,
    "hidePrompt": true,
    "slideshow": {
     "slide_type": "subslide"
    }
   },
   "source": [
    "## Practice Example 4\n",
    "   \n",
    "\\begin{equation}\n",
    "    f(x) = 6x^2 - 24x - 30\n",
    "\\end{equation}\n",
    "\n",
    "\n",
    "\\begin{align}\n",
    "    x_{axis} &= \\frac{-b}{2a} \\\\\n",
    "    x_{axis} &= \\frac{24}{12} = 2\n",
    "\\end{align}\n",
    "\n",
    "\n",
    "\\begin{equation}\n",
    "    y_{vertex} = f(2) = 6(2)^2 - 24(2) - 30 = -54\n",
    "\\end{equation}\n",
    "\n",
    "\\begin{equation}\n",
    "    \\left(x_{vertex}, y_{vertex}\\right) = (2, -54)\n",
    "\\end{equation}"
   ]
  },
  {
   "cell_type": "markdown",
   "metadata": {
    "hideCode": true,
    "hidePrompt": true,
    "slideshow": {
     "slide_type": "slide"
    }
   },
   "source": [
    "## Tomorrow\n",
    "\n",
    "Tomorrow we will finish learning how to graph parabolas!"
   ]
  }
 ],
 "metadata": {
  "celltoolbar": "Slideshow",
  "hide_code_all_hidden": true,
  "kernelspec": {
   "display_name": "Python 3",
   "language": "python",
   "name": "python3"
  },
  "language_info": {
   "codemirror_mode": {
    "name": "ipython",
    "version": 3
   },
   "file_extension": ".py",
   "mimetype": "text/x-python",
   "name": "python",
   "nbconvert_exporter": "python",
   "pygments_lexer": "ipython3",
   "version": "3.5.2"
  }
 },
 "nbformat": 4,
 "nbformat_minor": 2
}
