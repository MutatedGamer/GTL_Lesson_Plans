{
 "cells": [
  {
   "cell_type": "markdown",
   "metadata": {
    "hideCode": true,
    "hidePrompt": true,
    "slideshow": {
     "slide_type": "slide"
    }
   },
   "source": [
    "# Limits Day 2"
   ]
  },
  {
   "cell_type": "code",
   "execution_count": 65,
   "metadata": {
    "hideCode": true,
    "hidePrompt": true,
    "slideshow": {
     "slide_type": "skip"
    }
   },
   "outputs": [
    {
     "data": {
      "text/html": [
       "<style> table {max-width: 100%; width: 80%;} th {font-size: 3em; text-align:center;} td {font-size: 2.5em }</style>"
      ],
      "text/plain": [
       "<IPython.core.display.HTML object>"
      ]
     },
     "metadata": {},
     "output_type": "display_data"
    },
    {
     "data": {
      "text/html": [
       "<style> .text_cell_render ol {width: 95%;} .text_cell_render ul {width: 95%; }</style>"
      ],
      "text/plain": [
       "<IPython.core.display.HTML object>"
      ]
     },
     "metadata": {},
     "output_type": "display_data"
    }
   ],
   "source": [
    "import matplotlib.pyplot as plt\n",
    "import matplotlib.ticker as ticker\n",
    "import numpy as np\n",
    "\n",
    "plt.rc('text', usetex=True)\n",
    "plt.rc('font', family='serif')\n",
    "from IPython.core.display import display, HTML\n",
    "display(HTML(\"<style> table {max-width: 100%; width: 80%;} th {font-size: 3em; text-align:center;} td {font-size: 2.5em }</style>\"))\n",
    "display(HTML(\"<style> .text_cell_render ol {width: 95%;} .text_cell_render ul {width: 95%; }</style>\"))"
   ]
  },
  {
   "cell_type": "markdown",
   "metadata": {
    "hideCode": true,
    "hidePrompt": true,
    "slideshow": {
     "slide_type": "subslide"
    }
   },
   "source": [
    "## Warm-Up Questions!"
   ]
  },
  {
   "cell_type": "code",
   "execution_count": 66,
   "metadata": {
    "hideCode": true,
    "hidePrompt": true
   },
   "outputs": [
    {
     "data": {
      "image/png": "[encoded data removed]",
      "text/plain": [
       "<Figure size 504x432 with 1 Axes>"
      ]
     },
     "metadata": {
      "needs_background": "light"
     },
     "output_type": "display_data"
    }
   ],
   "source": [
    "#hideme\n",
    "\n",
    "import math\n",
    "\n",
    "def f(x):\n",
    "    return -1*x**2\n",
    "\n",
    "def g(x):\n",
    "    return x**2 + 3\n",
    "\n",
    "def makeArrowY(ax,pos,function,direction):\n",
    "    delta = 0.0001 if direction >= 0 else -0.01\n",
    "    ax.arrow(pos,function(pos),delta,function(pos+delta)-function(pos),head_width=0.08,head_length=0.2, color=\"#1f77b4\")\n",
    "   \n",
    "def makeArrowX(ax,pos,function,direction):\n",
    "    delta = 0.0001 if direction >= 0 else -0.01\n",
    "    ax.arrow(pos,function(pos),delta,function(pos+delta)-function(pos),head_width=0.1,head_length=0.05, color=\"#1f77b4\")\n",
    "\n",
    "\n",
    "fig = plt.figure(figsize=(7, 6))\n",
    "ax = fig.add_subplot(111)\n",
    "ax.set_title(\"$y = f(x)$\", fontsize=20)\n",
    "\n",
    "xleft = np.arange(-1, 1, 0.001)\n",
    "xright = np.arange(1, 2, 0.001)\n",
    "yright = f(xright)\n",
    "yleft = g(xleft)\n",
    "ax.plot(xleft, yleft)\n",
    "ax.plot(xright, yright, color=\"#1f77b4\")\n",
    "#ax.yaxis.set_major_locator(ticker.MultipleLocator(1))\n",
    "\n",
    "#ax.plot(1, 2, marker='o', linewidth=0, markersize=5, markerfacecolor=\"None\",\n",
    "         #markeredgecolor='black')\n",
    "\n",
    "\n",
    "makeArrowY(ax, -1, g, -1)\n",
    "makeArrowY(ax, 2, f, 1)\n",
    "\n",
    "\n",
    "ax.grid(True)\n",
    "\n",
    "ax.spines['left'].set_position('zero')\n",
    "ax.spines['right'].set_color('none')\n",
    "ax.spines['bottom'].set_position('zero')\n",
    "ax.spines['top'].set_color('none')\n",
    "ax.xaxis.set_ticks_position('bottom')\n",
    "ax.yaxis.set_ticks_position('left')"
   ]
  },
  {
   "cell_type": "markdown",
   "metadata": {
    "hideCode": true,
    "hidePrompt": true,
    "slideshow": {
     "slide_type": "-"
    }
   },
   "source": [
    "What is $\\displaystyle\\lim_{x \\rightarrow 1^-} f(x)$?"
   ]
  },
  {
   "cell_type": "markdown",
   "metadata": {
    "hideCode": true,
    "hidePrompt": true,
    "slideshow": {
     "slide_type": "subslide"
    }
   },
   "source": [
    "## Warm-Up Questions!"
   ]
  },
  {
   "cell_type": "code",
   "execution_count": 8,
   "metadata": {
    "hideCode": true,
    "hidePrompt": true
   },
   "outputs": [
    {
     "data": {
      "image/png": "[encoded data removed]",
      "text/plain": [
       "<Figure size 504x432 with 1 Axes>"
      ]
     },
     "metadata": {
      "needs_background": "light"
     },
     "output_type": "display_data"
    }
   ],
   "source": [
    "#hideme\n",
    "\n",
    "import math\n",
    "\n",
    "def f(x):\n",
    "    return -1*x**2\n",
    "\n",
    "def g(x):\n",
    "    return x**2 + 3\n",
    "\n",
    "def makeArrowY(ax,pos,function,direction):\n",
    "    delta = 0.0001 if direction >= 0 else -0.01\n",
    "    ax.arrow(pos,function(pos),delta,function(pos+delta)-function(pos),head_width=0.08,head_length=0.2, color=\"#1f77b4\")\n",
    "   \n",
    "def makeArrowX(ax,pos,function,direction):\n",
    "    delta = 0.0001 if direction >= 0 else -0.01\n",
    "    ax.arrow(pos,function(pos),delta,function(pos+delta)-function(pos),head_width=0.1,head_length=0.05, color=\"#1f77b4\")\n",
    "\n",
    "\n",
    "fig = plt.figure(figsize=(7, 6))\n",
    "ax = fig.add_subplot(111)\n",
    "ax.set_title(\"$y = f(x)$\", fontsize=20)\n",
    "\n",
    "xleft = np.arange(-1, 1, 0.001)\n",
    "xright = np.arange(1, 2, 0.001)\n",
    "yright = f(xright)\n",
    "yleft = g(xleft)\n",
    "ax.plot(xleft, yleft)\n",
    "ax.plot(xright, yright, color=\"#1f77b4\")\n",
    "#ax.yaxis.set_major_locator(ticker.MultipleLocator(1))\n",
    "\n",
    "#ax.plot(1, 2, marker='o', linewidth=0, markersize=5, markerfacecolor=\"None\",\n",
    "         #markeredgecolor='black')\n",
    "\n",
    "\n",
    "makeArrowY(ax, -1, g, -1)\n",
    "makeArrowY(ax, 2, f, 1)\n",
    "\n",
    "\n",
    "ax.grid(True)\n",
    "\n",
    "ax.spines['left'].set_position('zero')\n",
    "ax.spines['right'].set_color('none')\n",
    "ax.spines['bottom'].set_position('zero')\n",
    "ax.spines['top'].set_color('none')\n",
    "ax.xaxis.set_ticks_position('bottom')\n",
    "ax.yaxis.set_ticks_position('left')"
   ]
  },
  {
   "cell_type": "markdown",
   "metadata": {
    "hideCode": true,
    "hidePrompt": true,
    "slideshow": {
     "slide_type": "-"
    }
   },
   "source": [
    "$\\displaystyle\\lim_{x \\rightarrow 1^-} f(x) = 4$"
   ]
  },
  {
   "cell_type": "markdown",
   "metadata": {
    "hideCode": true,
    "hidePrompt": true,
    "slideshow": {
     "slide_type": "subslide"
    }
   },
   "source": [
    "## Warm-Up Questions!"
   ]
  },
  {
   "cell_type": "code",
   "execution_count": 8,
   "metadata": {
    "hideCode": true,
    "hidePrompt": true
   },
   "outputs": [
    {
     "data": {
      "image/png": "[encoded data removed]",
      "text/plain": [
       "<Figure size 504x432 with 1 Axes>"
      ]
     },
     "metadata": {
      "needs_background": "light"
     },
     "output_type": "display_data"
    }
   ],
   "source": [
    "#hideme\n",
    "\n",
    "import math\n",
    "\n",
    "def f(x):\n",
    "    return -1*x**2\n",
    "\n",
    "def g(x):\n",
    "    return x**2 + 3\n",
    "\n",
    "def makeArrowY(ax,pos,function,direction):\n",
    "    delta = 0.0001 if direction >= 0 else -0.01\n",
    "    ax.arrow(pos,function(pos),delta,function(pos+delta)-function(pos),head_width=0.08,head_length=0.2, color=\"#1f77b4\")\n",
    "   \n",
    "def makeArrowX(ax,pos,function,direction):\n",
    "    delta = 0.0001 if direction >= 0 else -0.01\n",
    "    ax.arrow(pos,function(pos),delta,function(pos+delta)-function(pos),head_width=0.1,head_length=0.05, color=\"#1f77b4\")\n",
    "\n",
    "\n",
    "fig = plt.figure(figsize=(7, 6))\n",
    "ax = fig.add_subplot(111)\n",
    "ax.set_title(\"$y = f(x)$\", fontsize=20)\n",
    "\n",
    "xleft = np.arange(-1, 1, 0.001)\n",
    "xright = np.arange(1, 2, 0.001)\n",
    "yright = f(xright)\n",
    "yleft = g(xleft)\n",
    "ax.plot(xleft, yleft)\n",
    "ax.plot(xright, yright, color=\"#1f77b4\")\n",
    "#ax.yaxis.set_major_locator(ticker.MultipleLocator(1))\n",
    "\n",
    "#ax.plot(1, 2, marker='o', linewidth=0, markersize=5, markerfacecolor=\"None\",\n",
    "         #markeredgecolor='black')\n",
    "\n",
    "\n",
    "makeArrowY(ax, -1, g, -1)\n",
    "makeArrowY(ax, 2, f, 1)\n",
    "\n",
    "\n",
    "ax.grid(True)\n",
    "\n",
    "ax.spines['left'].set_position('zero')\n",
    "ax.spines['right'].set_color('none')\n",
    "ax.spines['bottom'].set_position('zero')\n",
    "ax.spines['top'].set_color('none')\n",
    "ax.xaxis.set_ticks_position('bottom')\n",
    "ax.yaxis.set_ticks_position('left')"
   ]
  },
  {
   "cell_type": "markdown",
   "metadata": {
    "hideCode": true,
    "hidePrompt": true,
    "slideshow": {
     "slide_type": "-"
    }
   },
   "source": [
    "What is $\\displaystyle\\lim_{x \\rightarrow 1^+} f(x)$?"
   ]
  },
  {
   "cell_type": "markdown",
   "metadata": {
    "hideCode": true,
    "hidePrompt": true,
    "slideshow": {
     "slide_type": "subslide"
    }
   },
   "source": [
    "## Warm-Up Questions!"
   ]
  },
  {
   "cell_type": "code",
   "execution_count": 8,
   "metadata": {
    "hideCode": true,
    "hidePrompt": true
   },
   "outputs": [
    {
     "data": {
      "image/png": "[encoded data removed]",
      "text/plain": [
       "<Figure size 504x432 with 1 Axes>"
      ]
     },
     "metadata": {
      "needs_background": "light"
     },
     "output_type": "display_data"
    }
   ],
   "source": [
    "#hideme\n",
    "\n",
    "import math\n",
    "\n",
    "def f(x):\n",
    "    return -1*x**2\n",
    "\n",
    "def g(x):\n",
    "    return x**2 + 3\n",
    "\n",
    "def makeArrowY(ax,pos,function,direction):\n",
    "    delta = 0.0001 if direction >= 0 else -0.01\n",
    "    ax.arrow(pos,function(pos),delta,function(pos+delta)-function(pos),head_width=0.08,head_length=0.2, color=\"#1f77b4\")\n",
    "   \n",
    "def makeArrowX(ax,pos,function,direction):\n",
    "    delta = 0.0001 if direction >= 0 else -0.01\n",
    "    ax.arrow(pos,function(pos),delta,function(pos+delta)-function(pos),head_width=0.1,head_length=0.05, color=\"#1f77b4\")\n",
    "\n",
    "\n",
    "fig = plt.figure(figsize=(7, 6))\n",
    "ax = fig.add_subplot(111)\n",
    "ax.set_title(\"$y = f(x)$\", fontsize=20)\n",
    "\n",
    "xleft = np.arange(-1, 1, 0.001)\n",
    "xright = np.arange(1, 2, 0.001)\n",
    "yright = f(xright)\n",
    "yleft = g(xleft)\n",
    "ax.plot(xleft, yleft)\n",
    "ax.plot(xright, yright, color=\"#1f77b4\")\n",
    "#ax.yaxis.set_major_locator(ticker.MultipleLocator(1))\n",
    "\n",
    "#ax.plot(1, 2, marker='o', linewidth=0, markersize=5, markerfacecolor=\"None\",\n",
    "         #markeredgecolor='black')\n",
    "\n",
    "\n",
    "makeArrowY(ax, -1, g, -1)\n",
    "makeArrowY(ax, 2, f, 1)\n",
    "\n",
    "\n",
    "ax.grid(True)\n",
    "\n",
    "ax.spines['left'].set_position('zero')\n",
    "ax.spines['right'].set_color('none')\n",
    "ax.spines['bottom'].set_position('zero')\n",
    "ax.spines['top'].set_color('none')\n",
    "ax.xaxis.set_ticks_position('bottom')\n",
    "ax.yaxis.set_ticks_position('left')"
   ]
  },
  {
   "cell_type": "markdown",
   "metadata": {
    "hideCode": true,
    "hidePrompt": true,
    "slideshow": {
     "slide_type": "-"
    }
   },
   "source": [
    "$\\displaystyle\\lim_{x \\rightarrow 1^+} f(x) = -1$"
   ]
  },
  {
   "cell_type": "markdown",
   "metadata": {
    "hideCode": true,
    "hidePrompt": true,
    "slideshow": {
     "slide_type": "subslide"
    }
   },
   "source": [
    "## Warm-Up Questions!"
   ]
  },
  {
   "cell_type": "code",
   "execution_count": 8,
   "metadata": {
    "hideCode": true,
    "hidePrompt": true
   },
   "outputs": [
    {
     "data": {
      "image/png": "[encoded data removed]",
      "text/plain": [
       "<Figure size 504x432 with 1 Axes>"
      ]
     },
     "metadata": {
      "needs_background": "light"
     },
     "output_type": "display_data"
    }
   ],
   "source": [
    "#hideme\n",
    "\n",
    "import math\n",
    "\n",
    "def f(x):\n",
    "    return -1*x**2\n",
    "\n",
    "def g(x):\n",
    "    return x**2 + 3\n",
    "\n",
    "def makeArrowY(ax,pos,function,direction):\n",
    "    delta = 0.0001 if direction >= 0 else -0.01\n",
    "    ax.arrow(pos,function(pos),delta,function(pos+delta)-function(pos),head_width=0.08,head_length=0.2, color=\"#1f77b4\")\n",
    "   \n",
    "def makeArrowX(ax,pos,function,direction):\n",
    "    delta = 0.0001 if direction >= 0 else -0.01\n",
    "    ax.arrow(pos,function(pos),delta,function(pos+delta)-function(pos),head_width=0.1,head_length=0.05, color=\"#1f77b4\")\n",
    "\n",
    "\n",
    "fig = plt.figure(figsize=(7, 6))\n",
    "ax = fig.add_subplot(111)\n",
    "ax.set_title(\"$y = f(x)$\", fontsize=20)\n",
    "\n",
    "xleft = np.arange(-1, 1, 0.001)\n",
    "xright = np.arange(1, 2, 0.001)\n",
    "yright = f(xright)\n",
    "yleft = g(xleft)\n",
    "ax.plot(xleft, yleft)\n",
    "ax.plot(xright, yright, color=\"#1f77b4\")\n",
    "#ax.yaxis.set_major_locator(ticker.MultipleLocator(1))\n",
    "\n",
    "#ax.plot(1, 2, marker='o', linewidth=0, markersize=5, markerfacecolor=\"None\",\n",
    "         #markeredgecolor='black')\n",
    "\n",
    "\n",
    "makeArrowY(ax, -1, g, -1)\n",
    "makeArrowY(ax, 2, f, 1)\n",
    "\n",
    "\n",
    "ax.grid(True)\n",
    "\n",
    "ax.spines['left'].set_position('zero')\n",
    "ax.spines['right'].set_color('none')\n",
    "ax.spines['bottom'].set_position('zero')\n",
    "ax.spines['top'].set_color('none')\n",
    "ax.xaxis.set_ticks_position('bottom')\n",
    "ax.yaxis.set_ticks_position('left')"
   ]
  },
  {
   "cell_type": "markdown",
   "metadata": {
    "hideCode": true,
    "hidePrompt": true,
    "slideshow": {
     "slide_type": "-"
    }
   },
   "source": [
    "What is $\\displaystyle\\lim_{x \\rightarrow 1} f(x)$?"
   ]
  },
  {
   "cell_type": "markdown",
   "metadata": {
    "hideCode": true,
    "hidePrompt": true,
    "slideshow": {
     "slide_type": "subslide"
    }
   },
   "source": [
    "## Warm-Up Questions!"
   ]
  },
  {
   "cell_type": "code",
   "execution_count": 8,
   "metadata": {
    "hideCode": true,
    "hidePrompt": true
   },
   "outputs": [
    {
     "data": {
      "image/png": "[encoded data removed]",
      "text/plain": [
       "<Figure size 504x432 with 1 Axes>"
      ]
     },
     "metadata": {
      "needs_background": "light"
     },
     "output_type": "display_data"
    }
   ],
   "source": [
    "#hideme\n",
    "\n",
    "import math\n",
    "\n",
    "def f(x):\n",
    "    return -1*x**2\n",
    "\n",
    "def g(x):\n",
    "    return x**2 + 3\n",
    "\n",
    "def makeArrowY(ax,pos,function,direction):\n",
    "    delta = 0.0001 if direction >= 0 else -0.01\n",
    "    ax.arrow(pos,function(pos),delta,function(pos+delta)-function(pos),head_width=0.08,head_length=0.2, color=\"#1f77b4\")\n",
    "   \n",
    "def makeArrowX(ax,pos,function,direction):\n",
    "    delta = 0.0001 if direction >= 0 else -0.01\n",
    "    ax.arrow(pos,function(pos),delta,function(pos+delta)-function(pos),head_width=0.1,head_length=0.05, color=\"#1f77b4\")\n",
    "\n",
    "\n",
    "fig = plt.figure(figsize=(7, 6))\n",
    "ax = fig.add_subplot(111)\n",
    "ax.set_title(\"$y = f(x)$\", fontsize=20)\n",
    "\n",
    "xleft = np.arange(-1, 1, 0.001)\n",
    "xright = np.arange(1, 2, 0.001)\n",
    "yright = f(xright)\n",
    "yleft = g(xleft)\n",
    "ax.plot(xleft, yleft)\n",
    "ax.plot(xright, yright, color=\"#1f77b4\")\n",
    "#ax.yaxis.set_major_locator(ticker.MultipleLocator(1))\n",
    "\n",
    "#ax.plot(1, 2, marker='o', linewidth=0, markersize=5, markerfacecolor=\"None\",\n",
    "         #markeredgecolor='black')\n",
    "\n",
    "\n",
    "makeArrowY(ax, -1, g, -1)\n",
    "makeArrowY(ax, 2, f, 1)\n",
    "\n",
    "\n",
    "ax.grid(True)\n",
    "\n",
    "ax.spines['left'].set_position('zero')\n",
    "ax.spines['right'].set_color('none')\n",
    "ax.spines['bottom'].set_position('zero')\n",
    "ax.spines['top'].set_color('none')\n",
    "ax.xaxis.set_ticks_position('bottom')\n",
    "ax.yaxis.set_ticks_position('left')"
   ]
  },
  {
   "cell_type": "markdown",
   "metadata": {
    "hideCode": true,
    "hidePrompt": true,
    "slideshow": {
     "slide_type": "-"
    }
   },
   "source": [
    "$\\displaystyle\\lim_{x \\rightarrow 1} f(x)$ is undefined, because $\\displaystyle\\lim_{x \\rightarrow 1^-} f(x) \\neq \\displaystyle\\lim_{x \\rightarrow 1^+} f(x)$"
   ]
  },
  {
   "cell_type": "markdown",
   "metadata": {
    "hideCode": true,
    "hidePrompt": true,
    "slideshow": {
     "slide_type": "slide"
    }
   },
   "source": [
    "## A new problem: asymptotes \n",
    "\n",
    "Consider the following function: $f(x) = \\frac{1}{x^2}$"
   ]
  },
  {
   "cell_type": "code",
   "execution_count": 28,
   "metadata": {
    "hideCode": true,
    "hidePrompt": true
   },
   "outputs": [
    {
     "data": {
      "image/png": "[encoded data removed]",
      "text/plain": [
       "<Figure size 504x432 with 1 Axes>"
      ]
     },
     "metadata": {
      "needs_background": "light"
     },
     "output_type": "display_data"
    }
   ],
   "source": [
    "#hideme\n",
    "\n",
    "import math\n",
    "\n",
    "def f(x):\n",
    "    return 1/(x**2)\n",
    "\n",
    "\n",
    "\n",
    "def makeArrowY(ax,pos,function,direction):\n",
    "    delta = 0.0001 if direction >= 0 else -0.01\n",
    "    ax.arrow(pos,function(pos),delta,function(pos+delta)-function(pos),head_width=0.08,head_length=0.2, color=\"#1f77b4\")\n",
    "   \n",
    "def makeArrowX(ax,pos,function,direction):\n",
    "    delta = 0.0001 if direction >= 0 else -0.01\n",
    "    ax.arrow(pos,function(pos),delta,function(pos+delta)-function(pos),head_width=0.5,head_length=2, color=\"#1f77b4\")\n",
    "\n",
    "\n",
    "fig = plt.figure(figsize=(7, 6))\n",
    "ax = fig.add_subplot(111)\n",
    "ax.set_title(\"$y = f(x)$\", fontsize=20)\n",
    "\n",
    "xleft = np.arange(-2, -0.01, 0.001)\n",
    "xright = np.arange(0.01, 2, 0.001)\n",
    "yright = f(xright)\n",
    "yleft = f(xleft)\n",
    "ax.plot(xleft, yleft)\n",
    "ax.plot(xright, yright, color=\"#1f77b4\")\n",
    "ax.set_ylim(0, 40)\n",
    "#ax.yaxis.set_major_locator(ticker.MultipleLocator(1))\n",
    "\n",
    "#ax.plot(1, 2, marker='o', linewidth=0, markersize=5, markerfacecolor=\"None\",\n",
    "         #markeredgecolor='black')\n",
    "\n",
    "\n",
    "#makeArrowX(ax, -2, f, -1)\n",
    "#makeArrowX(ax, 2, f, 1)\n",
    "\n",
    "\n",
    "ax.grid(True)\n",
    "\n",
    "ax.spines['left'].set_position('zero')\n",
    "ax.spines['right'].set_color('none')\n",
    "ax.spines['bottom'].set_position('zero')\n",
    "ax.spines['top'].set_color('none')\n",
    "ax.xaxis.set_ticks_position('bottom')\n",
    "#ax.yaxis.set_ticks_position('left')()"
   ]
  },
  {
   "cell_type": "markdown",
   "metadata": {
    "hideCode": true,
    "hidePrompt": true,
    "slideshow": {
     "slide_type": "fragment"
    }
   },
   "source": [
    "At $x=0$, the function is undefined. But, there is not a clear value that it \"approaches\" there; how do we take the limit?"
   ]
  },
  {
   "cell_type": "markdown",
   "metadata": {
    "hideCode": true,
    "hidePrompt": true,
    "slideshow": {
     "slide_type": "slide"
    }
   },
   "source": [
    "## A new problem: asymptotes \n",
    "\n",
    "Consider the following function: $f(x) = \\frac{1}{x^2}$"
   ]
  },
  {
   "cell_type": "markdown",
   "metadata": {
    "hideCode": true,
    "hidePrompt": true,
    "slideshow": {
     "slide_type": "-"
    }
   },
   "source": [
    "We say that $x = 0$ is a vertical **_asymptote_**. A vertical asymptote is a value at which the function \"blows up\" around. "
   ]
  },
  {
   "cell_type": "markdown",
   "metadata": {
    "hideCode": true,
    "hidePrompt": true,
    "slideshow": {
     "slide_type": "fragment"
    }
   },
   "source": [
    "\\begin{equation}\n",
    "    \\lim_{x \\rightarrow 0} \\ \\frac{1}{x^2} = \\infty\n",
    "\\end{equation}"
   ]
  },
  {
   "cell_type": "markdown",
   "metadata": {
    "hideCode": true,
    "hidePrompt": true,
    "slideshow": {
     "slide_type": "slide"
    }
   },
   "source": [
    "## Concept Question\n",
    "\n",
    "<span style=\"color: green\">True</span> or <span style=\"color: red\">False</span>: $\\displaystyle\\lim_{x \\rightarrow 0} \\ \\frac{1}{x} = \\infty$"
   ]
  },
  {
   "cell_type": "markdown",
   "metadata": {
    "hideCode": true,
    "hidePrompt": true,
    "slideshow": {
     "slide_type": "subslide"
    }
   },
   "source": [
    "<span style=\"color: red\">False!</span> $\\displaystyle\\lim_{x \\rightarrow 0} \\frac{1}{x} =$ undefined because\n",
    "\n",
    "<span style=\"fontsize: 10px\">\n",
    "\\begin{align}\n",
    "    \\lim_{x \\rightarrow 0^-} \\ \\frac{1}{x} = -\\infty && \\lim_{x \\rightarrow 0^+} \\ \\frac{1}{x} = \\infty\n",
    "\\end{align}\n",
    "</span>"
   ]
  },
  {
   "cell_type": "code",
   "execution_count": 31,
   "metadata": {
    "hideCode": true,
    "hidePrompt": true
   },
   "outputs": [
    {
     "data": {
      "image/png": "[encoded data removed]",
      "text/plain": [
       "<Figure size 360x288 with 1 Axes>"
      ]
     },
     "metadata": {
      "needs_background": "light"
     },
     "output_type": "display_data"
    }
   ],
   "source": [
    "#hideme\n",
    "\n",
    "import math\n",
    "\n",
    "def f(x):\n",
    "    return 1/x\n",
    "\n",
    "\n",
    "\n",
    "def makeArrowY(ax,pos,function,direction):\n",
    "    delta = 0.0001 if direction >= 0 else -0.01\n",
    "    ax.arrow(pos,function(pos),delta,function(pos+delta)-function(pos),head_width=0.08,head_length=0.2, color=\"#1f77b4\")\n",
    "   \n",
    "def makeArrowX(ax,pos,function,direction):\n",
    "    delta = 0.0001 if direction >= 0 else -0.01\n",
    "    ax.arrow(pos,function(pos),delta,function(pos+delta)-function(pos),head_width=0.5,head_length=2, color=\"#1f77b4\")\n",
    "\n",
    "\n",
    "fig = plt.figure(figsize=(5, 4))\n",
    "ax = fig.add_subplot(111)\n",
    "ax.set_title(\"$y = 1/x$\", fontsize=20)\n",
    "\n",
    "xleft = np.arange(-2, -0.01, 0.001)\n",
    "xright = np.arange(0.01, 2, 0.001)\n",
    "yright = f(xright)\n",
    "yleft = f(xleft)\n",
    "ax.plot(xleft, yleft)\n",
    "ax.plot(xright, yright, color=\"#1f77b4\")\n",
    "ax.set_ylim(-20, 20)\n",
    "#ax.yaxis.set_major_locator(ticker.MultipleLocator(1))\n",
    "\n",
    "#ax.plot(1, 2, marker='o', linewidth=0, markersize=5, markerfacecolor=\"None\",\n",
    "         #markeredgecolor='black')\n",
    "\n",
    "\n",
    "#makeArrowX(ax, -2, f, -1)\n",
    "#makeArrowX(ax, 2, f, 1)\n",
    "\n",
    "\n",
    "ax.grid(True)\n",
    "\n",
    "ax.spines['left'].set_position('zero')\n",
    "ax.spines['right'].set_color('none')\n",
    "ax.spines['bottom'].set_position('zero')\n",
    "ax.spines['top'].set_color('none')\n",
    "ax.xaxis.set_ticks_position('bottom')\n",
    "#ax.yaxis.set_ticks_position('left')()"
   ]
  },
  {
   "cell_type": "markdown",
   "metadata": {
    "slideshow": {
     "slide_type": "slide"
    }
   },
   "source": [
    "## Determining Asymptotes\n",
    "\n",
    "If we are trying to evaluate $$\\lim_{x \\rightarrow a} \\ f(x)$$ and $$f(a) = \\frac{1}{0}$$ then we say that $a$ is a _vertical asymptote._\n",
    "\n",
    "If $\\displaystyle\\lim_{x \\rightarrow a^-} f(x) = \\displaystyle\\lim_{x \\rightarrow a^+} f(x)$ then $\\displaystyle\\lim_{x \\rightarrow a} \\ f(x) = \\pm \\infty$.\n",
    "\n",
    "\\begin{gather}\n",
    "    \\displaystyle\\lim_{x \\rightarrow a^-} f(x) = \\displaystyle\\lim_{x \\rightarrow a^+} f(x) = \\infty \\rightarrow \\displaystyle\\lim_{x \\rightarrow a} f(x) = \\infty \\\\ \\\\\n",
    "    \\displaystyle\\lim_{x \\rightarrow a^-} f(x) = \\displaystyle\\lim_{x \\rightarrow a^+} f(x) = - \\infty \\rightarrow \\displaystyle\\lim_{x \\rightarrow a} f(x) = - \\infty \\\\ \\\\\n",
    "    \\displaystyle\\lim_{x \\rightarrow a^-} f(x) \\neq \\displaystyle\\lim_{x \\rightarrow a^+} f(x) \\rightarrow \\displaystyle\\lim_{x \\rightarrow a} f(x) = \\text{undefined}\n",
    "\\end{gather}\n",
    "\n",
    "**_Note that $\\frac{1}{0}$ is NOT an indeterminant form!_**"
   ]
  },
  {
   "cell_type": "markdown",
   "metadata": {
    "hideCode": true,
    "hidePrompt": true,
    "slideshow": {
     "slide_type": "slide"
    }
   },
   "source": [
    "## Constructing Graphs\n",
    "\n",
    "In **_groups of 3_**, create 3 functions that have the desired limits\n",
    "\n",
    "1. $\\displaystyle\\lim_{x \\rightarrow 3} \\ f(x) = \\infty$\n",
    "2. $\\displaystyle\\lim_{x \\rightarrow 3^-} \\ g(x) = -\\infty$ and $\\displaystyle\\lim_{x \\rightarrow 3^+} \\ g(x) = \\infty$\n",
    "3. $\\displaystyle\\lim_{x \\rightarrow 0^+} \\ h(x) = -\\infty$ and $h(x)$ is not a fraction"
   ]
  },
  {
   "cell_type": "markdown",
   "metadata": {
    "hideCode": true,
    "hidePrompt": true,
    "slideshow": {
     "slide_type": "slide"
    }
   },
   "source": [
    "## Constructing Graphs Example 1\n",
    "\\begin{equation}\n",
    "    \\lim_{x \\rightarrow 3} \\ f(x) = \\infty\n",
    "\\end{equation}\n",
    "\n",
    "\\begin{equation}\n",
    "    f(x) = \\frac{1}{(x-3)^2}\n",
    "\\end{equation}\n"
   ]
  },
  {
   "cell_type": "code",
   "execution_count": 41,
   "metadata": {
    "hideCode": true,
    "hidePrompt": true
   },
   "outputs": [
    {
     "data": {
      "image/png": "[encoded data removed]",
      "text/plain": [
       "<Figure size 576x504 with 1 Axes>"
      ]
     },
     "metadata": {
      "needs_background": "light"
     },
     "output_type": "display_data"
    }
   ],
   "source": [
    "#hideme\n",
    "\n",
    "import math\n",
    "\n",
    "def f(x):\n",
    "    return 1/(x-3)**2\n",
    "\n",
    "\n",
    "\n",
    "def makeArrowY(ax,pos,function,direction):\n",
    "    delta = 0.0001 if direction >= 0 else -0.01\n",
    "    ax.arrow(pos,function(pos),delta,function(pos+delta)-function(pos),head_width=0.08,head_length=0.2, color=\"#1f77b4\")\n",
    "   \n",
    "def makeArrowX(ax,pos,function,direction):\n",
    "    delta = 0.0001 if direction >= 0 else -0.01\n",
    "    ax.arrow(pos,function(pos),delta,function(pos+delta)-function(pos),head_width=0.5,head_length=2, color=\"#1f77b4\")\n",
    "\n",
    "\n",
    "fig = plt.figure(figsize=(8, 7))\n",
    "ax = fig.add_subplot(111)\n",
    "ax.set_title(\"$y = 1/(x-3)^2$\", fontsize=20)\n",
    "\n",
    "xleft = np.arange(-1, 2.99, 0.001)\n",
    "xright = np.arange(3.01, 4, 0.001)\n",
    "yright = f(xright)\n",
    "yleft = f(xleft)\n",
    "ax.plot(xleft, yleft)\n",
    "ax.plot(xright, yright, color=\"#1f77b4\")\n",
    "ax.set_ylim(0, 50)\n",
    "#ax.yaxis.set_major_locator(ticker.MultipleLocator(1))\n",
    "\n",
    "#ax.plot(1, 2, marker='o', linewidth=0, markersize=5, markerfacecolor=\"None\",\n",
    "         #markeredgecolor='black')\n",
    "\n",
    "\n",
    "#makeArrowX(ax, -2, f, -1)\n",
    "#makeArrowX(ax, 2, f, 1)\n",
    "\n",
    "\n",
    "ax.grid(True)\n",
    "\n",
    "ax.spines['left'].set_position('zero')\n",
    "ax.spines['right'].set_color('none')\n",
    "ax.spines['bottom'].set_position('zero')\n",
    "ax.spines['top'].set_color('none')\n",
    "ax.xaxis.set_ticks_position('bottom')\n",
    "ax.yaxis.set_ticks_position('left')"
   ]
  },
  {
   "cell_type": "markdown",
   "metadata": {
    "hideCode": true,
    "hidePrompt": true,
    "slideshow": {
     "slide_type": "slide"
    }
   },
   "source": [
    "## Constructing Graphs Example 2\n",
    "\\begin{align}\n",
    "    \\lim_{x \\rightarrow 3^-} \\ g(x) = -\\infty && \\lim_{x \\rightarrow 3^+} \\ g(x) = \\infty\n",
    "\\end{align}\n",
    "\n",
    "\\begin{equation}\n",
    "    g(x) = \\frac{1}{(x-3)}\n",
    "\\end{equation}"
   ]
  },
  {
   "cell_type": "code",
   "execution_count": 42,
   "metadata": {
    "hideCode": true,
    "hidePrompt": true
   },
   "outputs": [
    {
     "data": {
      "image/png": "[encoded data removed]",
      "text/plain": [
       "<Figure size 576x504 with 1 Axes>"
      ]
     },
     "metadata": {
      "needs_background": "light"
     },
     "output_type": "display_data"
    }
   ],
   "source": [
    "#hideme\n",
    "\n",
    "import math\n",
    "\n",
    "def f(x):\n",
    "    return 1/(x-3)\n",
    "\n",
    "\n",
    "\n",
    "def makeArrowY(ax,pos,function,direction):\n",
    "    delta = 0.0001 if direction >= 0 else -0.01\n",
    "    ax.arrow(pos,function(pos),delta,function(pos+delta)-function(pos),head_width=0.08,head_length=0.2, color=\"#1f77b4\")\n",
    "   \n",
    "def makeArrowX(ax,pos,function,direction):\n",
    "    delta = 0.0001 if direction >= 0 else -0.01\n",
    "    ax.arrow(pos,function(pos),delta,function(pos+delta)-function(pos),head_width=0.5,head_length=2, color=\"#1f77b4\")\n",
    "\n",
    "\n",
    "fig = plt.figure(figsize=(8, 7))\n",
    "ax = fig.add_subplot(111)\n",
    "ax.set_title(\"$y = 1/(x-3)$\", fontsize=20)\n",
    "\n",
    "xleft = np.arange(-1, 2.99, 0.001)\n",
    "xright = np.arange(3.01, 4, 0.001)\n",
    "yright = f(xright)\n",
    "yleft = f(xleft)\n",
    "ax.plot(xleft, yleft)\n",
    "ax.plot(xright, yright, color=\"#1f77b4\")\n",
    "ax.set_ylim(-25, 25)\n",
    "#ax.yaxis.set_major_locator(ticker.MultipleLocator(1))\n",
    "\n",
    "#ax.plot(1, 2, marker='o', linewidth=0, markersize=5, markerfacecolor=\"None\",\n",
    "         #markeredgecolor='black')\n",
    "\n",
    "\n",
    "#makeArrowX(ax, -2, f, -1)\n",
    "#makeArrowX(ax, 2, f, 1)\n",
    "\n",
    "\n",
    "ax.grid(True)\n",
    "\n",
    "ax.spines['left'].set_position('zero')\n",
    "ax.spines['right'].set_color('none')\n",
    "ax.spines['bottom'].set_position('zero')\n",
    "ax.spines['top'].set_color('none')\n",
    "ax.xaxis.set_ticks_position('bottom')\n",
    "ax.yaxis.set_ticks_position('left')"
   ]
  },
  {
   "cell_type": "markdown",
   "metadata": {
    "hideCode": true,
    "hidePrompt": true,
    "slideshow": {
     "slide_type": "slide"
    }
   },
   "source": [
    "## Constructing Graphs\n",
    "\\begin{equation}\n",
    "    \\lim_{x \\rightarrow 0^+} \\ h(x) = -\\infty\n",
    "\\end{equation}\n",
    "\n",
    "\\begin{equation}\n",
    "    h(x) = \\log(x)\n",
    "\\end{equation}"
   ]
  },
  {
   "cell_type": "code",
   "execution_count": 47,
   "metadata": {
    "hideCode": true,
    "hidePrompt": true
   },
   "outputs": [
    {
     "data": {
      "image/png": "[encoded data removed]",
      "text/plain": [
       "<Figure size 576x504 with 1 Axes>"
      ]
     },
     "metadata": {
      "needs_background": "light"
     },
     "output_type": "display_data"
    }
   ],
   "source": [
    "#hideme\n",
    "\n",
    "import math\n",
    "\n",
    "def f(x):\n",
    "    return np.log(x)\n",
    "\n",
    "\n",
    "\n",
    "def makeArrowY(ax,pos,function,direction):\n",
    "    delta = 0.0001 if direction >= 0 else -0.01\n",
    "    ax.arrow(pos,function(pos),delta,function(pos+delta)-function(pos),head_width=0.08,head_length=0.2, color=\"#1f77b4\")\n",
    "   \n",
    "def makeArrowX(ax,pos,function,direction):\n",
    "    delta = 0.0001 if direction >= 0 else -0.01\n",
    "    ax.arrow(pos,function(pos),delta,function(pos+delta)-function(pos),head_width=0.5,head_length=2, color=\"#1f77b4\")\n",
    "\n",
    "\n",
    "fig = plt.figure(figsize=(8, 7))\n",
    "ax = fig.add_subplot(111)\n",
    "ax.set_title(\"$y = \\log(x)$\", fontsize=20)\n",
    "\n",
    "#xleft = np.arange(-4, 0.99, 0.001)\n",
    "xright = np.arange(0.01, 40, 0.001)\n",
    "yright = f(xright)\n",
    "#yleft = f(xleft)\n",
    "#ax.plot(xleft, yleft)\n",
    "ax.plot(xright, yright, color=\"#1f77b4\")\n",
    "ax.set_ylim(-5, 5)\n",
    "#ax.yaxis.set_major_locator(ticker.MultipleLocator(1))\n",
    "\n",
    "#ax.plot(1, 2, marker='o', linewidth=0, markersize=5, markerfacecolor=\"None\",\n",
    "         #markeredgecolor='black')\n",
    "\n",
    "\n",
    "#makeArrowX(ax, -2, f, -1)\n",
    "#makeArrowX(ax, 2, f, 1)\n",
    "\n",
    "\n",
    "ax.grid(True)\n",
    "\n",
    "ax.spines['left'].set_position('zero')\n",
    "ax.spines['right'].set_color('none')\n",
    "ax.spines['bottom'].set_position('zero')\n",
    "ax.spines['top'].set_color('none')\n",
    "ax.xaxis.set_ticks_position('bottom')\n",
    "ax.yaxis.set_ticks_position('left')"
   ]
  },
  {
   "cell_type": "markdown",
   "metadata": {
    "hideCode": true,
    "hidePrompt": true,
    "slideshow": {
     "slide_type": "slide"
    }
   },
   "source": [
    "## A New Idea: What if $x \\rightarrow \\infty$?\n",
    "\n",
    "Sometimes we care about understanding what happens to the value of a function for **_arbitrarily large inputs_**. Generally, one of two things will happen:\n",
    "1. The function **_diverges to $\\pm \\infty$_**\n",
    "2. The function **_converges to some exact value_**.\n",
    "\n",
    "We'll look at some examples now."
   ]
  },
  {
   "cell_type": "markdown",
   "metadata": {
    "hideCode": true,
    "hidePrompt": true,
    "slideshow": {
     "slide_type": "slide"
    }
   },
   "source": [
    "## A simple diverging graph\n",
    "\\begin{equation}\n",
    "    f(x) = x\n",
    "\\end{equation}"
   ]
  },
  {
   "cell_type": "code",
   "execution_count": 55,
   "metadata": {
    "hideCode": true,
    "hidePrompt": true
   },
   "outputs": [
    {
     "data": {
      "image/png": "[encoded data removed]",
      "text/plain": [
       "<Figure size 576x504 with 1 Axes>"
      ]
     },
     "metadata": {
      "needs_background": "light"
     },
     "output_type": "display_data"
    }
   ],
   "source": [
    "#hideme\n",
    "\n",
    "import math\n",
    "\n",
    "def f(x):\n",
    "    return x\n",
    "\n",
    "\n",
    "\n",
    "def makeArrowY(ax,pos,function,direction):\n",
    "    delta = 0.0001 if direction >= 0 else -0.01\n",
    "    ax.arrow(pos,function(pos),delta,function(pos+delta)-function(pos),head_width=0.08,head_length=0.2, color=\"#1f77b4\")\n",
    "   \n",
    "def makeArrowX(ax,pos,function,direction):\n",
    "    delta = 0.0001 if direction >= 0 else -0.01\n",
    "    ax.arrow(pos,function(pos),delta,function(pos+delta)-function(pos),head_width=0.5,head_length=2, color=\"#1f77b4\")\n",
    "\n",
    "\n",
    "fig = plt.figure(figsize=(8, 7))\n",
    "ax = fig.add_subplot(111)\n",
    "ax.set_title(\"$y = x$\", fontsize=20)\n",
    "\n",
    "#xleft = np.arange(-4, 0.99, 0.001)\n",
    "xright = np.arange(-10, 30, 0.001)\n",
    "yright = f(xright)\n",
    "#yleft = f(xleft)\n",
    "#ax.plot(xleft, yleft)\n",
    "ax.plot(xright, yright, color=\"#1f77b4\")\n",
    "ax.set_ylim(-10, 30)\n",
    "#ax.yaxis.set_major_locator(ticker.MultipleLocator(1))\n",
    "\n",
    "#ax.plot(1, 2, marker='o', linewidth=0, markersize=5, markerfacecolor=\"None\",\n",
    "         #markeredgecolor='black')\n",
    "\n",
    "\n",
    "#makeArrowX(ax, -2, f, -1)\n",
    "#makeArrowX(ax, 2, f, 1)\n",
    "\n",
    "\n",
    "ax.grid(True)\n",
    "\n",
    "ax.spines['left'].set_position('zero')\n",
    "ax.spines['right'].set_color('none')\n",
    "ax.spines['bottom'].set_position('zero')\n",
    "ax.spines['top'].set_color('none')\n",
    "ax.xaxis.set_ticks_position('bottom')\n",
    "ax.yaxis.set_ticks_position('left')"
   ]
  },
  {
   "cell_type": "markdown",
   "metadata": {
    "hideCode": true,
    "hidePrompt": true
   },
   "source": [
    "What happens as $x \\rightarrow \\infty$?"
   ]
  },
  {
   "cell_type": "markdown",
   "metadata": {
    "hideCode": true,
    "hidePrompt": true,
    "slideshow": {
     "slide_type": "subslide"
    }
   },
   "source": [
    "## A simple diverging graph\n",
    "\\begin{equation}\n",
    "    f(x) = x\n",
    "\\end{equation}"
   ]
  },
  {
   "cell_type": "code",
   "execution_count": 55,
   "metadata": {
    "hideCode": true,
    "hidePrompt": true
   },
   "outputs": [
    {
     "data": {
      "image/png": "[encoded data removed]",
      "text/plain": [
       "<Figure size 576x504 with 1 Axes>"
      ]
     },
     "metadata": {
      "needs_background": "light"
     },
     "output_type": "display_data"
    }
   ],
   "source": [
    "#hideme\n",
    "\n",
    "import math\n",
    "\n",
    "def f(x):\n",
    "    return x\n",
    "\n",
    "\n",
    "\n",
    "def makeArrowY(ax,pos,function,direction):\n",
    "    delta = 0.0001 if direction >= 0 else -0.01\n",
    "    ax.arrow(pos,function(pos),delta,function(pos+delta)-function(pos),head_width=0.08,head_length=0.2, color=\"#1f77b4\")\n",
    "   \n",
    "def makeArrowX(ax,pos,function,direction):\n",
    "    delta = 0.0001 if direction >= 0 else -0.01\n",
    "    ax.arrow(pos,function(pos),delta,function(pos+delta)-function(pos),head_width=0.5,head_length=2, color=\"#1f77b4\")\n",
    "\n",
    "\n",
    "fig = plt.figure(figsize=(8, 7))\n",
    "ax = fig.add_subplot(111)\n",
    "ax.set_title(\"$y = x$\", fontsize=20)\n",
    "\n",
    "#xleft = np.arange(-4, 0.99, 0.001)\n",
    "xright = np.arange(-10, 30, 0.001)\n",
    "yright = f(xright)\n",
    "#yleft = f(xleft)\n",
    "#ax.plot(xleft, yleft)\n",
    "ax.plot(xright, yright, color=\"#1f77b4\")\n",
    "ax.set_ylim(-10, 30)\n",
    "#ax.yaxis.set_major_locator(ticker.MultipleLocator(1))\n",
    "\n",
    "#ax.plot(1, 2, marker='o', linewidth=0, markersize=5, markerfacecolor=\"None\",\n",
    "         #markeredgecolor='black')\n",
    "\n",
    "\n",
    "#makeArrowX(ax, -2, f, -1)\n",
    "#makeArrowX(ax, 2, f, 1)\n",
    "\n",
    "\n",
    "ax.grid(True)\n",
    "\n",
    "ax.spines['left'].set_position('zero')\n",
    "ax.spines['right'].set_color('none')\n",
    "ax.spines['bottom'].set_position('zero')\n",
    "ax.spines['top'].set_color('none')\n",
    "ax.xaxis.set_ticks_position('bottom')\n",
    "ax.yaxis.set_ticks_position('left')"
   ]
  },
  {
   "cell_type": "markdown",
   "metadata": {
    "hideCode": true,
    "hidePrompt": true
   },
   "source": [
    "What happens as $x \\rightarrow \\infty$? $\\displaystyle\\lim_{x \\rightarrow \\infty} \\ f(x) = \\infty$!"
   ]
  },
  {
   "cell_type": "markdown",
   "metadata": {
    "hideCode": true,
    "hidePrompt": true,
    "slideshow": {
     "slide_type": "slide"
    }
   },
   "source": [
    "## Some more diverging functions\n",
    "\n",
    "What are some more functions that diverge as $x \\rightarrow \\infty$?"
   ]
  },
  {
   "cell_type": "markdown",
   "metadata": {
    "hideCode": true,
    "hidePrompt": true,
    "slideshow": {
     "slide_type": "fragment"
    }
   },
   "source": [
    "* $f(x) = x^2$\n",
    "* $f(x) = \\log(x)$\n",
    "* $f(x) = e^x$"
   ]
  },
  {
   "cell_type": "markdown",
   "metadata": {
    "hideCode": true,
    "hidePrompt": true,
    "slideshow": {
     "slide_type": "slide"
    }
   },
   "source": [
    "## Concept Question\n",
    "\n",
    "<span style=\"color: green\">True</span> or <span style=\"color: red\">False</span>: If $\\displaystyle\\lim_{x \\rightarrow \\infty} \\ f(x) = \\infty$, then $\\displaystyle\\lim_{x \\rightarrow \\infty} \\ c \\cdot f(x) = \\infty$ for any constant number $c$"
   ]
  },
  {
   "cell_type": "markdown",
   "metadata": {
    "hideCode": true,
    "hidePrompt": true,
    "slideshow": {
     "slide_type": "subslide"
    }
   },
   "source": [
    "<span style=\"color: green\">True!</span>: constants do not change the _behavior_ of a function, only its specific values.\n",
    "\n",
    "This makes it easy to evaluate limits with a bunch of constants in the function by ignoring them. I.e. \n",
    "\n",
    "\\begin{equation}\n",
    "    \\lim_{x \\rightarrow \\infty} \\ c \\cdot f(x) = c \\cdot \\lim_{x \\rightarrow \\infty} \\ f(x)\n",
    "\\end{equation}"
   ]
  },
  {
   "cell_type": "markdown",
   "metadata": {
    "hideCode": true,
    "hidePrompt": true,
    "slideshow": {
     "slide_type": "slide"
    }
   },
   "source": [
    "## Rational Expressions\n",
    "\n",
    "Consider the following limit\n",
    "\n",
    "\\begin{equation}\n",
    "    \\lim_{x \\rightarrow \\infty} \\ \\frac{x^3 +3x -10}{2x^2}\n",
    "\\end{equation}\n",
    "\n",
    "How do we think about evaluating this?"
   ]
  },
  {
   "cell_type": "markdown",
   "metadata": {
    "hideCode": true,
    "hidePrompt": true,
    "slideshow": {
     "slide_type": "fragment"
    }
   },
   "source": [
    "On top, as $x$ gets arbitrarily large, really only the $x^3$ term matters since it's much larger than the other two. So this limit should really be the same as\n",
    "\n",
    "\\begin{equation}\n",
    "    \\lim_{x \\rightarrow \\infty} \\ \\frac{x^3}{2x^2}\n",
    "\\end{equation}"
   ]
  },
  {
   "cell_type": "markdown",
   "metadata": {
    "hideCode": true,
    "hidePrompt": true,
    "slideshow": {
     "slide_type": "subslide"
    }
   },
   "source": [
    "## Rational Expressions\n",
    "\n",
    "\\begin{equation}\n",
    "    \\lim_{x \\rightarrow \\infty} \\ \\frac{x^3}{2x^2} = \\frac{1}{2} \\lim_{x \\rightarrow \\infty} \\ \\frac{x^3}{x^2}\n",
    "\\end{equation}\n",
    "\n",
    "As $x$ grows arbitrarily large, $x^3$ grows **_much, much, much faster_** than $x^2$."
   ]
  },
  {
   "cell_type": "markdown",
   "metadata": {
    "hideCode": true,
    "hidePrompt": true,
    "slideshow": {
     "slide_type": "fragment"
    }
   },
   "source": [
    "Since the numerator of the fraction is getter larger than the denominator, we get that\n",
    "\n",
    "\\begin{equation}\n",
    "    \\lim_{x \\rightarrow \\infty} \\ \\frac{x^3}{2x^2} = \\infty\n",
    "\\end{equation}\n",
    "\n",
    "Thus,\n",
    "\n",
    "\\begin{equation}\n",
    "    \\lim_{x \\rightarrow \\infty} \\ \\frac{x^3+3x-10}{2x^2} = \\infty\n",
    "\\end{equation}"
   ]
  },
  {
   "cell_type": "markdown",
   "metadata": {
    "hideCode": true,
    "hidePrompt": true,
    "slideshow": {
     "slide_type": "slide"
    }
   },
   "source": [
    "## What does _grows faster_ mean?\n",
    "\n",
    "Remember that we are letting $x$ get arbitrarily large. Let's look at a table of values\n",
    "\n",
    "| &nbsp;$x$   | &nbsp;$x^3$ | &nbsp;$x^2$ | &nbsp;$x^3 - x^2$ |\n",
    "|-----|-------|-------|-------------|\n",
    "| ... | ...   | ...   | ...         |\n",
    "| 10  | 1000  | 100   | 900         |\n",
    "| 11  | 1331  | 121   | 1210        |\n",
    "| 12  | 1728  | 144   | 1584        |\n",
    "| 13  | 2197  | 169   | 2028        |\n",
    "| 14  | 2744  | 196   | 2548        |\n",
    "| ... | ...   | ...   |   ...          |"
   ]
  },
  {
   "cell_type": "markdown",
   "metadata": {
    "hideCode": true,
    "hidePrompt": true,
    "slideshow": {
     "slide_type": "fragment"
    }
   },
   "source": [
    "The difference between the numerator and denominator is increasing (at an increasing rate!), meaning the fraction gets larger and larger."
   ]
  },
  {
   "cell_type": "markdown",
   "metadata": {
    "slideshow": {
     "slide_type": "slide"
    }
   },
   "source": [
    "## Diverges?\n",
    "\n",
    "Determine if each of the limits below diverges (does the limit $ = \\infty$?)\n",
    "\n",
    "\\begin{gather}\n",
    "    \\lim_{x \\rightarrow \\infty} \\frac{x^3}{x} \\\\ \\\\\n",
    "    \\lim_{x \\rightarrow \\infty} \\frac{\\log(x)}{x} \\\\ \\\\\n",
    "    \\lim_{x \\rightarrow \\infty} \\frac{e^x}{x} \\\\ \\\\\n",
    "    \\lim_{x \\rightarrow \\infty} \\frac{x^3}{\\log(x)} \\\\ \\\\\n",
    "    \\lim_{x \\rightarrow \\infty} \\frac{x^2 + 2x}{x^5\\log(x)} \\\\ \\\\\n",
    "    \\lim_{x \\rightarrow \\infty} \\frac{x^2 + \\log(x)}{x\\log(x)} \n",
    "\\end{gather}"
   ]
  },
  {
   "cell_type": "markdown",
   "metadata": {
    "slideshow": {
     "slide_type": "slide"
    }
   },
   "source": [
    "## Diverges?\n",
    "\n",
    "Determine if each of the limits below diverges (does the limit $ = \\infty$?)\n",
    "\n",
    "\\begin{gather}\n",
    "    \\lim_{x \\rightarrow \\infty} \\frac{x^3}{x} = \\infty \\\\ \\\\\n",
    "    \\lim_{x \\rightarrow \\infty} \\frac{\\log(x)}{x} \\\\ \\\\\n",
    "    \\lim_{x \\rightarrow \\infty} \\frac{e^x}{x} \\\\ \\\\\n",
    "    \\lim_{x \\rightarrow \\infty} \\frac{x^3}{\\log(x)} \\\\ \\\\\n",
    "    \\lim_{x \\rightarrow \\infty} \\frac{x^2 + 2x}{x^5\\log(x)} \\\\ \\\\\n",
    "    \\lim_{x \\rightarrow \\infty} \\frac{x^2 + \\log(x)}{x\\log(x)} \n",
    "\\end{gather}"
   ]
  },
  {
   "cell_type": "markdown",
   "metadata": {
    "slideshow": {
     "slide_type": "slide"
    }
   },
   "source": [
    "## Diverges?\n",
    "\n",
    "Determine if each of the limits below diverges (does the limit $ = \\infty$?)\n",
    "\n",
    "\\begin{gather}\n",
    "    \\lim_{x \\rightarrow \\infty} \\frac{x^3}{x} = \\infty \\\\ \\\\\n",
    "    \\lim_{x \\rightarrow \\infty} \\frac{\\log(x)}{x} \\neq \\infty \\\\ \\\\\n",
    "    \\lim_{x \\rightarrow \\infty} \\frac{e^x}{x} \\\\ \\\\\n",
    "    \\lim_{x \\rightarrow \\infty} \\frac{x^3}{\\log(x)} \\\\ \\\\\n",
    "    \\lim_{x \\rightarrow \\infty} \\frac{x^2 + 2x}{x^5\\log(x)} \\\\ \\\\\n",
    "    \\lim_{x \\rightarrow \\infty} \\frac{x^2 + \\log(x)}{x\\log(x)} \n",
    "\\end{gather}"
   ]
  },
  {
   "cell_type": "markdown",
   "metadata": {
    "slideshow": {
     "slide_type": "slide"
    }
   },
   "source": [
    "## Diverges?\n",
    "\n",
    "Determine if each of the limits below diverges (does the limit $ = \\infty$?)\n",
    "\n",
    "\\begin{gather}\n",
    "    \\lim_{x \\rightarrow \\infty} \\frac{x^3}{x} = \\infty \\\\ \\\\\n",
    "    \\lim_{x \\rightarrow \\infty} \\frac{\\log(x)}{x} \\neq \\infty \\\\ \\\\\n",
    "    \\lim_{x \\rightarrow \\infty} \\frac{e^x}{x} = \\infty \\\\ \\\\\n",
    "    \\lim_{x \\rightarrow \\infty} \\frac{x^3}{\\log(x)} \\\\ \\\\\n",
    "    \\lim_{x \\rightarrow \\infty} \\frac{x^2 + 2x}{x^5\\log(x)} \\\\ \\\\\n",
    "    \\lim_{x \\rightarrow \\infty} \\frac{x^2 + \\log(x)}{x\\log(x)} \n",
    "\\end{gather}"
   ]
  },
  {
   "cell_type": "markdown",
   "metadata": {
    "slideshow": {
     "slide_type": "slide"
    }
   },
   "source": [
    "## Diverges?\n",
    "\n",
    "Determine if each of the limits below diverges (does the limit $ = \\infty$?)\n",
    "\n",
    "\\begin{gather}\n",
    "    \\lim_{x \\rightarrow \\infty} \\frac{x^3}{x} = \\infty \\\\ \\\\\n",
    "    \\lim_{x \\rightarrow \\infty} \\frac{\\log(x)}{x} \\neq \\infty \\\\ \\\\\n",
    "    \\lim_{x \\rightarrow \\infty} \\frac{e^x}{x} = \\infty \\\\ \\\\\n",
    "    \\lim_{x \\rightarrow \\infty} \\frac{x^3}{\\log(x)} = \\infty \\\\ \\\\\n",
    "    \\lim_{x \\rightarrow \\infty} \\frac{x^2 + 2x}{x^5\\log(x)} \\\\ \\\\\n",
    "    \\lim_{x \\rightarrow \\infty} \\frac{x^2 + \\log(x)}{x\\log(x)} \n",
    "\\end{gather}"
   ]
  },
  {
   "cell_type": "markdown",
   "metadata": {
    "slideshow": {
     "slide_type": "slide"
    }
   },
   "source": [
    "## Diverges?\n",
    "\n",
    "Determine if each of the limits below diverges (does the limit $ = \\infty$?)\n",
    "\n",
    "\\begin{gather}\n",
    "    \\lim_{x \\rightarrow \\infty} \\frac{x^3}{x} = \\infty \\\\ \\\\\n",
    "    \\lim_{x \\rightarrow \\infty} \\frac{\\log(x)}{x} \\neq \\infty \\\\ \\\\\n",
    "    \\lim_{x \\rightarrow \\infty} \\frac{e^x}{x} = \\infty \\\\ \\\\\n",
    "    \\lim_{x \\rightarrow \\infty} \\frac{x^3}{\\log(x)} = \\infty \\\\ \\\\\n",
    "    \\lim_{x \\rightarrow \\infty} \\frac{x^2 + 2x}{x^5\\log(x)} \\neq \\infty \\\\ \\\\\n",
    "    \\lim_{x \\rightarrow \\infty} \\frac{x^2 + \\log(x)}{x\\log(x)} \n",
    "\\end{gather}"
   ]
  },
  {
   "cell_type": "markdown",
   "metadata": {
    "slideshow": {
     "slide_type": "slide"
    }
   },
   "source": [
    "## Diverges?\n",
    "\n",
    "Determine if each of the limits below diverges (does the limit $ = \\infty$?)\n",
    "\n",
    "\\begin{gather}\n",
    "    \\lim_{x \\rightarrow \\infty} \\frac{x^3}{x} = \\infty \\\\ \\\\\n",
    "    \\lim_{x \\rightarrow \\infty} \\frac{\\log(x)}{x} \\neq \\infty \\\\ \\\\\n",
    "    \\lim_{x \\rightarrow \\infty} \\frac{e^x}{x} = \\infty \\\\ \\\\\n",
    "    \\lim_{x \\rightarrow \\infty} \\frac{x^3}{\\log(x)} = \\infty \\\\ \\\\\n",
    "    \\lim_{x \\rightarrow \\infty} \\frac{x^2 + 2x}{x^5\\log(x)} \\neq \\infty \\\\ \\\\\n",
    "    \\lim_{x \\rightarrow \\infty} \\frac{x^2 + \\log(x)}{x\\log(x)} = \\infty\n",
    "\\end{gather}"
   ]
  },
  {
   "cell_type": "markdown",
   "metadata": {
    "hideCode": true,
    "hidePrompt": true,
    "slideshow": {
     "slide_type": "slide"
    }
   },
   "source": [
    "## Wrapping Up\n",
    "* If we are taking a limit of $\\frac{p(x)}{q(x)}$, if $p(x)$ **_grows faster_** than $q(x)$,  then the function diverges (the limit as $x \\rightarrow \\infty$ is $\\infty$). \n",
    "  * Some more examples include $\\frac{x}{\\log(x)}$ and $\\frac{e^x}{x^c}$ for any value of $c$!\n",
    "\n",
    "* Next time we will explore graphs that **_converge_** to a specific value as $x \\rightarrow \\infty$!"
   ]
  }
 ],
 "metadata": {
  "celltoolbar": "Slideshow",
  "hide_code_all_hidden": true,
  "kernelspec": {
   "display_name": "Python 3",
   "language": "python",
   "name": "python3"
  },
  "language_info": {
   "codemirror_mode": {
    "name": "ipython",
    "version": 3
   },
   "file_extension": ".py",
   "mimetype": "text/x-python",
   "name": "python",
   "nbconvert_exporter": "python",
   "pygments_lexer": "ipython3",
   "version": "3.5.2"
  },
  "rise": {
   "transition": "none"
  }
 },
 "nbformat": 4,
 "nbformat_minor": 2
}
