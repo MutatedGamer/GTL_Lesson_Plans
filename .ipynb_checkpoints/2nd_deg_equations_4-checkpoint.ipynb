{
 "cells": [
  {
   "cell_type": "code",
   "execution_count": 10,
   "metadata": {
    "hideCode": false,
    "hidePrompt": false,
    "slideshow": {
     "slide_type": "skip"
    }
   },
   "outputs": [],
   "source": [
    "import matplotlib.pyplot as plt\n",
    "import matplotlib.ticker as ticker\n",
    "\n",
    "import numpy as np"
   ]
  },
  {
   "cell_type": "markdown",
   "metadata": {
    "hideCode": false,
    "hidePrompt": false,
    "slideshow": {
     "slide_type": "slide"
    }
   },
   "source": [
    "# Second Degree Equations Part 4\n",
    "### Cool Applications of Second Degree Equations!"
   ]
  },
  {
   "cell_type": "markdown",
   "metadata": {
    "hideCode": false,
    "hidePrompt": false,
    "slideshow": {
     "slide_type": "slide"
    }
   },
   "source": [
    "## But First: Example Word Problems\n",
    "\n",
    "We want to build a fence enclosing a $12 \\text{m}^2$ rectangle. If the width of the rectangle is 4 more than its length, how much fence do we need?"
   ]
  },
  {
   "cell_type": "markdown",
   "metadata": {
    "hideCode": false,
    "hidePrompt": false,
    "slideshow": {
     "slide_type": "slide"
    }
   },
   "source": [
    "Let $$x = \\text{length of rectangle}$$\n",
    "\n",
    "We know that the area is length$\\cdot$width. So\n",
    "\n",
    "\\begin{gather}\n",
    "    x(x+4) = 12 \\\\\n",
    "    x^2 + 4x = 12 \\\\\n",
    "    x^2 + 4x - 12 = 0 \\\\\n",
    "\\end{gather}\n",
    "\n",
    "Now we can solve two ways. We can use the quadratic equation\n",
    "\\begin{gather}\n",
    "    x = \\frac{-b \\pm \\sqrt{b^2 - 4ac}}{2a} \\\\\n",
    "    x = \\frac{-4 \\pm \\sqrt{64}}{2} \\\\\n",
    "    x = 2, -6\n",
    "\\end{gather}\n"
   ]
  },
  {
   "cell_type": "markdown",
   "metadata": {
    "hideCode": false,
    "hidePrompt": false,
    "slideshow": {
     "slide_type": "subslide"
    }
   },
   "source": [
    "Or we can factor directly\n",
    "\\begin{gather}\n",
    "    x^2 + 4x - 12 = 0 \\\\\n",
    "    (x + 6)(x-2) = 0\n",
    "    \\rightarrow x=-6, 2\n",
    "\\end{gather}\n",
    "\n",
    "We take $x = 2$ (since lengths must be positive) and find the permiter is $$\\boxed{P = 2 + 2 + 6 + 6 = 16}$$"
   ]
  },
  {
   "cell_type": "markdown",
   "metadata": {
    "hideCode": false,
    "hidePrompt": false,
    "slideshow": {
     "slide_type": "slide"
    }
   },
   "source": [
    "## A second word problem\n",
    "\n",
    "In seven years, Mario will be five more than the square of his current age. How old is Mario?"
   ]
  },
  {
   "cell_type": "markdown",
   "metadata": {
    "hideCode": false,
    "hidePrompt": false,
    "slideshow": {
     "slide_type": "subslide"
    }
   },
   "source": [
    "Let $$x = \\text{the current age of Mario}$$\n",
    "\n",
    "We are solving the following equation for $x$\n",
    "\\begin{gather}\n",
    "    x^2 +  5 = x + 7 \\\\\n",
    "    x^2 - x - 2 = 0  \\\\\n",
    "    (x-2)(x+1) = 0 \\rightarrow x = 2, -1\n",
    "\\end{gather}\n",
    "\n",
    "Mario is $2$ years old!"
   ]
  },
  {
   "cell_type": "markdown",
   "metadata": {
    "hideCode": false,
    "hidePrompt": false,
    "slideshow": {
     "slide_type": "slide"
    }
   },
   "source": [
    "## Some Cool Applications of Second Degree Equations"
   ]
  },
  {
   "cell_type": "markdown",
   "metadata": {
    "hideCode": false,
    "hidePrompt": false,
    "slideshow": {
     "slide_type": "subslide"
    }
   },
   "source": [
    "## Linear Regression\n",
    "Let's say we recorded the following data."
   ]
  },
  {
   "cell_type": "code",
   "execution_count": 239,
   "metadata": {
    "hideCode": false,
    "hidePrompt": false,
    "slideshow": {
     "slide_type": "-"
    }
   },
   "outputs": [
    {
     "data": {
      "image/png": "[encoded data removed]",
      "text/plain": [
       "<Figure size 432x432 with 1 Axes>"
      ]
     },
     "metadata": {
      "needs_background": "light"
     },
     "output_type": "display_data"
    }
   ],
   "source": [
    "def plot(x, y, plot_fit):\n",
    "    #x = np.array([point[0] for point in data])\n",
    "    #y = np.array([point[1] for point in data])\n",
    "    \n",
    "    fig = plt.figure(figsize=(6, 6))\n",
    "    ax = fig.add_subplot(111)\n",
    "    ax.set_title(\"Age vs. Hours at Work\", fontsize=20)\n",
    "    ax.plot(x, y, marker='o', markersize=10, linewidth=0, color=\"black\")\n",
    "    \n",
    "    ax.spines['left'].set_position('zero')\n",
    "    ax.spines['right'].set_color('none')\n",
    "    ax.spines['bottom'].set_position('zero')\n",
    "    ax.spines['top'].set_color('none')\n",
    "    ax.xaxis.set_ticks_position('bottom')\n",
    "    ax.yaxis.set_ticks_position('left')\n",
    "    #ax.yaxis.set_major_locator(ticker.MultipleLocator(1))\n",
    "    \n",
    "    ax.grid(True)\n",
    "    \n",
    "    ax.set_ylim([0, 40])\n",
    "    #ax.set_xlim([0, 50])\n",
    "    \n",
    "    ax.set_xlabel(\"age (years)\")\n",
    "    ax.set_ylabel(\"time spent at work/week (hours)\")\n",
    "    \n",
    "    \n",
    "    if plot_fit:\n",
    "        fit = np.polyfit(x, y, 2)\n",
    "\n",
    "        fit_x = np.linspace(0, 80)\n",
    "        fit_y = np.polyval(fit, fit_x)\n",
    "\n",
    "        ax.plot(fit_x, fit_y)\n",
    "    \n",
    "    \n",
    "x = np.linspace(0, 80, 60)\n",
    "y = -0.05*x**2 + 4.4*x -60\n",
    "np.random.seed(1)\n",
    "noise = np.random.normal(0, 6, 60)\n",
    "y = y +  noise\n",
    "plot(x,y, False)"
   ]
  },
  {
   "cell_type": "markdown",
   "metadata": {
    "hideCode": false,
    "hidePrompt": false,
    "slideshow": {
     "slide_type": "subslide"
    }
   },
   "source": [
    "It looks like we can possibly model this with a parabola!"
   ]
  },
  {
   "cell_type": "code",
   "execution_count": 240,
   "metadata": {
    "hideCode": false,
    "hidePrompt": false,
    "slideshow": {
     "slide_type": "-"
    }
   },
   "outputs": [
    {
     "data": {
      "image/png": "[encoded data removed]",
      "text/plain": [
       "<Figure size 432x432 with 1 Axes>"
      ]
     },
     "metadata": {
      "needs_background": "light"
     },
     "output_type": "display_data"
    }
   ],
   "source": [
    "def plot(x, y, plot_fit):\n",
    "    #x = np.array([point[0] for point in data])\n",
    "    #y = np.array([point[1] for point in data])\n",
    "    \n",
    "    fig = plt.figure(figsize=(6, 6))\n",
    "    ax = fig.add_subplot(111)\n",
    "    ax.set_title(\"Age vs. Hours at Work\", fontsize=20)\n",
    "    ax.plot(x, y, marker='o', markersize=10, linewidth=0, color=\"black\")\n",
    "    \n",
    "    ax.spines['left'].set_position('zero')\n",
    "    ax.spines['right'].set_color('none')\n",
    "    ax.spines['bottom'].set_position('zero')\n",
    "    ax.spines['top'].set_color('none')\n",
    "    ax.xaxis.set_ticks_position('bottom')\n",
    "    ax.yaxis.set_ticks_position('left')\n",
    "    #ax.yaxis.set_major_locator(ticker.MultipleLocator(1))\n",
    "    \n",
    "    ax.grid(True)\n",
    "    \n",
    "    ax.set_ylim([0, 40])\n",
    "    #ax.set_xlim([0, 50])\n",
    "    \n",
    "    ax.set_xlabel(\"age (years)\")\n",
    "    ax.set_ylabel(\"time spent at work/week (hours)\")\n",
    "    \n",
    "    \n",
    "    if plot_fit:\n",
    "        fit = np.polyfit(x, y, 2)\n",
    "\n",
    "        fit_x = np.linspace(0, 80)\n",
    "        fit_y = np.polyval(fit, fit_x)\n",
    "\n",
    "        ax.plot(fit_x, fit_y)\n",
    "    \n",
    "    \n",
    "x = np.linspace(0, 80, 60)\n",
    "y = -0.05*x**2 + 4.4*x -60\n",
    "np.random.seed(1)\n",
    "noise = np.random.normal(0, 6, 60)\n",
    "y = y +  noise\n",
    "plot(x,y, True)"
   ]
  },
  {
   "cell_type": "markdown",
   "metadata": {
    "hideCode": false,
    "hidePrompt": false,
    "slideshow": {
     "slide_type": "fragment"
    }
   },
   "source": [
    "Let's learn how the computer figures out this fit!"
   ]
  },
  {
   "cell_type": "markdown",
   "metadata": {
    "hideCode": false,
    "hidePrompt": false,
    "slideshow": {
     "slide_type": "slide"
    }
   },
   "source": [
    "## Error\n",
    "We need to figure out a way to measure how \"bad\" a fit is. Let's say we have a guess to our answer and want to calculate how bad one point is."
   ]
  },
  {
   "cell_type": "code",
   "execution_count": 243,
   "metadata": {
    "hideCode": false,
    "hidePrompt": false,
    "slideshow": {
     "slide_type": "-"
    }
   },
   "outputs": [
    {
     "data": {
      "image/png": "[encoded data removed]",
      "text/plain": [
       "<Figure size 288x288 with 1 Axes>"
      ]
     },
     "metadata": {
      "needs_background": "light"
     },
     "output_type": "display_data"
    }
   ],
   "source": [
    "def plot(x, y, plot_fit):\n",
    "    #x = np.array([point[0] for point in data])\n",
    "    #y = np.array([point[1] for point in data])\n",
    "    \n",
    "    fig = plt.figure(figsize=(4, 4))\n",
    "    ax = fig.add_subplot(111)\n",
    "    #ax.set_title(\"Age vs. Hours at Work\", fontsize=20)\n",
    "    ax.plot(x, y, marker='o', markersize=10, linewidth=0, color=\"black\")\n",
    "    \n",
    "    for i in range(len(x)):\n",
    "        ax.annotate(\"(\" + str(np.round(x[i], 2)) + \", \"  + str(np.round(y[i], 2))+ \")\", (x[i]+0.2, y[i]+0.2), fontsize=13)\n",
    "          \n",
    "    \n",
    "    ax.spines['left'].set_position('zero')\n",
    "    ax.spines['right'].set_color('none')\n",
    "    ax.spines['bottom'].set_position('zero')\n",
    "    ax.spines['top'].set_color('none')\n",
    "    ax.xaxis.set_ticks_position('bottom')\n",
    "    ax.yaxis.set_ticks_position('left')\n",
    "    #ax.yaxis.set_major_locator(ticker.MultipleLocator(1))\n",
    "    ax.annotate(\"fit\", (6.6, 15), fontsize=\"30\")\n",
    "    \n",
    "    \n",
    "    ax.grid(True)\n",
    "    \n",
    "    ax.set_ylim([0, 20])\n",
    "    #ax.set_xlim([0, 50])\n",
    "    \n",
    "    #ax.set_xlabel(\"age (years)\")\n",
    "    #ax.set_ylabel(\"time spent at work/week (hours)\")\n",
    "    \n",
    "    \n",
    "    if plot_fit:\n",
    "        #fit = np.polyfit(x, y, 2)\n",
    "\n",
    "        fit_x = np.linspace(0, 10)\n",
    "        fit_y = 2*fit_x\n",
    "\n",
    "        ax.plot(fit_x, fit_y)\n",
    "        \n",
    "        # Draw error of one point\n",
    "        x_error = np.array([1, 1])\n",
    "        y_error = np.array([y[0], 2*x[0]])\n",
    "        ax.plot(x_error, y_error)\n",
    "        ax.annotate(\"error\", (1.2, 7.5), fontsize=24)\n",
    "    \n",
    "    \n",
    "x = np.array([1, 4, 6, 9])\n",
    "y = 2*x\n",
    "np.random.seed(1)\n",
    "noise = np.random.normal(0, 6, 4)\n",
    "y = y +  noise\n",
    "plot(x,y, True)"
   ]
  },
  {
   "cell_type": "markdown",
   "metadata": {
    "hideCode": false,
    "hidePrompt": false,
    "slideshow": {
     "slide_type": "fragment"
    }
   },
   "source": [
    "If our point is located at $\\left(x_i, y_i)\\right)$ then we can calculate the error as \n",
    "\n",
    "$$\\text{error} = \\left(y_i - fit(x_i)\\right)^2$$\n",
    "\n",
    "Why is this squared?"
   ]
  },
  {
   "cell_type": "markdown",
   "metadata": {
    "hideCode": false,
    "hidePrompt": false,
    "slideshow": {
     "slide_type": "slide"
    }
   },
   "source": [
    "## Error\n",
    "We can calculate how bad a fit is by summing up the error of each point! \n",
    "\n",
    "$$\\text{badness} = \\sum_{\\text{all points}} \\left(y_i - fit(x_i)\\right)^2$$"
   ]
  },
  {
   "cell_type": "code",
   "execution_count": 242,
   "metadata": {
    "hideCode": false,
    "hidePrompt": false,
    "slideshow": {
     "slide_type": "-"
    }
   },
   "outputs": [
    {
     "data": {
      "image/png": "[encoded data removed]",
      "text/plain": [
       "<Figure size 432x432 with 1 Axes>"
      ]
     },
     "metadata": {
      "needs_background": "light"
     },
     "output_type": "display_data"
    }
   ],
   "source": [
    "def plot(x, y, plot_fit):\n",
    "    #x = np.array([point[0] for point in data])\n",
    "    #y = np.array([point[1] for point in data])\n",
    "    \n",
    "    fig = plt.figure(figsize=(6, 6))\n",
    "    ax = fig.add_subplot(111)\n",
    "    #ax.set_title(\"Age vs. Hours at Work\", fontsize=20)\n",
    "    ax.plot(x, y, marker='o', markersize=10, linewidth=0, color=\"black\")\n",
    "    \n",
    "    for i in range(len(x)):\n",
    "        ax.annotate(\"(\" + str(np.round(x[i], 2)) + \", \"  + str(np.round(y[i], 2))+ \")\", (x[i]+0.2, y[i]+0.2), fontsize=13)\n",
    "          \n",
    "    \n",
    "    ax.spines['left'].set_position('zero')\n",
    "    ax.spines['right'].set_color('none')\n",
    "    ax.spines['bottom'].set_position('zero')\n",
    "    ax.spines['top'].set_color('none')\n",
    "    ax.xaxis.set_ticks_position('bottom')\n",
    "    ax.yaxis.set_ticks_position('left')\n",
    "    #ax.yaxis.set_major_locator(ticker.MultipleLocator(1))\n",
    "    ax.annotate(\"fit\", (6.6, 15), fontsize=\"30\")\n",
    "    \n",
    "    \n",
    "    ax.grid(True)\n",
    "    \n",
    "    ax.set_ylim([0, 20])\n",
    "    #ax.set_xlim([0, 50])\n",
    "    \n",
    "    #ax.set_xlabel(\"age (years)\")\n",
    "    #ax.set_ylabel(\"time spent at work/week (hours)\")\n",
    "    \n",
    "    \n",
    "    if plot_fit:\n",
    "        #fit = np.polyfit(x, y, 2)\n",
    "\n",
    "        fit_x = np.linspace(0, 10)\n",
    "        fit_y = 2*fit_x\n",
    "\n",
    "        ax.plot(fit_x, fit_y)\n",
    "        \n",
    "        for i in range(len(x)):\n",
    "            # Draw error of one point\n",
    "            x_error = np.array([x[i], x[i]])\n",
    "            y_error = np.array([y[i], 2*x[i]])\n",
    "            ax.plot(x_error, y_error, color=\"orange\")\n",
    "            #ax.annotate(\"error\", (1.2, 7.5), fontsize=24)\n",
    "    \n",
    "    \n",
    "x = np.array([1, 4, 6, 9])\n",
    "y = 2*x\n",
    "np.random.seed(1)\n",
    "noise = np.random.normal(0, 6, 4)\n",
    "y = y +  noise\n",
    "plot(x,y, True)"
   ]
  },
  {
   "cell_type": "markdown",
   "metadata": {
    "hideCode": false,
    "hidePrompt": false,
    "slideshow": {
     "slide_type": "fragment"
    }
   },
   "source": [
    "Our goal is to **_find a fit that minimizes badness_**."
   ]
  },
  {
   "cell_type": "markdown",
   "metadata": {
    "hideCode": false,
    "hidePrompt": false,
    "slideshow": {
     "slide_type": "slide"
    }
   },
   "source": [
    "## Machine Learning\n",
    "Given our original data set, we want our computer to figure out the values for $a$ $b$ and $c$ for a parabola that minimizes badness. $$fit = ax^2 + bx + c$$\n",
    "\n",
    "The process of figuring out these values is callled _linear regression_, which is a topic of _machine learning_. \n",
    "\n",
    "Learning the exact way machines do this is a complicated topic, but just know there's many many different methods to do this."
   ]
  },
  {
   "cell_type": "code",
   "execution_count": 233,
   "metadata": {
    "hideCode": false,
    "hideOutput": true,
    "hidePrompt": false,
    "slideshow": {
     "slide_type": "skip"
    }
   },
   "outputs": [
    {
     "name": "stdout",
     "output_type": "stream",
     "text": [
      "[-0.00319276  0.41906994  0.01441503]\n"
     ]
    },
    {
     "data": {
      "image/png": "[encoded data removed]",
      "text/plain": [
       "<Figure size 720x720 with 1 Axes>"
      ]
     },
     "metadata": {
      "needs_background": "light"
     },
     "output_type": "display_data"
    }
   ],
   "source": [
    "def plot(x, y, x_fit, y_fit):\n",
    "    #x = np.array([point[0] for point in data])\n",
    "    #y = np.array([point[1] for point in data])\n",
    "    \n",
    "    fig = plt.figure(figsize=(10, 10))\n",
    "    ax = fig.add_subplot(111)\n",
    "    ax.set_title(\"Age vs. Hours at Work\", fontsize=20)\n",
    "    ax.plot(x, y, marker='o', markersize=10, linewidth=0, color=\"black\")\n",
    "    ax.plot(x_fit, y_fit)\n",
    "    \n",
    "    ax.spines['left'].set_position('zero')\n",
    "    ax.spines['right'].set_color('none')\n",
    "    ax.spines['bottom'].set_position('zero')\n",
    "    ax.spines['top'].set_color('none')\n",
    "    ax.xaxis.set_ticks_position('bottom')\n",
    "    ax.yaxis.set_ticks_position('left')\n",
    "    #ax.yaxis.set_major_locator(ticker.MultipleLocator(1))\n",
    "    \n",
    "    ax.grid(True)\n",
    "    \n",
    "    ax.set_ylim([0, 40])\n",
    "    #ax.set_xlim([0, 50])\n",
    "    \n",
    "    ax.set_xlabel(\"age (years)\")\n",
    "    ax.set_ylabel(\"time spent at work/week (hours)\")\n",
    "    \n",
    "    \n",
    "    \n",
    "    \n",
    "\n",
    "def perceptron(x, y, iters=6000, eta=0.0001, lam=0):\n",
    "    x_original = x\n",
    "    th = np.array([-1, 0, 0])\n",
    "    #th0 = np.array([0])\n",
    "    x = np.array([np.array([i**2, i, 1]).T for i in x]).T\n",
    "    \n",
    "    for i in range(iters):\n",
    "        if i > 3:\n",
    "            eta = 0.0000001\n",
    "        sigma = np.array([0, 0, 0])\n",
    "        for j in range(x.shape[1]):\n",
    "            sigma = sigma + (np.dot(th, x[:, j]) - y[j])*x[:, j]\n",
    "            \n",
    "        dth = 2/x.shape[1]*sigma + 2*lam*th\n",
    "        th = th - eta*dth\n",
    "        #print(th)\n",
    "        #th0 = th0 - eta*2/x.shape[1]*sigma0\n",
    "        #print(th0)\n",
    "        \n",
    "    print(th)\n",
    "    #print(th0)\n",
    "    x_fit = np.linspace(0, 100)\n",
    "    x_fit_new = np.array([np.array([i**2, i, 1]).T for i in x_fit]).T\n",
    "    y_fit = np.dot(th, x_fit_new)\n",
    "    plot(x_original,y, x_fit, y_fit)\n",
    "    \n",
    "        \n",
    "    \n",
    "x = np.linspace(10, 80, 200)\n",
    "y = -0.05*x**2 + 4.4*x -60\n",
    "np.random.seed(1)\n",
    "noise = np.random.normal(0, 6, 200)\n",
    "y = y +  noise\n",
    "perceptron(x, y)"
   ]
  },
  {
   "cell_type": "markdown",
   "metadata": {
    "hideCode": false,
    "hidePrompt": false,
    "slideshow": {
     "slide_type": "slide"
    }
   },
   "source": [
    "## Projectile Motion\n",
    "\n",
    "When things are thrown into the air, they follow a parabolic arc!\n",
    "\n",
    "![](https://i.imgur.com/IoYK8sx.png)\n",
    "\n",
    "$$y = -\\frac{1}{2}gt^2 + v_0t + y_0$$ where $$g = \\text{acceleration due to gravity  } (9.8)$$ $$v_0 = \\text{initial velocity in y-direction}$$ $$y_0 = \\text{initial y position}$$"
   ]
  },
  {
   "cell_type": "markdown",
   "metadata": {
    "hideCode": false,
    "hidePrompt": false,
    "slideshow": {
     "slide_type": "subslide"
    }
   },
   "source": [
    "## Example Projectile Motion\n",
    "\n",
    "A ball is thrown upwards at $3$ meters/second at a height of $2$ meters above the ground. How long does it take to hit the ground?\n",
    "\n",
    "We have $v_0 = 3$, $y_0 = 2$, and we are solving for when $y=0$\n",
    "\n",
    "\\begin{gather}\n",
    "    y = -\\frac{1}{2}gt^2 + v_0t + y_0 \\\\\n",
    "    0 = -\\frac{1}{2}(9.8)t^2 + 3t + 2 \\\\\n",
    "\\end{gather}\n",
    "\n",
    "Now we can use the quadratic equation to find $t$!\n",
    "\n",
    "\\begin{gather}\n",
    "    t = \\frac{-b \\pm \\sqrt{b^2 - 4ac}}{2a} \\\\\n",
    "    t = \\frac{-3 \\pm \\sqrt{3^2 - 4(-4.9)(2)}}{2(-4.9)} \\\\\n",
    "    t = 1.01,  -0.4\n",
    "\\end{gather}\n",
    "\n",
    "Our answer is $$\\boxed{t = 1.01 \\text{ seconds}}$$"
   ]
  },
  {
   "cell_type": "markdown",
   "metadata": {
    "hideCode": false,
    "hidePrompt": false,
    "slideshow": {
     "slide_type": "slide"
    }
   },
   "source": [
    "## Parabolas in Real Life\n",
    "\n",
    "Parabolas are everywhere!\n",
    "\n",
    "<div id=\"left\" style=\"text-align:center\">\n",
    "\n",
    "<img src=\"https://cdn.zmescience.com/wp-content/uploads/2016/01/TFDGubq.png\" style=\"width:200px\" />\n",
    "\n",
    "\n",
    "<img src=\"https://encrypted-tbn0.gstatic.com/images?q=tbn:ANd9GcTdlP0aByuN3yDuT_XRfMLCpkpzNBLa8RIMm2yj5r6unsD1tdeD\" style=\"width:200px\" />\n",
    "\n",
    "<img src=\"https://encrypted-tbn0.gstatic.com/images?q=tbn:ANd9GcTH_TNZIvzKUSS_ZWC4UBltxYUu0RzZcMfoM9YdLPTc4R3ztzqM\" style=\"width:200px\" />\n",
    "\n",
    "</div>\n",
    "\n",
    "<div id=\"right\">\n",
    "         <img src=\"https://encrypted-tbn0.gstatic.com/images?q=tbn:ANd9GcSp2lPICdnnHb_8-l2XxN_5RiokBUXit63F06Wunj4ERxLiMIr9\" style=\"width:200px\" />\n",
    "    \n",
    "   <img src=\"https://encrypted-tbn0.gstatic.com/images?q=tbn:ANd9GcQm3uG6cMbkGgIWSGbA7nvV139UEBQH-v4KRRcx5Cff-gJmk0f9Ig\" style=\"width:200px\" />\n",
    "   \n",
    "   <img src=\"https://i.ytimg.com/vi/OP1Ac_BNnyo/maxresdefault.jpg\" style=\"width:200px\" />\n",
    "    \n",
    " </div>"
   ]
  },
  {
   "cell_type": "markdown",
   "metadata": {
    "hideCode": false,
    "hidePrompt": false,
    "slideshow": {
     "slide_type": "slide"
    }
   },
   "source": [
    "## Paraboloid\n",
    "\n",
    "\n",
    "<img src=\"https://upload.wikimedia.org/wikipedia/commons/thumb/1/12/Paraboloid_of_Revolution.svg/640px-Paraboloid_of_Revolution.svg.png?1548008701778\" style=\"width: 400px\"/>\n",
    "\n",
    "$$z = x^2 + y^2$$\n",
    "\n",
    "Imagine we rotated a parabola $360^{\\circ}$ around the $y$ axis. "
   ]
  },
  {
   "cell_type": "markdown",
   "metadata": {
    "hideCode": false,
    "hidePrompt": false,
    "slideshow": {
     "slide_type": "slide"
    }
   },
   "source": [
    "## Paraboloids in Real Life\n",
    "\n",
    "![](https://encrypted-tbn0.gstatic.com/images?q=tbn:ANd9GcRUvAVFPBjlQX8ot0gkKvfWx1hYIx4gtE1cHDJkzTAtpOGFG4kmjw)\n",
    "\n",
    "![](https://encrypted-tbn0.gstatic.com/images?q=tbn:ANd9GcR_WlWiOUDmsanYpFbKDKm5Zlv2DsS3yINfo4os0W0hg6UwZnoR)"
   ]
  },
  {
   "cell_type": "markdown",
   "metadata": {
    "hideCode": false,
    "hidePrompt": false,
    "slideshow": {
     "slide_type": "slide"
    }
   },
   "source": [
    "## Wrapping Up\n",
    "\n",
    "* We learned a lot about how to solve second degree equations in the past 3 lessons\n",
    "* Mathematics is more than just learning how to solve an equation, though\n",
    "* Every day, people are using the math that you learn to solve real world problems and create real things\n",
    "* Parabolas occur in the world far more often then you'd think! Keep an eye out for them!\n",
    "\n",
    "It's been very fun teaching you all. Thank you for a great three weeks!"
   ]
  }
 ],
 "metadata": {
  "celltoolbar": "Slideshow",
  "hide_code_all_hidden": false,
  "kernelspec": {
   "display_name": "Python 3",
   "language": "python",
   "name": "python3"
  },
  "language_info": {
   "codemirror_mode": {
    "name": "ipython",
    "version": 3
   },
   "file_extension": ".py",
   "mimetype": "text/x-python",
   "name": "python",
   "nbconvert_exporter": "python",
   "pygments_lexer": "ipython3",
   "version": "3.5.2"
  }
 },
 "nbformat": 4,
 "nbformat_minor": 2
}
