{
 "cells": [
  {
   "cell_type": "code",
   "execution_count": 32,
   "metadata": {
    "hideCode": true,
    "hidePrompt": true,
    "slideshow": {
     "slide_type": "skip"
    }
   },
   "outputs": [
    {
     "data": {
      "text/html": [
       "<style> th {font-size: 3.5em; text-align:center;} td {font-size: 3em }</style>"
      ],
      "text/plain": [
       "<IPython.core.display.HTML object>"
      ]
     },
     "metadata": {},
     "output_type": "display_data"
    }
   ],
   "source": [
    "from IPython.core.display import display, HTML\n",
    "display(HTML(\"<style> th {font-size: 3.5em; text-align:center;} td {font-size: 3em }</style>\"))"
   ]
  },
  {
   "cell_type": "markdown",
   "metadata": {
    "hideCode": true,
    "hidePrompt": true,
    "slideshow": {
     "slide_type": "slide"
    }
   },
   "source": [
    "# Second Degree Equations Part 3"
   ]
  },
  {
   "cell_type": "markdown",
   "metadata": {
    "hideCode": true,
    "hidePrompt": true,
    "slideshow": {
     "slide_type": "slide"
    }
   },
   "source": [
    "## Graphing a Parabola Continued\n",
    "\n",
    "The most straigt-forward way to graph a parabola is to plot a couple of points on it, and then connect them. \n",
    "\n",
    "Let's try to graph $f(x) = x^2 - 4$"
   ]
  },
  {
   "cell_type": "markdown",
   "metadata": {
    "hideCode": true,
    "hidePrompt": true,
    "slideshow": {
     "slide_type": "fragment"
    }
   },
   "source": [
    "We can find that the vertex is at $(0, -4)$, and our parabola opens upwards."
   ]
  },
  {
   "cell_type": "code",
   "execution_count": 38,
   "metadata": {
    "hideCode": true,
    "hidePrompt": true,
    "slideshow": {
     "slide_type": "skip"
    }
   },
   "outputs": [],
   "source": [
    "import matplotlib.pyplot as plt\n",
    "import matplotlib.ticker as ticker\n",
    "import numpy as np\n",
    "\n",
    "plt.rc('text', usetex=True)\n",
    "plt.rc('font', family='serif')"
   ]
  },
  {
   "cell_type": "code",
   "execution_count": 46,
   "metadata": {
    "hideCode": true,
    "hidePrompt": true
   },
   "outputs": [
    {
     "data": {
      "image/png": "[encoded data removed]",
      "text/plain": [
       "<Figure size 360x288 with 1 Axes>"
      ]
     },
     "metadata": {
      "needs_background": "light"
     },
     "output_type": "display_data"
    }
   ],
   "source": [
    "#hideme\n",
    "\n",
    "def f(x):\n",
    "    return x**2 - 4\n",
    "\n",
    "fig = plt.figure(figsize=(5, 4))\n",
    "ax = fig.add_subplot(111)\n",
    "ax.set_title(\"$y = x^2 - 4$\", fontsize=20)\n",
    "\n",
    "x = np.array([0])\n",
    "y = f(x)\n",
    "ax.plot(x, y, marker='o', markersize=10, color=\"black\")\n",
    "\n",
    "\n",
    "xp = np.arange(-4, 4, 0.001)\n",
    "yp = f(xp)\n",
    "ax.plot(xp, yp, alpha=0)\n",
    "ax.yaxis.set_major_locator(ticker.MultipleLocator(1))\n",
    "\n",
    "ax.grid(True)\n",
    "\n",
    "ax.spines['left'].set_position('zero')\n",
    "ax.spines['right'].set_color('none')\n",
    "ax.spines['bottom'].set_position('zero')\n",
    "ax.spines['top'].set_color('none')\n",
    "ax.xaxis.set_ticks_position('bottom')\n",
    "ax.yaxis.set_ticks_position('left')"
   ]
  },
  {
   "cell_type": "markdown",
   "metadata": {
    "hideCode": true,
    "hidePrompt": true,
    "slideshow": {
     "slide_type": "fragment"
    }
   },
   "source": [
    "We need to calculate some additional points to the _left_ and _right_ of the vertex!"
   ]
  },
  {
   "cell_type": "markdown",
   "metadata": {
    "hideCode": true,
    "hidePrompt": true,
    "slideshow": {
     "slide_type": "slide"
    }
   },
   "source": [
    "## Graphing a Parabola Continued\n",
    "\n",
    "\\begin{equation}\n",
    "    f(x) = x^2 - 4\n",
    "\\end{equation}\n",
    "\n",
    "Let's make a chart to record our points. We'll start with the vertex at the center.\n",
    "\n",
    "\n",
    "        \n",
    "| $x$      | $y$ |\n",
    "| ----------- | ----------- |\n",
    "| --          | --          |\n",
    "| --          | --          |\n",
    "| --          | --          |\n",
    "| 0           | -4           |\n",
    "| --          | --          |\n",
    "| --          | --          |\n",
    "| --          | --          |"
   ]
  },
  {
   "cell_type": "markdown",
   "metadata": {
    "hideCode": true,
    "hidePrompt": true,
    "slideshow": {
     "slide_type": "subslide"
    }
   },
   "source": [
    "## Graphing a Parabola Continued\n",
    "\n",
    "\\begin{equation}\n",
    "    f(x) = x^2 - 4\n",
    "\\end{equation}\n",
    "\n",
    "Now we can compute $x = -1$\n",
    "\n",
    "\\begin{equation}\n",
    "    f(-1) = (-1)^2 - 4 = -3\n",
    "\\end{equation}\n",
    "\n",
    "\n",
    "        \n",
    "| $x$      | $y$ |\n",
    "| ----------- | ----------- |\n",
    "| --          | --          |\n",
    "| --          | --          |\n",
    "| -1          | -3          |\n",
    "| 0           | -4           |\n",
    "| --          | --          |\n",
    "| --          | --          |\n",
    "| --          | --          |"
   ]
  },
  {
   "cell_type": "markdown",
   "metadata": {
    "hideCode": true,
    "hidePrompt": true,
    "slideshow": {
     "slide_type": "subslide"
    }
   },
   "source": [
    "## Graphing a Parabola Continued\n",
    "\n",
    "\\begin{equation}\n",
    "    f(x) = x^2 - 4\n",
    "\\end{equation}\n",
    "\n",
    "Now let's compute $x=1$\n",
    "\n",
    "\\begin{equation}\n",
    "    f(1) = (1)^2 - 4 = -3\n",
    "\\end{equation}\n",
    "\n",
    "\n",
    "        \n",
    "| $x$      | $y$ |\n",
    "| ----------- | ----------- |\n",
    "| --          | --          |\n",
    "| --          | --          |\n",
    "| -1          | -3          |\n",
    "| 0           | -4          |\n",
    "| 1          | -3          |\n",
    "| --          | --          |\n",
    "| --          | --          |"
   ]
  },
  {
   "cell_type": "markdown",
   "metadata": {
    "hideCode": true,
    "hidePrompt": true,
    "slideshow": {
     "slide_type": "subslide"
    }
   },
   "source": [
    "## Graphing a Parabola Continued\n",
    "\n",
    "\\begin{equation}\n",
    "    f(x) = x^2 - 4\n",
    "\\end{equation}\n",
    "\n",
    "Now let's do $x=-2$, and $x=2$\n",
    "\n",
    "\\begin{align}\n",
    "    f(-2) = (-2)^2 - 4 = 0 && f(2) = (2)^2 - 4 = 0\n",
    "\\end{align}\n",
    "\n",
    "\n",
    "\n",
    "        \n",
    "| $x$      | $y$ |\n",
    "| ----------- | ----------- |\n",
    "| --          | --          |\n",
    "| -2          | 0          |\n",
    "| -1          | -3          |\n",
    "| 0           | -4          |\n",
    "| 1          | -3          |\n",
    "| 2          | 0         |\n",
    "| --          | --          |"
   ]
  },
  {
   "cell_type": "markdown",
   "metadata": {
    "hideCode": true,
    "hidePrompt": true,
    "slideshow": {
     "slide_type": "subslide"
    }
   },
   "source": [
    "## Graphing a Parabola Continued\n",
    "\n",
    "\\begin{equation}\n",
    "    f(x) = x^2 - 4\n",
    "\\end{equation}\n",
    "\n",
    "Lastly let's do $x=-3$, and $x=3$\n",
    "\n",
    "\\begin{align}\n",
    "    f(-3) = (-3)^2 - 4 = 5 && f(2) = (3)^2 - 4 = 5\n",
    "\\end{align}\n",
    "\n",
    "\n",
    "\n",
    "        \n",
    "| $x$      | $y$ |\n",
    "| ----------- | ----------- |\n",
    "| -3          | 5         |\n",
    "| -2          | 0          |\n",
    "| -1          | -3          |\n",
    "| 0           | -4          |\n",
    "| 1          | -3          |\n",
    "| 2          | 0         |\n",
    "| 3          | 5          |"
   ]
  },
  {
   "cell_type": "markdown",
   "metadata": {
    "hideCode": true,
    "hidePrompt": true,
    "slideshow": {
     "slide_type": "slide"
    }
   },
   "source": [
    "## Plotting the points\n",
    "\n",
    "With this chart, let's plot the points we found!"
   ]
  },
  {
   "cell_type": "code",
   "execution_count": 40,
   "metadata": {
    "hideCode": true,
    "hidePrompt": true,
    "slideshow": {
     "slide_type": "fragment"
    }
   },
   "outputs": [
    {
     "data": {
      "image/png": "[encoded data removed]",
      "text/plain": [
       "<Figure size 576x504 with 1 Axes>"
      ]
     },
     "metadata": {
      "needs_background": "light"
     },
     "output_type": "display_data"
    }
   ],
   "source": [
    "#hideme\n",
    "\n",
    "def f(x):\n",
    "    return x**2 - 4\n",
    "\n",
    "fig = plt.figure(figsize=(8, 7))\n",
    "ax = fig.add_subplot(111)\n",
    "ax.set_title(\"$y = x^2 - 4$\", fontsize=20)\n",
    "\n",
    "x = np.array([-3, -2, -1, 0, 1, 2, 3])\n",
    "y = f(x)\n",
    "ax.plot(x, y, marker='o', linewidth=0, markersize=10, color=\"black\")\n",
    "\n",
    "\n",
    "xp = np.arange(-4, 4, 0.001)\n",
    "yp = f(xp)\n",
    "ax.plot(xp, yp, alpha=0)\n",
    "ax.yaxis.set_major_locator(ticker.MultipleLocator(1))\n",
    "\n",
    "ax.grid(True)\n",
    "\n",
    "ax.spines['left'].set_position('zero')\n",
    "ax.spines['right'].set_color('none')\n",
    "ax.spines['bottom'].set_position('zero')\n",
    "ax.spines['top'].set_color('none')\n",
    "ax.xaxis.set_ticks_position('bottom')\n",
    "ax.yaxis.set_ticks_position('left')"
   ]
  },
  {
   "cell_type": "markdown",
   "metadata": {
    "hideCode": true,
    "hidePrompt": true,
    "slideshow": {
     "slide_type": "fragment"
    }
   },
   "source": [
    "All that's left to do now is draw in the line!"
   ]
  },
  {
   "cell_type": "markdown",
   "metadata": {
    "hideCode": true,
    "hidePrompt": true,
    "slideshow": {
     "slide_type": "slide"
    }
   },
   "source": [
    "## Plotting the points"
   ]
  },
  {
   "cell_type": "code",
   "execution_count": 39,
   "metadata": {
    "hideCode": true,
    "hidePrompt": true,
    "slideshow": {
     "slide_type": "-"
    }
   },
   "outputs": [
    {
     "data": {
      "image/png": "[encoded data removed]",
      "text/plain": [
       "<Figure size 576x504 with 1 Axes>"
      ]
     },
     "metadata": {
      "needs_background": "light"
     },
     "output_type": "display_data"
    }
   ],
   "source": [
    "#hideme\n",
    "\n",
    "def f(x):\n",
    "    return x**2 - 4\n",
    "\n",
    "\n",
    "def makeArrow(ax,pos,function,direction):\n",
    "    delta = 0.0001 if direction >= 0 else -0.01\n",
    "    ax.arrow(pos,function(pos),delta,function(pos+delta)-function(pos),head_width=0.2,head_length=0.5, color=\"black\")\n",
    "    \n",
    "    \n",
    "fig = plt.figure(figsize=(8, 7))\n",
    "ax = fig.add_subplot(111)\n",
    "ax.set_title(\"$y = x^2 - 4$\", fontsize=20)\n",
    "\n",
    "x = np.array([-3, -2, -1, 0, 1, 2, 3])\n",
    "y = f(x)\n",
    "ax.plot(x, y, marker='o', linewidth=0, markersize=10, color=\"black\")\n",
    "\n",
    "xleft = np.arange(-3.5, 0, 0.001)\n",
    "yleft = f(xleft)\n",
    "\n",
    "makeArrow(ax, -3.5, f, -1)\n",
    "makeArrow(ax, 3.5, f, 1)\n",
    "\n",
    "xp = np.arange(-3.5, 3.5, 0.001)\n",
    "yp = f(xp)\n",
    "ax.plot(xp, yp, color=\"black\")\n",
    "ax.yaxis.set_major_locator(ticker.MultipleLocator(1))\n",
    "ax.grid(True)\n",
    "\n",
    "\n",
    "ax.spines['left'].set_position('zero')\n",
    "ax.spines['right'].set_color('none')\n",
    "ax.spines['bottom'].set_position('zero')\n",
    "ax.spines['top'].set_color('none')\n",
    "ax.xaxis.set_ticks_position('bottom')\n",
    "ax.yaxis.set_ticks_position('left')"
   ]
  },
  {
   "cell_type": "markdown",
   "metadata": {
    "hideCode": true,
    "hidePrompt": true,
    "slideshow": {
     "slide_type": "fragment"
    }
   },
   "source": [
    "<span style=\"color:green\">True</span> or <span style=\"color:red\">False</span>: we always have to manually compute both the left and right side of the vertex."
   ]
  },
  {
   "cell_type": "markdown",
   "metadata": {
    "hideCode": true,
    "hidePrompt": true,
    "slideshow": {
     "slide_type": "fragment"
    }
   },
   "source": [
    "<span style=\"color:red\">False</span>! The parabola is symmetric about $x_{vertex}$, so the value for $f(x_{vertex} - c) = f(x_{vertex} + c)$. This means we only have to compute one side of values!"
   ]
  },
  {
   "cell_type": "markdown",
   "metadata": {
    "hideCode": true,
    "hidePrompt": true,
    "slideshow": {
     "slide_type": "slide"
    }
   },
   "source": [
    "## Let's practice!\n",
    "\n",
    "In _groups of 3_ graph the following parabolas using the method we've just seen\n",
    "\n",
    "\\begin{align}\n",
    "    x^2+2x-3 \\\\\n",
    "    x^2-4x+2 \\\\\n",
    "    -2x^2-4x+2\n",
    "\\end{align}"
   ]
  },
  {
   "cell_type": "markdown",
   "metadata": {
    "hideCode": true,
    "hidePrompt": true,
    "slideshow": {
     "slide_type": "slide"
    }
   },
   "source": [
    "## Problem 1"
   ]
  },
  {
   "cell_type": "code",
   "execution_count": 48,
   "metadata": {
    "hideCode": true,
    "hidePrompt": true,
    "slideshow": {
     "slide_type": "-"
    }
   },
   "outputs": [
    {
     "data": {
      "image/png": "[encoded data removed]",
      "text/plain": [
       "<Figure size 576x504 with 1 Axes>"
      ]
     },
     "metadata": {
      "needs_background": "light"
     },
     "output_type": "display_data"
    }
   ],
   "source": [
    "#hideme\n",
    "\n",
    "def f(x):\n",
    "    return x**2 + 2*x - 3\n",
    "\n",
    "\n",
    "def makeArrow(ax,pos,function,direction):\n",
    "    delta = 0.0001 if direction >= 0 else -0.01\n",
    "    ax.arrow(pos,function(pos),delta,function(pos+delta)-function(pos),head_width=0.2,head_length=0.5, color=\"black\")\n",
    "    \n",
    "    \n",
    "fig = plt.figure(figsize=(8, 7))\n",
    "ax = fig.add_subplot(111)\n",
    "ax.set_title(\"$y = x^2 +2x - 3$\", fontsize=20)\n",
    "\n",
    "x = np.array([-4, -3, -2, -1, 0, 1, 2])\n",
    "y = f(x)\n",
    "ax.plot(x, y, marker='o', linewidth=0, markersize=10, color=\"black\")\n",
    "\n",
    "xleft = np.arange(-3.5, 0, 0.001)\n",
    "yleft = f(xleft)\n",
    "\n",
    "makeArrow(ax, -4.5, f, -1)\n",
    "makeArrow(ax, 2.5, f, 1)\n",
    "\n",
    "xp = np.arange(-4.5, 2.5, 0.001)\n",
    "yp = f(xp)\n",
    "ax.plot(xp, yp, color=\"black\")\n",
    "ax.yaxis.set_major_locator(ticker.MultipleLocator(1))\n",
    "ax.grid(True)\n",
    "\n",
    "\n",
    "ax.spines['left'].set_position('zero')\n",
    "ax.spines['right'].set_color('none')\n",
    "ax.spines['bottom'].set_position('zero')\n",
    "ax.spines['top'].set_color('none')\n",
    "ax.xaxis.set_ticks_position('bottom')\n",
    "ax.yaxis.set_ticks_position('left')"
   ]
  },
  {
   "cell_type": "markdown",
   "metadata": {
    "hideCode": true,
    "hidePrompt": true,
    "slideshow": {
     "slide_type": "slide"
    }
   },
   "source": [
    "## Problem 2"
   ]
  },
  {
   "cell_type": "code",
   "execution_count": 52,
   "metadata": {
    "hideCode": true,
    "hidePrompt": true,
    "slideshow": {
     "slide_type": "-"
    }
   },
   "outputs": [
    {
     "data": {
      "image/png": "[encoded data removed]",
      "text/plain": [
       "<Figure size 576x504 with 1 Axes>"
      ]
     },
     "metadata": {
      "needs_background": "light"
     },
     "output_type": "display_data"
    }
   ],
   "source": [
    "#hideme\n",
    "\n",
    "def f(x):\n",
    "    return x**2 - 4*x + 2\n",
    "\n",
    "\n",
    "def makeArrow(ax,pos,function,direction):\n",
    "    delta = 0.0001 if direction >= 0 else -0.01\n",
    "    ax.arrow(pos,function(pos),delta,function(pos+delta)-function(pos),head_width=0.2,head_length=0.5, color=\"black\")\n",
    "    \n",
    "    \n",
    "fig = plt.figure(figsize=(8, 7))\n",
    "ax = fig.add_subplot(111)\n",
    "ax.set_title(\"$y = x^2 - 4x + 2$\", fontsize=20)\n",
    "\n",
    "x = np.array([-1, 0, 1, 2, 3, 4, 5])\n",
    "y = f(x)\n",
    "ax.plot(x, y, marker='o', linewidth=0, markersize=10, color=\"black\")\n",
    "\n",
    "\n",
    "\n",
    "makeArrow(ax, -1.5, f, -1)\n",
    "makeArrow(ax, 5.5, f, 1)\n",
    "\n",
    "xp = np.arange(-1.5, 5.5, 0.001)\n",
    "yp = f(xp)\n",
    "ax.plot(xp, yp, color=\"black\")\n",
    "ax.yaxis.set_major_locator(ticker.MultipleLocator(1))\n",
    "ax.grid(True)\n",
    "\n",
    "\n",
    "ax.spines['left'].set_position('zero')\n",
    "ax.spines['right'].set_color('none')\n",
    "ax.spines['bottom'].set_position('zero')\n",
    "ax.spines['top'].set_color('none')\n",
    "ax.xaxis.set_ticks_position('bottom')\n",
    "ax.yaxis.set_ticks_position('left')"
   ]
  },
  {
   "cell_type": "markdown",
   "metadata": {
    "hideCode": true,
    "hidePrompt": true,
    "slideshow": {
     "slide_type": "slide"
    }
   },
   "source": [
    "## Problem 3"
   ]
  },
  {
   "cell_type": "code",
   "execution_count": 55,
   "metadata": {
    "hideCode": true,
    "hidePrompt": true,
    "slideshow": {
     "slide_type": "-"
    }
   },
   "outputs": [
    {
     "data": {
      "image/png": "[encoded data removed]",
      "text/plain": [
       "<Figure size 576x504 with 1 Axes>"
      ]
     },
     "metadata": {
      "needs_background": "light"
     },
     "output_type": "display_data"
    }
   ],
   "source": [
    "#hideme\n",
    "\n",
    "def f(x):\n",
    "    return -2*x**2 - 4*x + 2\n",
    "\n",
    "\n",
    "def makeArrow(ax,pos,function,direction):\n",
    "    delta = 0.0001 if direction >= 0 else -0.01\n",
    "    ax.arrow(pos,function(pos),delta,function(pos+delta)-function(pos),head_width=0.2,head_length=0.5, color=\"black\")\n",
    "    \n",
    "    \n",
    "fig = plt.figure(figsize=(8, 7))\n",
    "ax = fig.add_subplot(111)\n",
    "ax.set_title(\"$y = -2x^2 - 4x + 2$\", fontsize=20)\n",
    "\n",
    "x = np.array([-4, -3, -2, -1, 0, 1, 2])\n",
    "y = f(x)\n",
    "ax.plot(x, y, marker='o', linewidth=0, markersize=10, color=\"black\")\n",
    "\n",
    "\n",
    "\n",
    "makeArrow(ax, -4.2, f, -1)\n",
    "makeArrow(ax, 2.2, f, 1)\n",
    "\n",
    "xp = np.arange(-4.2, 2.2, 0.001)\n",
    "yp = f(xp)\n",
    "ax.plot(xp, yp, color=\"black\")\n",
    "ax.yaxis.set_major_locator(ticker.MultipleLocator(1))\n",
    "ax.grid(True)\n",
    "\n",
    "\n",
    "ax.spines['left'].set_position('zero')\n",
    "ax.spines['right'].set_color('none')\n",
    "ax.spines['bottom'].set_position('zero')\n",
    "ax.spines['top'].set_color('none')\n",
    "ax.xaxis.set_ticks_position('bottom')\n",
    "ax.yaxis.set_ticks_position('left')"
   ]
  },
  {
   "cell_type": "markdown",
   "metadata": {
    "hideCode": true,
    "hidePrompt": true,
    "slideshow": {
     "slide_type": "slide"
    }
   },
   "source": [
    "## Vertex Form of a Parabola\n",
    "\n",
    "We have been working with parabolas with equations that look like\n",
    "\n",
    "\\begin{equation}\n",
    "    f(x) = ax^2 + bx + c\n",
    "\\end{equation}\n",
    "\n",
    "But there is a way to re-arrange our terms to get our expression into **_vertex form_**. "
   ]
  },
  {
   "cell_type": "markdown",
   "metadata": {
    "hideCode": true,
    "hidePrompt": true,
    "slideshow": {
     "slide_type": "fragment"
    }
   },
   "source": [
    "Given a parabola, we can find\n",
    "\n",
    "\\begin{equation}\n",
    "    (x_{vertex}, y_{vertex}) = (h, k)\n",
    "\\end{equation}\n",
    "\n",
    "We can then write our parabola as\n",
    "\n",
    "\\begin{equation}\n",
    "    f(x) = a(x-h)^2 + k\n",
    "\\end{equation}\n",
    "\n",
    "This makes the symmetry of the parabola easy to see!"
   ]
  },
  {
   "cell_type": "markdown",
   "metadata": {
    "hideCode": true,
    "hidePrompt": true,
    "slideshow": {
     "slide_type": "subslide"
    }
   },
   "source": [
    "## Vertex Form of a Parabola\n",
    "\n",
    "<span style=\"color:green\">True</span> or <span style=\"color:red\">False</span>: The _vertex form_ of a quadratic expression is easier to work with."
   ]
  },
  {
   "cell_type": "markdown",
   "metadata": {
    "hideCode": true,
    "hidePrompt": true,
    "slideshow": {
     "slide_type": "fragment"
    }
   },
   "source": [
    "<span style=\"color:green\">True</span>! We don't have to calculate the vertex, only read it. Calculating points is also easier!"
   ]
  },
  {
   "cell_type": "markdown",
   "metadata": {
    "hideCode": true,
    "hidePrompt": true,
    "slideshow": {
     "slide_type": "subslide"
    }
   },
   "source": [
    "## Vertex Form of a Parabola - Practice\n",
    "\n",
    "What is the vertex for each of the following parabolas?\n",
    "\n",
    "\\begin{align}\n",
    "    (x-2)^2 + 4 \\\\\n",
    "    5(x+5)^2 - 10 \\\\\n",
    "    -2(x-12)^2 + 6\n",
    "\\end{align}"
   ]
  },
  {
   "cell_type": "markdown",
   "metadata": {
    "hideCode": true,
    "hidePrompt": true,
    "slideshow": {
     "slide_type": "subslide"
    }
   },
   "source": [
    "## Vertex Form of a Parabola - Practice\n",
    "\n",
    "What is the vertex for each of the following parabolas?\n",
    "\n",
    "\\begin{align}\n",
    "    (x-2)^2 + 4 &\\ \\rightarrow \\ (2, 4)\\\\\n",
    "    5(x+5)^2 - 10 &\\\\\n",
    "    -2(x-12)^2 + 6 &\n",
    "\\end{align}"
   ]
  },
  {
   "cell_type": "markdown",
   "metadata": {
    "hideCode": true,
    "hidePrompt": true,
    "slideshow": {
     "slide_type": "subslide"
    }
   },
   "source": [
    "## Vertex Form of a Parabola - Practice\n",
    "\n",
    "What is the vertex for each of the following parabolas?\n",
    "\n",
    "\\begin{align}\n",
    "    (x-2)^2 + 4 &\\ \\rightarrow \\ (2, 4)\\\\\n",
    "    5(x+5)^2 - 10 &\\ \\rightarrow \\ (-5, -10) \\\\\n",
    "    -2(x-12)^2 + 6 &\n",
    "\\end{align}"
   ]
  },
  {
   "cell_type": "markdown",
   "metadata": {
    "hideCode": true,
    "hidePrompt": true,
    "slideshow": {
     "slide_type": "subslide"
    }
   },
   "source": [
    "## Vertex Form of a Parabola - Practice\n",
    "\n",
    "What is the vertex for each of the following parabolas?\n",
    "\n",
    "\\begin{align}\n",
    "    (x-2)^2 + 4 &\\ \\rightarrow \\ (2, 4)\\\\\n",
    "    5(x+5)^2 - 10 &\\ \\rightarrow \\ (-5, -10) \\\\\n",
    "    -2(x-12)^2 + 6 &\\ \\rightarrow \\ (12, 6)\n",
    "\\end{align}"
   ]
  }
 ],
 "metadata": {
  "celltoolbar": "Slideshow",
  "hide_code_all_hidden": true,
  "kernelspec": {
   "display_name": "Python 3",
   "language": "python",
   "name": "python3"
  },
  "language_info": {
   "codemirror_mode": {
    "name": "ipython",
    "version": 3
   },
   "file_extension": ".py",
   "mimetype": "text/x-python",
   "name": "python",
   "nbconvert_exporter": "python",
   "pygments_lexer": "ipython3",
   "version": "3.5.2"
  }
 },
 "nbformat": 4,
 "nbformat_minor": 2
}
