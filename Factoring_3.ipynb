{
 "cells": [
  {
   "cell_type": "code",
   "execution_count": 1,
   "metadata": {},
   "outputs": [
    {
     "data": {
      "text/html": [
       "<script>\n",
       "code_show=true; \n",
       "function code_toggle() {\n",
       " if (code_show){\n",
       " $('div.input').hide();\n",
       " $('div.input_prompt').hide()\n",
       " } else {\n",
       " $('div.input').show();\n",
       " }\n",
       " code_show = !code_show\n",
       "} \n",
       "$( document ).ready(code_toggle);\n",
       "</script>\n",
       "<form action=\"javascript:code_toggle()\"><input type=\"submit\" value=\"Magic Button.\"></form>"
      ],
      "text/plain": [
       "<IPython.core.display.HTML object>"
      ]
     },
     "execution_count": 1,
     "metadata": {},
     "output_type": "execute_result"
    }
   ],
   "source": [
    "from IPython.display import HTML\n",
    "\n",
    "HTML('''<script>\n",
    "code_show=true; \n",
    "function code_toggle() {\n",
    " if (code_show){\n",
    " $('div.input').hide();\n",
    " $('div.input_prompt').hide()\n",
    " } else {\n",
    " $('div.input').show();\n",
    " }\n",
    " code_show = !code_show\n",
    "} \n",
    "$( document ).ready(code_toggle);\n",
    "</script>\n",
    "<form action=\"javascript:code_toggle()\"><input type=\"submit\" value=\"Magic Button.\"></form>''')"
   ]
  },
  {
   "cell_type": "markdown",
   "metadata": {
    "slideshow": {
     "slide_type": "slide"
    }
   },
   "source": [
    "# Factoring Part 3\n",
    "\n",
    "Let's look at the problem from yesterday\n",
    "\n",
    "\\begin{equation}\n",
    "    50x + 20x^2 + 2x^3\n",
    "\\end{equation}\n",
    "\n",
    "How can we factor this?\n",
    "\n",
    "\\begin{align}\n",
    "    2x(25 + 10x + x^2) \\\\\n",
    "    2x(x^2 + 10x + 25) \\\\\n",
    "    2x(x+5)^2\n",
    "\\end{align}"
   ]
  },
  {
   "cell_type": "markdown",
   "metadata": {
    "slideshow": {
     "slide_type": "slide"
    }
   },
   "source": [
    "## What if it doesn't have a form we recognize?\n",
    "\n",
    "Consider the following expression\n",
    "\n",
    "\\begin{equation}\n",
    "    x^2 + 5x + 6\n",
    "\\end{equation}\n",
    "\n",
    "And remember the special products we saw last time\n",
    "\n",
    "\\begin{align}\n",
    "    x^2 + 2ax + a^2 = (x + a)^2 \\\\\n",
    "    x^2 - 2ax + a^2 = (x - a)^2 \\\\\n",
    "    x^2 - a^2 = (x+a)(x-a)\n",
    "\\end{align}\n",
    "\n",
    "What's wrong?"
   ]
  },
  {
   "cell_type": "markdown",
   "metadata": {
    "slideshow": {
     "slide_type": "fragment"
    }
   },
   "source": [
    "Our expression does not have a value of $a$ that lets us use a special product rule!"
   ]
  },
  {
   "cell_type": "markdown",
   "metadata": {
    "slideshow": {
     "slide_type": "slide"
    }
   },
   "source": [
    "## A New Idea\n",
    "\n",
    "All the special products factored into the form\n",
    "\\begin{align}\n",
    "    (x \\pm a)(x \\pm a)\n",
    "\\end{align}\n",
    "\n",
    "But what if we can factor an expression into\n",
    "\\begin{align}\n",
    "    (x \\pm a)(x \\pm b)\n",
    "\\end{align}\n",
    "\n",
    "where $a$ and $b$ are different values??"
   ]
  },
  {
   "cell_type": "markdown",
   "metadata": {
    "slideshow": {
     "slide_type": "subslide"
    }
   },
   "source": [
    "## A New Idea\n",
    "\n",
    "Let's look at what happens when we have $(x+a)(x+b)$\n",
    "\n",
    "\\begin{align}\n",
    "    (x + a)(x + b) &= x^2 + ax + bc + ab \\\\\n",
    "                    &= x^2 + (a+b)x + ab\n",
    "\\end{align}\n",
    "\n",
    "# 😮😮😮\n",
    "\n",
    "The _constant_ term = $ab$ and $a$ and $b$ add to be the coeffecient of the $x$ term!"
   ]
  },
  {
   "cell_type": "markdown",
   "metadata": {
    "slideshow": {
     "slide_type": "subslide"
    }
   },
   "source": [
    "# Factoring $x^2 + 5x + 6$\n",
    "\n",
    "We need to find $a, b$ that **multiply to 6 and add to 5**. \n",
    "\n",
    "How can we do this?"
   ]
  },
  {
   "cell_type": "markdown",
   "metadata": {
    "slideshow": {
     "slide_type": "fragment"
    }
   },
   "source": [
    "Let's list all the factors of 6, and what those factors add to!\n",
    "\n",
    "\\begin{align}\n",
    "    6 &= 1 \\cdot 6 & 1 + 6 = 6\\\\\n",
    "    6 &= 2 \\cdot 3 & 2 + 3 = 5\\\\\n",
    "\\end{align}\n",
    "\n",
    "Can you see the answer?"
   ]
  },
  {
   "cell_type": "markdown",
   "metadata": {
    "slideshow": {
     "slide_type": "fragment"
    }
   },
   "source": [
    "\\begin{equation}\n",
    "    x^2 + 5x + 6 =(x+2)(x+3)\n",
    "\\end{equation}"
   ]
  },
  {
   "cell_type": "markdown",
   "metadata": {
    "slideshow": {
     "slide_type": "slide"
    }
   },
   "source": [
    "## Let's practice\n",
    "\n",
    "With a partner, try to factor the following expressions\n",
    "\n",
    "\\begin{align}\n",
    "    x^2 + 6x + 8 \\\\\n",
    "    x^2 + 5x - 6\n",
    "\\end{align}"
   ]
  },
  {
   "cell_type": "markdown",
   "metadata": {
    "slideshow": {
     "slide_type": "slide"
    }
   },
   "source": [
    "## Let's practice\n",
    "\n",
    "With a partner, try to factor the following expressions\n",
    "\n",
    "\\begin{align}\n",
    "    x^2 + 6x + 8 &= (x+2)(x+4)\\\\\n",
    "    x^2 + 5x - 6 &= (x-1)(x+6) & \\text{something new!}\n",
    "\\end{align}"
   ]
  },
  {
   "cell_type": "markdown",
   "metadata": {
    "slideshow": {
     "slide_type": "slide"
    }
   },
   "source": [
    "## Signs are important\n",
    "\n",
    "The general form of the equation we are factoring is\n",
    "\n",
    "\\begin{equation}\n",
    "    ax^2 + bx + c\n",
    "\\end{equation}\n",
    "\n",
    "(For now, we will always let $a=1$). \n",
    "\n",
    "If $c$ is positive, then we must consider all pairs with two positives and all pairs with two negatives. For example\n",
    "\n",
    "\\begin{equation}\n",
    "    c = 10 = (1)(10) = (-1)(-10) = (2)(5) = (-2)(-5)\n",
    "\\end{equation}\n",
    "\n",
    "If $c$ is negative, we must consider all pairs with one negative and one positive\n",
    "\n",
    "\\begin{equation}\n",
    "    c = -10 = (-1)(10) = (1)(-10) = (-2)(5) = (2)(-5)\n",
    "\\end{equation}\n"
   ]
  },
  {
   "cell_type": "markdown",
   "metadata": {
    "slideshow": {
     "slide_type": "slide"
    }
   },
   "source": [
    "## Some more practice!\n",
    "\n",
    "In **_groups of three_** try to factor these expressions\n",
    "\n",
    "\\begin{align}\n",
    "    x^2 - 3x - 4 \\\\\n",
    "    x^2 - 12x + 35 \\\\\n",
    "    x^2 + 10x + 16 \\\\\n",
    "    x^2 + 4x - 32\n",
    "\\end{align}"
   ]
  },
  {
   "cell_type": "markdown",
   "metadata": {
    "slideshow": {
     "slide_type": "subslide"
    }
   },
   "source": [
    "## Some more practice!\n",
    "\n",
    "In **_groups of three_** try to factor these expressions\n",
    "\n",
    "\\begin{align}\n",
    "    x^2 - 3x - 4 &= (x - 4)(x +1) \\\\\n",
    "    x^2 - 12x + 35 &= (x - 5)(x - 7) \\\\\n",
    "    x^2 + 10x + 16 &= (x + 8)(x + 2)\\\\\n",
    "    x^2 + 4x - 32 &= (x + 8)(x - 4)\n",
    "\\end{align}"
   ]
  },
  {
   "cell_type": "markdown",
   "metadata": {
    "slideshow": {
     "slide_type": "slide"
    }
   },
   "source": [
    "## Some trivia\n",
    "\n",
    "<span style=\"color: green\">True</span> or <span style=\"color: red\">False</span>: we can always factor an expression $x^2 + cx + d$ into the product of $(x \\pm a)(x \\pm b)$, for integers $a, b, c, d$."
   ]
  },
  {
   "cell_type": "markdown",
   "metadata": {
    "slideshow": {
     "slide_type": "fragment"
    }
   },
   "source": [
    "**<span style=\"color: red\">False</span>**. What if the factors of $ab$ do not add up to $c$? For example,\n",
    "\n",
    "\\begin{equation}\n",
    "    x^2 + 10x + 7\n",
    "\\end{equation}\n",
    "\n",
    "does not factor nicely. "
   ]
  },
  {
   "cell_type": "markdown",
   "metadata": {
    "slideshow": {
     "slide_type": "subslide"
    }
   },
   "source": [
    "## Some trivia\n",
    "\n",
    "<span style=\"color: green\">True</span> or <span style=\"color: red\">False</span>: The special products we saw yesterday, $(x \\pm a)(x \\pm a)$ are just a specific case of what we learned today."
   ]
  },
  {
   "cell_type": "markdown",
   "metadata": {
    "slideshow": {
     "slide_type": "fragment"
    }
   },
   "source": [
    "**<span style=\"color: green\">True</span>**. If you get really good at factoring, there's no need to memorize the special products. But, for  large numbers, recognizing special products is **_much_** faster than today's method."
   ]
  },
  {
   "cell_type": "markdown",
   "metadata": {
    "slideshow": {
     "slide_type": "slide"
    }
   },
   "source": [
    "## A hard example\n",
    "\n",
    "Let's work through simplifying the following expression using all the techniques we've learned so far.\n",
    "\n",
    "\n",
    "\\begin{equation}\n",
    "    \\frac{3x^2y - 12y}{3x^3y + 24x^2y - 60xy}\n",
    "\\end{equation}\n",
    "\n"
   ]
  },
  {
   "cell_type": "markdown",
   "metadata": {
    "slideshow": {
     "slide_type": "fragment"
    }
   },
   "source": [
    "Let's first try to factor the top. What can we factor out?"
   ]
  },
  {
   "cell_type": "markdown",
   "metadata": {
    "slideshow": {
     "slide_type": "fragment"
    }
   },
   "source": [
    "$3y$! So now we get\n",
    "\n",
    "\\begin{equation}\n",
    "    \\frac{3y(x^2 - 4)}{3x^3y + 24x^2y - 60xy}\n",
    "\\end{equation}\n",
    "\n",
    "can we do anything else?"
   ]
  },
  {
   "cell_type": "markdown",
   "metadata": {
    "slideshow": {
     "slide_type": "subslide"
    }
   },
   "source": [
    "## A hard example\n",
    "\n",
    "Special form (difference of two perfect squares)\n",
    "\n",
    "\\begin{equation}\n",
    "    \\frac{3y(x-2)(x+2)}{3x^3y + 24x^2y - 60xy}\n",
    "\\end{equation}\n",
    "\n",
    "Let's look at the bottom now. What can we factor out?"
   ]
  },
  {
   "cell_type": "markdown",
   "metadata": {
    "slideshow": {
     "slide_type": "fragment"
    }
   },
   "source": [
    "$3xy$! So now we get\n",
    "\n",
    "\\begin{equation}\n",
    "    \\frac{3y(x-2)(x+2)}{3xy(x^2 + 8x - 20)}\n",
    "\\end{equation}\n",
    "\n",
    "What now?"
   ]
  },
  {
   "cell_type": "markdown",
   "metadata": {
    "slideshow": {
     "slide_type": "subslide"
    }
   },
   "source": [
    "## A hard example\n",
    "\n",
    "We can factor the bottom more.\n",
    "\n",
    "\\begin{equation}\n",
    "    \\frac{3y(x-2)(x+2)}{3xy(x-2)(x+10)}\n",
    "\\end{equation}\n",
    "\n",
    "Are we done?"
   ]
  },
  {
   "cell_type": "markdown",
   "metadata": {
    "slideshow": {
     "slide_type": "fragment"
    }
   },
   "source": [
    "Cancel things out! **☺️**\n",
    "\n",
    "\\begin{equation}\n",
    "    \\frac{(x+2)}{x(x+10)}\n",
    "\\end{equation}\n",
    "\n",
    "Now we are done."
   ]
  },
  {
   "cell_type": "markdown",
   "metadata": {
    "slideshow": {
     "slide_type": "slide"
    }
   },
   "source": [
    "## Wrapping Up\n",
    "\n",
    "If we have an expression that looks like\n",
    "\n",
    "$$y = x^2 + bx + c$$\n",
    "\n",
    "We can factor this into \n",
    "\n",
    "$$y = (x \\pm i)(x \\pm j)$$\n",
    "\n",
    "where \n",
    "\n",
    "\\begin{align}\n",
    "    c = (i)(j) && b = i + j\n",
    "\\end{align}\n",
    "\n",
    "We should also remember the _special products_ we saw last time and factoring by looking for the _common factor_ we saw two lessons ago."
   ]
  }
 ],
 "metadata": {
  "celltoolbar": "Slideshow",
  "kernelspec": {
   "display_name": "Python 3",
   "language": "python",
   "name": "python3"
  },
  "language_info": {
   "codemirror_mode": {
    "name": "ipython",
    "version": 3
   },
   "file_extension": ".py",
   "mimetype": "text/x-python",
   "name": "python",
   "nbconvert_exporter": "python",
   "pygments_lexer": "ipython3",
   "version": "3.5.2"
  }
 },
 "nbformat": 4,
 "nbformat_minor": 2
}
