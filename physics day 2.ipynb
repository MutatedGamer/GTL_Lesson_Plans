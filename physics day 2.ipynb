{
 "cells": [
  {
   "cell_type": "markdown",
   "metadata": {
    "slideshow": {
     "slide_type": "slide"
    }
   },
   "source": [
    "# Physics Day 2\n",
    "Luke Bordonaro"
   ]
  },
  {
   "cell_type": "markdown",
   "metadata": {
    "slideshow": {
     "slide_type": "slide"
    }
   },
   "source": [
    "## Graphing Data\n",
    "One person from each group tell me the data you recorded, and we will see what everyone's data looks like together\n",
    "\n",
    "https://www.desmos.com/calculator"
   ]
  },
  {
   "cell_type": "markdown",
   "metadata": {
    "slideshow": {
     "slide_type": "slide"
    }
   },
   "source": [
    "## Amplitude of Oscillation\n",
    "\n",
    "Do we think that the ampltitude of oscillation (how far the pendulum was pulled back) affects the period of oscillation?\n",
    "\n",
    "Try changing the ampltitude of the pendulum on the PHET simulation to see!\n",
    "\n",
    "https://phet.colorado.edu/sims/html/pendulum-lab/latest/pendulum-lab_en.html (Google \"phet pendulum simulation\")"
   ]
  },
  {
   "cell_type": "markdown",
   "metadata": {
    "slideshow": {
     "slide_type": "slide"
    }
   },
   "source": [
    "## Mass of Pendulum\n",
    "\n",
    "Every group used a different phone, meaning each group had a different mass on their pendulum. How do we think this affects the period of oscillation?\n",
    "\n",
    "Try changing the mass on the PHET simulation!"
   ]
  },
  {
   "cell_type": "markdown",
   "metadata": {
    "slideshow": {
     "slide_type": "slide"
    }
   },
   "source": [
    "## The Equation\n",
    "\n",
    "We can approximate the period of the pendulum with\n",
    "\n",
    "$$T = 2\\pi \\sqrt{\\left(\\frac{l}{g}\\right)}$$\n",
    "\n",
    "where\n",
    "\n",
    "$$l = \\text{length of pendulum}$$\n",
    "$$g = \\text{acceleration due to gravity}$$\n",
    "\n",
    "What happens as we double $l$? How would we get double the period?"
   ]
  },
  {
   "cell_type": "markdown",
   "metadata": {
    "slideshow": {
     "slide_type": "slide"
    }
   },
   "source": [
    "## Sources of Error\n",
    "\n",
    "In the data we recorded, some periods did not match what we might expect from this. What are some reasons for this?"
   ]
  },
  {
   "cell_type": "markdown",
   "metadata": {
    "slideshow": {
     "slide_type": "slide"
    }
   },
   "source": [
    "## Sources of Error\n",
    "\n",
    "In the data we recorded, some periods did not match what we might expect from this. What are some reasons for this?\n",
    "\n",
    "1. Incorrect reading of recording\n",
    "2. Pushing phone down at start instead of letting it fall\n",
    "3. Recorded graph difficult to read\n",
    "4. Phone acceleroeter not working correctly (not likely, but possible)\n",
    "5. Incorrect data measured (I saw some groups do this at first!)"
   ]
  },
  {
   "cell_type": "markdown",
   "metadata": {
    "slideshow": {
     "slide_type": "slide"
    }
   },
   "source": [
    "## Estimating Values of $g$\n",
    "\n",
    "We can estimate the acceleration due to gravity here on Earth by solving our equation of $T$ for $g$\n",
    "\n",
    "\\begin{align}\n",
    "    T = 2\\pi \\sqrt{\\left(\\frac{l}{g}\\right)} \\\\\n",
    "    \\frac{T}{2\\pi} = \\sqrt{\\left(\\frac{l}{g}\\right)} \\\\\n",
    "    \\frac{T^2}{4\\pi^2} = \\left(\\frac{l}{g}\\right) \\\\\n",
    "    \\frac{4\\pi^2l}{T^2} = g\n",
    "\\end{align}\n",
    "\n",
    "Using the data you recorded last time, estimate the value of $g$ for each of your three lengths (make sure $l$ is in meters!)"
   ]
  },
  {
   "cell_type": "markdown",
   "metadata": {
    "slideshow": {
     "slide_type": "slide"
    }
   },
   "source": [
    "## That's it!\n",
    "\n",
    "Thanks for being a great class! Arrivederci!"
   ]
  }
 ],
 "metadata": {
  "celltoolbar": "Slideshow",
  "kernelspec": {
   "display_name": "Python 3",
   "language": "python",
   "name": "python3"
  },
  "language_info": {
   "codemirror_mode": {
    "name": "ipython",
    "version": 3
   },
   "file_extension": ".py",
   "mimetype": "text/x-python",
   "name": "python",
   "nbconvert_exporter": "python",
   "pygments_lexer": "ipython3",
   "version": "3.5.2"
  }
 },
 "nbformat": 4,
 "nbformat_minor": 2
}
