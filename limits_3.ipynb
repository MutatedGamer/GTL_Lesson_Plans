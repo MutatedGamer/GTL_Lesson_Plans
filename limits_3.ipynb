{
 "cells": [
  {
   "cell_type": "code",
   "execution_count": 2,
   "metadata": {
    "hideCode": true,
    "hidePrompt": true,
    "slideshow": {
     "slide_type": "skip"
    }
   },
   "outputs": [
    {
     "data": {
      "text/html": [
       "<style> table {max-width: 100%; width: 80%;} th {font-size: 3em; text-align:center;} td {font-size: 2.5em }</style>"
      ],
      "text/plain": [
       "<IPython.core.display.HTML object>"
      ]
     },
     "metadata": {},
     "output_type": "display_data"
    },
    {
     "data": {
      "text/html": [
       "<style> .text_cell_render ol {width: 95%;} .text_cell_render ul {width: 95%; }</style>"
      ],
      "text/plain": [
       "<IPython.core.display.HTML object>"
      ]
     },
     "metadata": {},
     "output_type": "display_data"
    }
   ],
   "source": [
    "import matplotlib.pyplot as plt\n",
    "import matplotlib.ticker as ticker\n",
    "import numpy as np\n",
    "\n",
    "plt.rc('text', usetex=True)\n",
    "plt.rc('font', family='serif')\n",
    "from IPython.core.display import display, HTML\n",
    "display(HTML(\"<style> table {max-width: 100%; width: 80%;} th {font-size: 3em; text-align:center;} td {font-size: 2.5em }</style>\"))\n",
    "display(HTML(\"<style> .text_cell_render ol {width: 95%;} .text_cell_render ul {width: 95%; }</style>\"))"
   ]
  },
  {
   "cell_type": "markdown",
   "metadata": {
    "hideCode": true,
    "hidePrompt": true,
    "slideshow": {
     "slide_type": "slide"
    }
   },
   "source": [
    "# Limits Day 3"
   ]
  },
  {
   "cell_type": "markdown",
   "metadata": {
    "hideCode": true,
    "hidePrompt": true,
    "slideshow": {
     "slide_type": "slide"
    }
   },
   "source": [
    "## Warm-Up Questions!\n",
    "\n",
    "1. What is\n",
    "\n",
    "\\begin{equation}\n",
    "    \\lim_{x \\rightarrow 10} \\ \\frac{-1}{(x-10)^4}\n",
    "\\end{equation}"
   ]
  },
  {
   "cell_type": "markdown",
   "metadata": {
    "hideCode": true,
    "hidePrompt": true,
    "slideshow": {
     "slide_type": "fragment"
    }
   },
   "source": [
    "\\begin{equation}\n",
    "    \\lim_{x \\rightarrow 10} \\ \\frac{-1}{(x-10)^4} = -\\infty\n",
    "\\end{equation}"
   ]
  },
  {
   "cell_type": "markdown",
   "metadata": {
    "hideCode": true,
    "hidePrompt": true,
    "slideshow": {
     "slide_type": "subslide"
    }
   },
   "source": [
    "## Warm-Up Questions!\n",
    "2. What is\n",
    "\n",
    "\\begin{equation}\n",
    "    \\lim_{x \\rightarrow \\infty} \\ \\log(x)\n",
    "\\end{equation}"
   ]
  },
  {
   "cell_type": "markdown",
   "metadata": {
    "hideCode": true,
    "hidePrompt": true,
    "slideshow": {
     "slide_type": "fragment"
    }
   },
   "source": [
    "\\begin{equation}\n",
    "    \\lim_{x \\rightarrow \\infty} \\ \\log(x) = \\infty\n",
    "\\end{equation}"
   ]
  },
  {
   "cell_type": "markdown",
   "metadata": {
    "hideCode": true,
    "hidePrompt": true,
    "slideshow": {
     "slide_type": "subslide"
    }
   },
   "source": [
    "## Warm-Up Questions!\n",
    "3. What is\n",
    "\n",
    "\\begin{equation}\n",
    "    \\lim_{x \\rightarrow \\infty} \\ \\frac{-(x^3 + 2)}{x^2}\n",
    "\\end{equation}"
   ]
  },
  {
   "cell_type": "markdown",
   "metadata": {
    "hideCode": true,
    "hidePrompt": true,
    "slideshow": {
     "slide_type": "fragment"
    }
   },
   "source": [
    "\\begin{equation}\n",
    "    \\lim_{x \\rightarrow \\infty} \\ \\frac{-(x^3 + 2)}{x^2} = -\\infty\n",
    "\\end{equation}"
   ]
  },
  {
   "cell_type": "markdown",
   "metadata": {
    "hideCode": true,
    "hidePrompt": true,
    "slideshow": {
     "slide_type": "slide"
    }
   },
   "source": [
    "## Converging Functions\n",
    "\n",
    "So far we've seen graphs that _diverge_ as $x$ grows large. Let's look now at some graphs that _converge_ as $x$ grows large. \n",
    "\n",
    "Consider the function\n",
    "\n",
    "\\begin{equation}\n",
    "    f(x) = \\frac{1}{x}\n",
    "\\end{equation}\n",
    "\n",
    "What happens as $x \\rightarrow \\infty$?"
   ]
  },
  {
   "cell_type": "markdown",
   "metadata": {
    "hideCode": true,
    "hidePrompt": true,
    "slideshow": {
     "slide_type": "subslide"
    }
   },
   "source": [
    "## Converging Functions\n",
    "\\begin{equation}\n",
    "    f(x) = \\frac{1}{x}\n",
    "\\end{equation}\n",
    "\n",
    "As $x \\rightarrow \\infty$, the denominator gets larger and larger and $f(x) \\rightarrow 0$. So,\n",
    "\n",
    "\\begin{equation}\n",
    "    \\lim_{x \\rightarrow \\infty} \\ \\frac{1}{x} = 0\n",
    "\\end{equation}\n",
    "\n",
    "This is different from what we've seen so far!\n",
    "\n",
    "Our function is **_converging_** to a value of $0$ as $x$ grows infinitely large!"
   ]
  },
  {
   "cell_type": "markdown",
   "metadata": {
    "hideCode": true,
    "hidePrompt": true,
    "slideshow": {
     "slide_type": "slide"
    }
   },
   "source": [
    "## Another example\n",
    "\n",
    "Let's look at another example. Consider the function\n",
    "\n",
    "\\begin{equation}\n",
    "    f(x) = \\frac{3x^2 + 2x - 5}{x^5}\n",
    "\\end{equation}\n",
    "\n",
    "What happens as $x \\rightarrow \\infty$?"
   ]
  },
  {
   "cell_type": "markdown",
   "metadata": {
    "hideCode": true,
    "hidePrompt": true,
    "slideshow": {
     "slide_type": "fragment"
    }
   },
   "source": [
    "Like last time, we can just consider the highest order terms. Since $x^5$ grows faster than $x^2$, the denominator is growing faster. Thus\n",
    "\n",
    "\\begin{equation}\n",
    "    \\lim_{x \\rightarrow \\infty} \\ \\frac{3x^2 + 2x - 5}{x^5} = \\lim_{x \\rightarrow \\infty} \\ \\frac{3x^2}{x^5} = 0\n",
    "\\end{equation}"
   ]
  },
  {
   "cell_type": "markdown",
   "metadata": {
    "hideCode": true,
    "hidePrompt": true,
    "slideshow": {
     "slide_type": "slide"
    }
   },
   "source": [
    "## Concept Question\n",
    "\n",
    "<span style=\"color: green\">True</span> or <span style=\"color: red\">False</span>: If a function converges to a value, that value will always be zero."
   ]
  },
  {
   "cell_type": "markdown",
   "metadata": {
    "hideCode": true,
    "hidePrompt": true,
    "slideshow": {
     "slide_type": "subslide"
    }
   },
   "source": [
    "<span style=\"color: red\">False!</span> Let's look at the function\n",
    "\n",
    "\\begin{equation}\n",
    "    f(x) = \\frac{2x^3 + 25x - 19352}{x^3 - 5}\n",
    "\\end{equation}"
   ]
  },
  {
   "cell_type": "markdown",
   "metadata": {
    "hideCode": true,
    "hidePrompt": true,
    "slideshow": {
     "slide_type": "fragment"
    }
   },
   "source": [
    "When taking the limit, we just consider the highest order terms\n",
    "\\begin{equation}\n",
    "    \\lim_{x \\rightarrow \\infty} \\ f(x) = \\lim_{x \\rightarrow \\infty} \\ \\frac{2x^3}{x^3}\n",
    "\\end{equation}"
   ]
  },
  {
   "cell_type": "markdown",
   "metadata": {
    "hideCode": true,
    "hidePrompt": true,
    "slideshow": {
     "slide_type": "fragment"
    }
   },
   "source": [
    "Now we can ignore any constants\n",
    "\\begin{equation}\n",
    "    \\lim_{x \\rightarrow \\infty} \\ \\frac{2x^3}{x^3} = 2 \\lim_{x \\rightarrow \\infty} \\ \\frac{x^3}{x^3}\n",
    "\\end{equation}"
   ]
  },
  {
   "cell_type": "markdown",
   "metadata": {
    "hideCode": true,
    "hidePrompt": true,
    "slideshow": {
     "slide_type": "fragment"
    }
   },
   "source": [
    "That limit is just one! Thus\n",
    "\\begin{equation}\n",
    "    \\lim_{x \\rightarrow \\infty} \\ \\frac{2x^3 + 25x - 19352}{x^3 - 5} = 2\n",
    "\\end{equation}"
   ]
  },
  {
   "cell_type": "code",
   "execution_count": 21,
   "metadata": {
    "hideCode": true,
    "hidePrompt": true
   },
   "outputs": [
    {
     "data": {
      "image/png": "[encoded data removed]",
      "text/plain": [
       "<Figure size 360x288 with 1 Axes>"
      ]
     },
     "metadata": {
      "needs_background": "light"
     },
     "output_type": "display_data"
    }
   ],
   "source": [
    "#hideme\n",
    "\n",
    "import math\n",
    "\n",
    "def f(x):\n",
    "    return (2*x**3 + 25*x - 19352)/(x**3 - 5)\n",
    "\n",
    "\n",
    "\n",
    "def makeArrowY(ax,pos,function,direction):\n",
    "    delta = 0.0001 if direction >= 0 else -0.01\n",
    "    ax.arrow(pos,function(pos),delta,function(pos+delta)-function(pos),head_width=0.08,head_length=0.2, color=\"#1f77b4\")\n",
    "   \n",
    "def makeArrowX(ax,pos,function,direction):\n",
    "    delta = 0.0001 if direction >= 0 else -0.01\n",
    "    ax.arrow(pos,function(pos),delta,function(pos+delta)-function(pos),head_width=0.5,head_length=2, color=\"#1f77b4\")\n",
    "\n",
    "\n",
    "fig = plt.figure(figsize=(5, 4))\n",
    "ax = fig.add_subplot(111)\n",
    "ax.set_title(\"$y = f(x)$\", fontsize=20)\n",
    "\n",
    "#xleft = np.arange(-4, 0.99, 0.001)\n",
    "xright = np.arange(-10, 300, 0.01)\n",
    "yright = f(xright)\n",
    "#yleft = f(xleft)\n",
    "#ax.plot(xleft, yleft)\n",
    "ax.plot(xright, yright, color=\"#1f77b4\")\n",
    "ax.set_ylim(0, 2.2)\n",
    "#ax.yaxis.set_major_locator(ticker.MultipleLocator(1))\n",
    "\n",
    "#ax.plot(1, 2, marker='o', linewidth=0, markersize=5, markerfacecolor=\"None\",\n",
    "         #markeredgecolor='black')\n",
    "\n",
    "\n",
    "#makeArrowX(ax, -2, f, -1)\n",
    "#makeArrowX(ax, 2, f, 1)\n",
    "\n",
    "\n",
    "ax.grid(True)\n",
    "\n",
    "ax.spines['left'].set_position('zero')\n",
    "ax.spines['right'].set_color('none')\n",
    "ax.spines['bottom'].set_position('zero')\n",
    "ax.spines['top'].set_color('none')\n",
    "ax.xaxis.set_ticks_position('bottom')\n",
    "ax.yaxis.set_ticks_position('left')"
   ]
  },
  {
   "cell_type": "markdown",
   "metadata": {
    "slideshow": {
     "slide_type": "slide"
    }
   },
   "source": [
    "## The Overall Rule\n",
    "When taking\n",
    "\\begin{equation}\n",
    "    \\lim_{x \\rightarrow \\infty} \\ \\frac{p(x)}{q(x)}\n",
    "\\end{equation}\n",
    "* If $p(x)$ grows faster than $q(x)$, then the limit diverges to $\\pm \\infty$\n",
    "    * Check by either plugging in a value, or looking at the sign of the highest order terms!"
   ]
  },
  {
   "cell_type": "markdown",
   "metadata": {
    "slideshow": {
     "slide_type": "fragment"
    }
   },
   "source": [
    "* If $q(x)$ grows faster than $p(x)$, then the limit converges to $0$"
   ]
  },
  {
   "cell_type": "markdown",
   "metadata": {
    "slideshow": {
     "slide_type": "fragment"
    }
   },
   "source": [
    "* If $p(x)$ and $q(x)$ grow at the same rate, then the limit converges to the ratio of the coeffecients of the highest order terms\n",
    "    * For example, if $p(x) = 7x^5 + 12x^2 - \\log(x)$ and $q(x) = 9x^5 - 1321x +25$, then the limit converges to $\\frac{7}{9}$"
   ]
  },
  {
   "cell_type": "markdown",
   "metadata": {
    "slideshow": {
     "slide_type": "slide"
    }
   },
   "source": [
    "## Let's Practice\n",
    "In **_groups of 3_** evaluate the following limits\n",
    "<div id=\"left\">\n",
    "   \n",
    "   \n",
    "$\\displaystyle\\lim_{x \\rightarrow \\infty} \\ \\frac{5x^3 - 12x + 21}{7x^3 - 21x + 9}$\n",
    "\n",
    "\n",
    "$\\displaystyle\\lim_{x \\rightarrow \\infty} \\ \\frac{\\log(x) + x}{\\log(x)}$\n",
    "\n",
    "\n",
    "$\\displaystyle\\lim_{x \\rightarrow \\infty} \\ \\frac{2^x}{x^{20}\\log(x)}$\n",
    "\n",
    "\n",
    "$\\displaystyle\\lim_{x \\rightarrow \\infty} \\ \\frac{16\\log(x)}{20\\log(x)}$\n",
    "\n",
    "\n",
    "$\\displaystyle\\lim_{x \\rightarrow \\infty} \\ \\frac{2\\log(x)}{4\\log(x)^2}$\n",
    "\n",
    "</div>\n",
    "<div id=\"right\">\n",
    "\n",
    "$\\displaystyle\\lim_{x \\rightarrow \\infty} \\ \\frac{1}{(x + 4)}$\n",
    "\n",
    "$\\displaystyle\\lim_{x \\rightarrow \\infty} \\ \\frac{3e^x + \\log(x)}{2e^x + 4x^3}$\n",
    "\n",
    "$\\displaystyle\\lim_{x \\rightarrow \\infty} \\ x\\log(x)$\n",
    "\n",
    "$\\displaystyle\\lim_{x \\rightarrow \\infty} \\ 3$\n",
    "\n",
    "$\\displaystyle\\lim_{x \\rightarrow \\infty} \\ \\frac{x - \\log(x)}{x}$\n",
    "\n",
    "</div>"
   ]
  },
  {
   "cell_type": "markdown",
   "metadata": {
    "slideshow": {
     "slide_type": "subslide"
    }
   },
   "source": [
    "## Let's Practice\n",
    "In **_groups of 3_** evaluate the following limits\n",
    "<div id=\"left\">\n",
    "        \n",
    "$\\displaystyle\\lim_{x \\rightarrow \\infty} \\ \\frac{5x^3 - 12x + 21}{7x^3 - 21x + 9} = \\frac{5}{7}$\n",
    "\n",
    "\n",
    "$\\displaystyle\\lim_{x \\rightarrow \\infty} \\ \\frac{\\log(x) + x}{\\log(x)}$\n",
    "\n",
    "\n",
    "$\\displaystyle\\lim_{x \\rightarrow \\infty} \\ \\frac{2^x}{x^{20}\\log(x)}$\n",
    "\n",
    "\n",
    "$\\displaystyle\\lim_{x \\rightarrow \\infty} \\ \\frac{16\\log(x)}{20\\log(x)}$\n",
    "\n",
    "\n",
    "$\\displaystyle\\lim_{x \\rightarrow \\infty} \\ \\frac{2\\log(x)}{4\\log(x)^2}$\n",
    "\n",
    "\n",
    "</div>\n",
    "<div id=\"right\">\n",
    "\n",
    "$\\displaystyle\\lim_{x \\rightarrow \\infty} \\ \\frac{1}{(x + 4)}$\n",
    "\n",
    "\n",
    "$\\displaystyle\\lim_{x \\rightarrow \\infty} \\ \\frac{3e^x + \\log(x)}{2e^x + 4x^3}$\n",
    "\n",
    "\n",
    "$\\displaystyle\\lim_{x \\rightarrow \\infty} \\ x\\log(x)$\n",
    "\n",
    "\n",
    "$\\displaystyle\\lim_{x \\rightarrow \\infty} \\ 3$\n",
    "\n",
    "\n",
    "$\\displaystyle\\lim_{x \\rightarrow \\infty} \\ \\frac{x - \\log(x)}{x}$\n",
    "\n",
    "</div>"
   ]
  },
  {
   "cell_type": "markdown",
   "metadata": {
    "slideshow": {
     "slide_type": "subslide"
    }
   },
   "source": [
    "## Let's Practice\n",
    "In **_groups of 3_** evaluate the following limits\n",
    "<div id=\"left\">\n",
    "        \n",
    "$\\displaystyle\\lim_{x \\rightarrow \\infty} \\ \\frac{5x^3 - 12x + 21}{7x^3 - 21x + 9} = \\frac{5}{7}$\n",
    "\n",
    "\n",
    "$\\displaystyle\\lim_{x \\rightarrow \\infty} \\ \\frac{\\log(x) + x}{\\log(x)} = \\infty$\n",
    "\n",
    "\n",
    "$\\displaystyle\\lim_{x \\rightarrow \\infty} \\ \\frac{2^x}{x^{20}\\log(x)}$\n",
    "\n",
    "\n",
    "$\\displaystyle\\lim_{x \\rightarrow \\infty} \\ \\frac{16\\log(x)}{20\\log(x)}$\n",
    "\n",
    "\n",
    "$\\displaystyle\\lim_{x \\rightarrow \\infty} \\ \\frac{2\\log(x)}{4\\log(x)^2}$\n",
    "\n",
    "\n",
    "</div>\n",
    "<div id=\"right\">\n",
    "\n",
    "$\\displaystyle\\lim_{x \\rightarrow \\infty} \\ \\frac{1}{(x + 4)}$\n",
    "\n",
    "\n",
    "$\\displaystyle\\lim_{x \\rightarrow \\infty} \\ \\frac{3e^x + \\log(x)}{2e^x + 4x^3}$\n",
    "\n",
    "\n",
    "$\\displaystyle\\lim_{x \\rightarrow \\infty} \\ x\\log(x)$\n",
    "\n",
    "\n",
    "$\\displaystyle\\lim_{x \\rightarrow \\infty} \\ 3$\n",
    "\n",
    "\n",
    "$\\displaystyle\\lim_{x \\rightarrow \\infty} \\ \\frac{x - \\log(x)}{x}$\n",
    "\n",
    "\n",
    "</div>"
   ]
  },
  {
   "cell_type": "markdown",
   "metadata": {
    "slideshow": {
     "slide_type": "subslide"
    }
   },
   "source": [
    "## Let's Practice\n",
    "In **_groups of 3_** evaluate the following limits\n",
    "<div id=\"left\">\n",
    "        \n",
    "$\\displaystyle\\lim_{x \\rightarrow \\infty} \\ \\frac{5x^3 - 12x + 21}{7x^3 - 21x + 9} = \\frac{5}{7}$\n",
    "\n",
    "\n",
    "$\\displaystyle\\lim_{x \\rightarrow \\infty} \\ \\frac{\\log(x) + x}{\\log(x)} = \\infty$\n",
    "\n",
    "\n",
    "$\\displaystyle\\lim_{x \\rightarrow \\infty} \\ \\frac{2^x}{x^{20}\\log(x)} = \\infty$\n",
    "\n",
    "\n",
    "$\\displaystyle\\lim_{x \\rightarrow \\infty} \\ \\frac{16\\log(x)}{20\\log(x)}$\n",
    "\n",
    "\n",
    "$\\displaystyle\\lim_{x \\rightarrow \\infty} \\ \\frac{2\\log(x)}{4\\log(x)^2}$\n",
    "\n",
    "</div>\n",
    "<div id=\"right\">\n",
    "\n",
    "$\\displaystyle\\lim_{x \\rightarrow \\infty} \\ \\frac{1}{(x + 4)}$\n",
    "\n",
    "\n",
    "$\\displaystyle\\lim_{x \\rightarrow \\infty} \\ \\frac{3e^x + \\log(x)}{2e^x + 4x^3}$\n",
    "\n",
    "\n",
    "$\\displaystyle\\lim_{x \\rightarrow \\infty} \\ x\\log(x)$\n",
    "\n",
    "\n",
    "$\\displaystyle\\lim_{x \\rightarrow \\infty} \\ 3$\n",
    "\n",
    "\n",
    "$\\displaystyle\\lim_{x \\rightarrow \\infty} \\ \\frac{x - \\log(x)}{x}$\n",
    "\n",
    "</div>"
   ]
  },
  {
   "cell_type": "markdown",
   "metadata": {
    "slideshow": {
     "slide_type": "subslide"
    }
   },
   "source": [
    "## Let's Practice\n",
    "In **_groups of 3_** evaluate the following limits\n",
    "<div id=\"left\">\n",
    "        \n",
    "$\\displaystyle\\lim_{x \\rightarrow \\infty} \\ \\frac{5x^3 - 12x + 21}{7x^3 - 21x + 9} = \\frac{5}{7}$\n",
    "\n",
    "\n",
    "$\\displaystyle\\lim_{x \\rightarrow \\infty} \\ \\frac{\\log(x) + x}{\\log(x)} = \\infty$\n",
    "\n",
    "\n",
    "$\\displaystyle\\lim_{x \\rightarrow \\infty} \\ \\frac{2^x}{x^{20}\\log(x)} = \\infty$\n",
    "\n",
    "\n",
    "$\\displaystyle\\lim_{x \\rightarrow \\infty} \\ \\frac{16\\log(x)}{20\\log(x)} = \\frac{4}{5}$\n",
    "\n",
    "\n",
    "$\\displaystyle\\lim_{x \\rightarrow \\infty} \\ \\frac{2\\log(x)}{4\\log(x)^2}$\n",
    "\n",
    "</div>\n",
    "<div id=\"right\">\n",
    "\n",
    "$\\displaystyle\\lim_{x \\rightarrow \\infty} \\ \\frac{1}{(x + 4)}$\n",
    "\n",
    "\n",
    "$\\displaystyle\\lim_{x \\rightarrow \\infty} \\ \\frac{3e^x + \\log(x)}{2e^x + 4x^3}$\n",
    "\n",
    "\n",
    "$\\displaystyle\\lim_{x \\rightarrow \\infty} \\ x\\log(x)$\n",
    "\n",
    "\n",
    "$\\displaystyle\\lim_{x \\rightarrow \\infty} \\ 3$\n",
    "\n",
    "\n",
    "$\\displaystyle\\lim_{x \\rightarrow \\infty} \\ \\frac{x - \\log(x)}{x}$\n",
    "\n",
    "</div>"
   ]
  },
  {
   "cell_type": "markdown",
   "metadata": {
    "slideshow": {
     "slide_type": "subslide"
    }
   },
   "source": [
    "## Let's Practice\n",
    "In **_groups of 3_** evaluate the following limits\n",
    "<div id=\"left\">\n",
    "        \n",
    "$\\displaystyle\\lim_{x \\rightarrow \\infty} \\ \\frac{5x^3 - 12x + 21}{7x^3 - 21x + 9} = \\frac{5}{7}$\n",
    "\n",
    "\n",
    "$\\displaystyle\\lim_{x \\rightarrow \\infty} \\ \\frac{\\log(x) + x}{\\log(x)} = \\infty$\n",
    "\n",
    "\n",
    "$\\displaystyle\\lim_{x \\rightarrow \\infty} \\ \\frac{2^x}{x^{20}\\log(x)} = \\infty$\n",
    "\n",
    "\n",
    "$\\displaystyle\\lim_{x \\rightarrow \\infty} \\ \\frac{16\\log(x)}{20\\log(x)} = \\frac{4}{5}$\n",
    "\n",
    "\n",
    "$\\displaystyle\\lim_{x \\rightarrow \\infty} \\ \\frac{2\\log(x)}{4\\log(x)^2} = 0$\n",
    "\n",
    "</div>\n",
    "<div id=\"right\">\n",
    "\n",
    "$\\displaystyle\\lim_{x \\rightarrow \\infty} \\ \\frac{1}{(x + 4)}$\n",
    "\n",
    "\n",
    "$\\displaystyle\\lim_{x \\rightarrow \\infty} \\ \\frac{3e^x + \\log(x)}{2e^x + 4x^3}$\n",
    "\n",
    "\n",
    "$\\displaystyle\\lim_{x \\rightarrow \\infty} \\ x\\log(x)$\n",
    "\n",
    "\n",
    "$\\displaystyle\\lim_{x \\rightarrow \\infty} \\ 3$\n",
    "\n",
    "\n",
    "$\\displaystyle\\lim_{x \\rightarrow \\infty} \\ \\frac{x - \\log(x)}{x}$\n",
    "\n",
    "</div>"
   ]
  },
  {
   "cell_type": "markdown",
   "metadata": {
    "slideshow": {
     "slide_type": "subslide"
    }
   },
   "source": [
    "## Let's Practice\n",
    "In **_groups of 3_** evaluate the following limits\n",
    "<div id=\"left\">\n",
    "        \n",
    "$\\displaystyle\\lim_{x \\rightarrow \\infty} \\ \\frac{5x^3 - 12x + 21}{7x^3 - 21x + 9} = \\frac{5}{7}$\n",
    "\n",
    "\n",
    "$\\displaystyle\\lim_{x \\rightarrow \\infty} \\ \\frac{\\log(x) + x}{\\log(x)} = \\infty$\n",
    "\n",
    "\n",
    "$\\displaystyle\\lim_{x \\rightarrow \\infty} \\ \\frac{2^x}{x^{20}\\log(x)} = \\infty$\n",
    "\n",
    "\n",
    "$\\displaystyle\\lim_{x \\rightarrow \\infty} \\ \\frac{16\\log(x)}{20\\log(x)} = \\frac{4}{5}$\n",
    "\n",
    "\n",
    "$\\displaystyle\\lim_{x \\rightarrow \\infty} \\ \\frac{2\\log(x)}{4\\log(x)^2} = 0$\n",
    "\n",
    "</div>\n",
    "<div id=\"right\">\n",
    "\n",
    "$\\displaystyle\\lim_{x \\rightarrow \\infty} \\ \\frac{1}{(x + 4)} = 0$\n",
    "\n",
    "\n",
    "$\\displaystyle\\lim_{x \\rightarrow \\infty} \\ \\frac{3e^x + \\log(x)}{2e^x + 4x^3}$\n",
    "\n",
    "\n",
    "$\\displaystyle\\lim_{x \\rightarrow \\infty} \\ x\\log(x)$\n",
    "\n",
    "\n",
    "$\\displaystyle\\lim_{x \\rightarrow \\infty} \\ 3$\n",
    "\n",
    "\n",
    "$\\displaystyle\\lim_{x \\rightarrow \\infty} \\ \\frac{x - \\log(x)}{x}$\n",
    "\n",
    "</div>"
   ]
  },
  {
   "cell_type": "markdown",
   "metadata": {
    "slideshow": {
     "slide_type": "subslide"
    }
   },
   "source": [
    "## Let's Practice\n",
    "In **_groups of 3_** evaluate the following limits\n",
    "<div id=\"left\">\n",
    "        \n",
    "$\\displaystyle\\lim_{x \\rightarrow \\infty} \\ \\frac{5x^3 - 12x + 21}{7x^3 - 21x + 9} = \\frac{5}{7}$\n",
    "\n",
    "\n",
    "$\\displaystyle\\lim_{x \\rightarrow \\infty} \\ \\frac{\\log(x) + x}{\\log(x)} = \\infty$\n",
    "\n",
    "\n",
    "$\\displaystyle\\lim_{x \\rightarrow \\infty} \\ \\frac{2^x}{x^{20}\\log(x)} = \\infty$\n",
    "\n",
    "\n",
    "$\\displaystyle\\lim_{x \\rightarrow \\infty} \\ \\frac{16\\log(x)}{20\\log(x)} = \\frac{4}{5}$\n",
    "\n",
    "\n",
    "$\\displaystyle\\lim_{x \\rightarrow \\infty} \\ \\frac{2\\log(x)}{4\\log(x)^2} = 0$\n",
    "\n",
    "</div>\n",
    "<div id=\"right\">\n",
    "\n",
    "$\\displaystyle\\lim_{x \\rightarrow \\infty} \\ \\frac{1}{(x + 4)} = 0$\n",
    "\n",
    "\n",
    "$\\displaystyle\\lim_{x \\rightarrow \\infty} \\ \\frac{3e^x + \\log(x)}{2e^x + 4x^3} = \\frac{3}{2}$\n",
    "\n",
    "\n",
    "$\\displaystyle\\lim_{x \\rightarrow \\infty} \\ x\\log(x)$\n",
    "\n",
    "\n",
    "$\\displaystyle\\lim_{x \\rightarrow \\infty} \\ 3$\n",
    "\n",
    "\n",
    "$\\displaystyle\\lim_{x \\rightarrow \\infty} \\ \\frac{x - \\log(x)}{x}$\n",
    "\n",
    "</div>"
   ]
  },
  {
   "cell_type": "markdown",
   "metadata": {
    "slideshow": {
     "slide_type": "subslide"
    }
   },
   "source": [
    "## Let's Practice\n",
    "In **_groups of 3_** evaluate the following limits\n",
    "<div id=\"left\">\n",
    "        \n",
    "$\\displaystyle\\lim_{x \\rightarrow \\infty} \\ \\frac{5x^3 - 12x + 21}{7x^3 - 21x + 9} = \\frac{5}{7}$\n",
    "\n",
    "\n",
    "$\\displaystyle\\lim_{x \\rightarrow \\infty} \\ \\frac{\\log(x) + x}{\\log(x)} = \\infty$\n",
    "\n",
    "\n",
    "$\\displaystyle\\lim_{x \\rightarrow \\infty} \\ \\frac{2^x}{x^{20}\\log(x)} = \\infty$\n",
    "\n",
    "\n",
    "$\\displaystyle\\lim_{x \\rightarrow \\infty} \\ \\frac{16\\log(x)}{20\\log(x)} = \\frac{4}{5}$\n",
    "\n",
    "\n",
    "$\\displaystyle\\lim_{x \\rightarrow \\infty} \\ \\frac{2\\log(x)}{4\\log(x)^2} = 0$\n",
    "\n",
    "</div>\n",
    "<div id=\"right\">\n",
    "\n",
    "$\\displaystyle\\lim_{x \\rightarrow \\infty} \\ \\frac{1}{(x + 4)} = 0$\n",
    "\n",
    "\n",
    "$\\displaystyle\\lim_{x \\rightarrow \\infty} \\ \\frac{3e^x + \\log(x)}{2e^x + 4x^3} = \\frac{3}{2}$\n",
    "\n",
    "\n",
    "$\\displaystyle\\lim_{x \\rightarrow \\infty} \\ x\\log(x) = \\infty$\n",
    "\n",
    "\n",
    "$\\displaystyle\\lim_{x \\rightarrow \\infty} \\ 3$\n",
    "\n",
    "\n",
    "$\\displaystyle\\lim_{x \\rightarrow \\infty} \\ \\frac{x - \\log(x)}{x}$\n",
    "\n",
    "</div>"
   ]
  },
  {
   "cell_type": "markdown",
   "metadata": {
    "slideshow": {
     "slide_type": "subslide"
    }
   },
   "source": [
    "## Let's Practice\n",
    "In **_groups of 3_** evaluate the following limits\n",
    "<div id=\"left\">\n",
    "        \n",
    "$\\displaystyle\\lim_{x \\rightarrow \\infty} \\ \\frac{5x^3 - 12x + 21}{7x^3 - 21x + 9} = \\frac{5}{7}$\n",
    "\n",
    "\n",
    "$\\displaystyle\\lim_{x \\rightarrow \\infty} \\ \\frac{\\log(x) + x}{\\log(x)} = \\infty$\n",
    "\n",
    "\n",
    "$\\displaystyle\\lim_{x \\rightarrow \\infty} \\ \\frac{2^x}{x^{20}\\log(x)} = \\infty$\n",
    "\n",
    "\n",
    "$\\displaystyle\\lim_{x \\rightarrow \\infty} \\ \\frac{16\\log(x)}{20\\log(x)} = \\frac{4}{5}$\n",
    "\n",
    "\n",
    "$\\displaystyle\\lim_{x \\rightarrow \\infty} \\ \\frac{2\\log(x)}{4\\log(x)^2} = 0$\n",
    "\n",
    "</div>\n",
    "<div id=\"right\">\n",
    "\n",
    "$\\displaystyle\\lim_{x \\rightarrow \\infty} \\ \\frac{1}{(x + 4)} = 0$\n",
    "\n",
    "\n",
    "$\\displaystyle\\lim_{x \\rightarrow \\infty} \\ \\frac{3e^x + \\log(x)}{2e^x + 4x^3} = \\frac{3}{2}$\n",
    "\n",
    "\n",
    "$\\displaystyle\\lim_{x \\rightarrow \\infty} \\ x\\log(x) = \\infty$\n",
    "\n",
    "\n",
    "$\\displaystyle\\lim_{x \\rightarrow \\infty} \\ 3 = 3$\n",
    "\n",
    "\n",
    "$\\displaystyle\\lim_{x \\rightarrow \\infty} \\ \\frac{x - \\log(x)}{x}$\n",
    "\n",
    "</div>"
   ]
  },
  {
   "cell_type": "markdown",
   "metadata": {
    "slideshow": {
     "slide_type": "subslide"
    }
   },
   "source": [
    "## Let's Practice\n",
    "In **_groups of 3_** evaluate the following limits\n",
    "<div id=\"left\">\n",
    "        \n",
    "$\\displaystyle\\lim_{x \\rightarrow \\infty} \\ \\frac{5x^3 - 12x + 21}{7x^3 - 21x + 9} = \\frac{5}{7}$\n",
    "\n",
    "\n",
    "$\\displaystyle\\lim_{x \\rightarrow \\infty} \\ \\frac{\\log(x) + x}{\\log(x)} = \\infty$\n",
    "\n",
    "\n",
    "$\\displaystyle\\lim_{x \\rightarrow \\infty} \\ \\frac{2^x}{x^{20}\\log(x)} = \\infty$\n",
    "\n",
    "\n",
    "$\\displaystyle\\lim_{x \\rightarrow \\infty} \\ \\frac{16\\log(x)}{20\\log(x)} = \\frac{4}{5}$\n",
    "\n",
    "\n",
    "$\\displaystyle\\lim_{x \\rightarrow \\infty} \\ \\frac{2\\log(x)}{4\\log(x)^2} = 0$\n",
    "\n",
    "</div>\n",
    "<div id=\"right\">\n",
    "\n",
    "$\\displaystyle\\lim_{x \\rightarrow \\infty} \\ \\frac{1}{(x + 4)} = 0$\n",
    "\n",
    "\n",
    "$\\displaystyle\\lim_{x \\rightarrow \\infty} \\ \\frac{3e^x + \\log(x)}{2e^x + 4x^3} = \\frac{3}{2}$\n",
    "\n",
    "\n",
    "$\\displaystyle\\lim_{x \\rightarrow \\infty} \\ x\\log(x) = \\infty$\n",
    "\n",
    "\n",
    "$\\displaystyle\\lim_{x \\rightarrow \\infty} \\ 3 = 3$\n",
    "\n",
    "\n",
    "$\\displaystyle\\lim_{x \\rightarrow \\infty} \\ \\frac{x - \\log(x)}{x} = \\infty$\n",
    "\n",
    "</div>"
   ]
  },
  {
   "cell_type": "markdown",
   "metadata": {
    "slideshow": {
     "slide_type": "slide"
    }
   },
   "source": [
    "## Review\n",
    "\n",
    "<div id=\"left\">\n",
    "\n",
    "* We have seen how to evaluate a limit at a given point, $\\displaystyle\\lim_{x \\rightarrow a} \\ f(x)$\n",
    "    * First try to directly plug in $a$ and calculate $f(a)$\n",
    "    * If $f(a)$ is a value, that is the limit.\n",
    "    * If $f(a)$ is indeterminant, rewrite the limit and re-evaluate\n",
    "    * If $f(a)$ is not a value but is not indeterminant, it is an asymptote and is either $\\pm \\infty$ or undefined (in most cases)\n",
    "    \n",
    "</div>\n",
    "\n",
    "<div id=\"right\", style=\"text-align:left\">\n",
    "\n",
    "* We have also seen how to evaluate a limit at $\\infty$, $\\displaystyle\\lim_{x \\rightarrow \\infty} \\ f(x)$\n",
    "    * Consider the highest order/fastest growing terms (exponential $>>$ polynomial $>>$ logarithmic)\n",
    "    * If numerator grows faster, limit diverges\n",
    "    * If denominator grows faster, limit converges to $0$\n",
    "    * If both grow at same rate, limit converges to ratio of coeffecients\n",
    "</div>"
   ]
  }
 ],
 "metadata": {
  "celltoolbar": "Slideshow",
  "hide_code_all_hidden": true,
  "kernelspec": {
   "display_name": "Python 3",
   "language": "python",
   "name": "python3"
  },
  "language_info": {
   "codemirror_mode": {
    "name": "ipython",
    "version": 3
   },
   "file_extension": ".py",
   "mimetype": "text/x-python",
   "name": "python",
   "nbconvert_exporter": "python",
   "pygments_lexer": "ipython3",
   "version": "3.5.2"
  }
 },
 "nbformat": 4,
 "nbformat_minor": 2
}
